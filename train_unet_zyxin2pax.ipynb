{
 "cells": [
  {
   "cell_type": "code",
   "execution_count": 1,
   "id": "bb65f10a-db16-448e-8553-58f4cd29d584",
   "metadata": {},
   "outputs": [
    {
     "name": "stderr",
     "output_type": "stream",
     "text": [
      "/tmp/ipykernel_177346/3724148964.py:12: TqdmWarning: IProgress not found. Please update jupyter and ipywidgets. See https://ipywidgets.readthedocs.io/en/stable/user_install.html\n",
      "  from tqdm.autonotebook import tqdm\n"
     ]
    }
   ],
   "source": [
    "import argparse\n",
    "from itertools import product as iterprod\n",
    "import os\n",
    "import numpy as np\n",
    "import torch\n",
    "import torch.nn as nn\n",
    "import torch.nn.functional as F\n",
    "import torch.optim as optim\n",
    "from argparse import ArgumentParser\n",
    "import time\n",
    "from datetime import datetime\n",
    "from tqdm.autonotebook import tqdm\n",
    "import pandas as pd\n",
    "\n",
    "import matplotlib.pyplot as plt\n",
    "\n"
   ]
  },
  {
   "cell_type": "code",
   "execution_count": 2,
   "id": "73e7cee4",
   "metadata": {},
   "outputs": [],
   "source": [
    "import utils.data67_processing as dp\n",
    "\n",
    "\n",
    "from utils.UNeXt import UNet\n",
    "from utils.loss_inference import loss_function_dict\n",
    "\n",
    "import utils.nb_utils as nb_utils\n",
    "\n",
    "import pprint\n",
    "\n",
    "np.random.seed(11) # for reproducibility\n",
    "torch.manual_seed(11)\n",
    "\n",
    "\n",
    "%load_ext autoreload\n",
    "%autoreload 2\n",
    "%matplotlib inline"
   ]
  },
  {
   "cell_type": "code",
   "execution_count": 3,
   "id": "9f50c637",
   "metadata": {},
   "outputs": [],
   "source": [
    "batch_size = 8\n",
    "num_workers = 4\n",
    "\n",
    "# Device\n",
    "device = torch.device('cuda:0' if torch.cuda.is_available() else 'cpu')\n",
    "pin_memory = True if torch.cuda.is_available() else False"
   ]
  },
  {
   "cell_type": "code",
   "execution_count": 4,
   "id": "d5e98c2b",
   "metadata": {},
   "outputs": [
    {
     "data": {
      "text/plain": [
       "device(type='cuda', index=0)"
      ]
     },
     "execution_count": 4,
     "metadata": {},
     "output_type": "execute_result"
    }
   ],
   "source": [
    "device\n"
   ]
  },
  {
   "cell_type": "markdown",
   "id": "4f67c512-d865-4787-8900-b37ff14815ef",
   "metadata": {},
   "source": [
    "# Build dataset"
   ]
  },
  {
   "cell_type": "code",
   "execution_count": 4,
   "id": "b8f48878-9c77-4a04-8ec6-0186ae33dae5",
   "metadata": {},
   "outputs": [],
   "source": [
    "# Dataset\n",
    "directory  = '/net/projects/CLS/force_reference/data/TractionData_27_04_21_ZyxinPaxillin/'\n",
    "# directory  = '/net/projects/CLS/force_reference/data/ZyxAct_16kPa_small/'\n",
    "\n",
    "test_cells = 'cell_1'\n",
    "\n",
    "\n",
    "in_channels  = [[6]] # Example: [[4], [4,6], [4,6,7]]. Channel 4 is mask, 6 is zyxin, 7 is other protein (here actin)\n",
    "out_channels = (7)\n",
    "transform_kwargs = {'crop_size': 512,\n",
    "                    'output_channels': out_channels,\n",
    "                    'norm_output': {'rescale': 0.25, 'threshold': 0.4}\n",
    "                    }\n",
    "\n",
    "dataset_kwargs = { \n",
    "                    'root': directory,\n",
    "                    'force_load': False,\n",
    "                    'test_split': 'bycell',\n",
    "                    'test_cells': test_cells,\n",
    "                    'in_channels': in_channels, \n",
    "                    'out_channels': out_channels, \n",
    "                    'transform_kwargs': transform_kwargs,\n",
    "                    'frames_to_keep': 256,\n",
    "                    'input_baseline_normalization': 'outside_inside', # Comment on what these do\n",
    "                    'output_baseline_normalization': 'mean_dataset',\n",
    "                    'remake_dataset_csv': True\n",
    "                     }\n",
    "\n",
    "\n",
    "dataset = dp.CellDataset( **dataset_kwargs )\n",
    "\n",
    "train_loader = dataset.get_loader(dataset.train_indices, batch_size, num_workers, pin_memory)\n",
    "validation_loader = dataset.get_loader(dataset.test_indices, batch_size, num_workers, pin_memory)"
   ]
  },
  {
   "cell_type": "code",
   "execution_count": 5,
   "id": "1d2b1c80-bb7d-441b-822d-8c92a5b37a88",
   "metadata": {},
   "outputs": [
    {
     "data": {
      "text/plain": [
       "<utils.data67_processing.CellDataset at 0x7f3c172035f0>"
      ]
     },
     "execution_count": 5,
     "metadata": {},
     "output_type": "execute_result"
    }
   ],
   "source": [
    "dataset"
   ]
  },
  {
   "cell_type": "markdown",
   "id": "581858f1-cca6-4649-8e6d-03fee559b2a2",
   "metadata": {},
   "source": [
    "# Some visualizations of the training data"
   ]
  },
  {
   "cell_type": "markdown",
   "id": "37edcedc-9178-41e8-9e7c-0cf1a52ecc15",
   "metadata": {},
   "source": [
    "The dataset class gets items by looking into a dataframe (`dataset.info`) where the folders and filenames are stored. Folders correspond to single cells, and each file is a frame of the time series. \n",
    "\n",
    "`dataset.info` contains the normalization values which the data is normalized by before it is passed to the NN. Forces are normalized by `dataset.info.F_mean` and the zyxin signal is normalized by `dataset.info.zyxin_baseline_out` and `dataset.info.zyxin_baseline_in`. Details about how these are generated can be found in the DataProcessing notebook.\n",
    "    \n"
   ]
  },
  {
   "cell_type": "code",
   "execution_count": 6,
   "id": "8284c667-83dc-4ac8-b6c9-dcd3045a0206",
   "metadata": {},
   "outputs": [
    {
     "data": {
      "text/html": [
       "<div>\n",
       "<style scoped>\n",
       "    .dataframe tbody tr th:only-of-type {\n",
       "        vertical-align: middle;\n",
       "    }\n",
       "\n",
       "    .dataframe tbody tr th {\n",
       "        vertical-align: top;\n",
       "    }\n",
       "\n",
       "    .dataframe thead th {\n",
       "        text-align: right;\n",
       "    }\n",
       "</style>\n",
       "<table border=\"1\" class=\"dataframe\">\n",
       "  <thead>\n",
       "    <tr style=\"text-align: right;\">\n",
       "      <th></th>\n",
       "      <th>folder</th>\n",
       "      <th>filename</th>\n",
       "      <th>frame</th>\n",
       "      <th>root</th>\n",
       "      <th>zyxin_baseline</th>\n",
       "      <th>actin_baseline</th>\n",
       "      <th>zyxin_baseline_out</th>\n",
       "      <th>zyxin_baseline_in</th>\n",
       "      <th>actin_baseline_out</th>\n",
       "      <th>actin_baseline_in</th>\n",
       "    </tr>\n",
       "  </thead>\n",
       "  <tbody>\n",
       "    <tr>\n",
       "      <th>0</th>\n",
       "      <td>cell_5</td>\n",
       "      <td>Disp_Trac_CellMask_ForceMask_Actin_0.npy</td>\n",
       "      <td>0</td>\n",
       "      <td>/net/projects/CLS/force_reference/data/Tractio...</td>\n",
       "      <td>0.0</td>\n",
       "      <td>0.0</td>\n",
       "      <td>13.39028</td>\n",
       "      <td>86.818317</td>\n",
       "      <td>10.747155</td>\n",
       "      <td>25.830109</td>\n",
       "    </tr>\n",
       "    <tr>\n",
       "      <th>1</th>\n",
       "      <td>cell_5</td>\n",
       "      <td>Disp_Trac_CellMask_ForceMask_Actin_1.npy</td>\n",
       "      <td>1</td>\n",
       "      <td>/net/projects/CLS/force_reference/data/Tractio...</td>\n",
       "      <td>0.0</td>\n",
       "      <td>0.0</td>\n",
       "      <td>13.39028</td>\n",
       "      <td>86.818317</td>\n",
       "      <td>10.747155</td>\n",
       "      <td>25.830109</td>\n",
       "    </tr>\n",
       "    <tr>\n",
       "      <th>2</th>\n",
       "      <td>cell_5</td>\n",
       "      <td>Disp_Trac_CellMask_ForceMask_Actin_2.npy</td>\n",
       "      <td>2</td>\n",
       "      <td>/net/projects/CLS/force_reference/data/Tractio...</td>\n",
       "      <td>0.0</td>\n",
       "      <td>0.0</td>\n",
       "      <td>13.39028</td>\n",
       "      <td>86.818317</td>\n",
       "      <td>10.747155</td>\n",
       "      <td>25.830109</td>\n",
       "    </tr>\n",
       "    <tr>\n",
       "      <th>3</th>\n",
       "      <td>cell_5</td>\n",
       "      <td>Disp_Trac_CellMask_ForceMask_Actin_3.npy</td>\n",
       "      <td>3</td>\n",
       "      <td>/net/projects/CLS/force_reference/data/Tractio...</td>\n",
       "      <td>0.0</td>\n",
       "      <td>0.0</td>\n",
       "      <td>13.39028</td>\n",
       "      <td>86.818317</td>\n",
       "      <td>10.747155</td>\n",
       "      <td>25.830109</td>\n",
       "    </tr>\n",
       "    <tr>\n",
       "      <th>4</th>\n",
       "      <td>cell_5</td>\n",
       "      <td>Disp_Trac_CellMask_ForceMask_Actin_4.npy</td>\n",
       "      <td>4</td>\n",
       "      <td>/net/projects/CLS/force_reference/data/Tractio...</td>\n",
       "      <td>0.0</td>\n",
       "      <td>0.0</td>\n",
       "      <td>13.39028</td>\n",
       "      <td>86.818317</td>\n",
       "      <td>10.747155</td>\n",
       "      <td>25.830109</td>\n",
       "    </tr>\n",
       "    <tr>\n",
       "      <th>5</th>\n",
       "      <td>cell_5</td>\n",
       "      <td>Disp_Trac_CellMask_ForceMask_Actin_5.npy</td>\n",
       "      <td>5</td>\n",
       "      <td>/net/projects/CLS/force_reference/data/Tractio...</td>\n",
       "      <td>0.0</td>\n",
       "      <td>0.0</td>\n",
       "      <td>13.39028</td>\n",
       "      <td>86.818317</td>\n",
       "      <td>10.747155</td>\n",
       "      <td>25.830109</td>\n",
       "    </tr>\n",
       "    <tr>\n",
       "      <th>6</th>\n",
       "      <td>cell_5</td>\n",
       "      <td>Disp_Trac_CellMask_ForceMask_Actin_6.npy</td>\n",
       "      <td>6</td>\n",
       "      <td>/net/projects/CLS/force_reference/data/Tractio...</td>\n",
       "      <td>0.0</td>\n",
       "      <td>0.0</td>\n",
       "      <td>13.39028</td>\n",
       "      <td>86.818317</td>\n",
       "      <td>10.747155</td>\n",
       "      <td>25.830109</td>\n",
       "    </tr>\n",
       "    <tr>\n",
       "      <th>7</th>\n",
       "      <td>cell_5</td>\n",
       "      <td>Disp_Trac_CellMask_ForceMask_Actin_7.npy</td>\n",
       "      <td>7</td>\n",
       "      <td>/net/projects/CLS/force_reference/data/Tractio...</td>\n",
       "      <td>0.0</td>\n",
       "      <td>0.0</td>\n",
       "      <td>13.39028</td>\n",
       "      <td>86.818317</td>\n",
       "      <td>10.747155</td>\n",
       "      <td>25.830109</td>\n",
       "    </tr>\n",
       "    <tr>\n",
       "      <th>8</th>\n",
       "      <td>cell_5</td>\n",
       "      <td>Disp_Trac_CellMask_ForceMask_Actin_8.npy</td>\n",
       "      <td>8</td>\n",
       "      <td>/net/projects/CLS/force_reference/data/Tractio...</td>\n",
       "      <td>0.0</td>\n",
       "      <td>0.0</td>\n",
       "      <td>13.39028</td>\n",
       "      <td>86.818317</td>\n",
       "      <td>10.747155</td>\n",
       "      <td>25.830109</td>\n",
       "    </tr>\n",
       "    <tr>\n",
       "      <th>9</th>\n",
       "      <td>cell_5</td>\n",
       "      <td>Disp_Trac_CellMask_ForceMask_Actin_9.npy</td>\n",
       "      <td>9</td>\n",
       "      <td>/net/projects/CLS/force_reference/data/Tractio...</td>\n",
       "      <td>0.0</td>\n",
       "      <td>0.0</td>\n",
       "      <td>13.39028</td>\n",
       "      <td>86.818317</td>\n",
       "      <td>10.747155</td>\n",
       "      <td>25.830109</td>\n",
       "    </tr>\n",
       "  </tbody>\n",
       "</table>\n",
       "</div>"
      ],
      "text/plain": [
       "   folder                                  filename  frame  \\\n",
       "0  cell_5  Disp_Trac_CellMask_ForceMask_Actin_0.npy      0   \n",
       "1  cell_5  Disp_Trac_CellMask_ForceMask_Actin_1.npy      1   \n",
       "2  cell_5  Disp_Trac_CellMask_ForceMask_Actin_2.npy      2   \n",
       "3  cell_5  Disp_Trac_CellMask_ForceMask_Actin_3.npy      3   \n",
       "4  cell_5  Disp_Trac_CellMask_ForceMask_Actin_4.npy      4   \n",
       "5  cell_5  Disp_Trac_CellMask_ForceMask_Actin_5.npy      5   \n",
       "6  cell_5  Disp_Trac_CellMask_ForceMask_Actin_6.npy      6   \n",
       "7  cell_5  Disp_Trac_CellMask_ForceMask_Actin_7.npy      7   \n",
       "8  cell_5  Disp_Trac_CellMask_ForceMask_Actin_8.npy      8   \n",
       "9  cell_5  Disp_Trac_CellMask_ForceMask_Actin_9.npy      9   \n",
       "\n",
       "                                                root  zyxin_baseline  \\\n",
       "0  /net/projects/CLS/force_reference/data/Tractio...             0.0   \n",
       "1  /net/projects/CLS/force_reference/data/Tractio...             0.0   \n",
       "2  /net/projects/CLS/force_reference/data/Tractio...             0.0   \n",
       "3  /net/projects/CLS/force_reference/data/Tractio...             0.0   \n",
       "4  /net/projects/CLS/force_reference/data/Tractio...             0.0   \n",
       "5  /net/projects/CLS/force_reference/data/Tractio...             0.0   \n",
       "6  /net/projects/CLS/force_reference/data/Tractio...             0.0   \n",
       "7  /net/projects/CLS/force_reference/data/Tractio...             0.0   \n",
       "8  /net/projects/CLS/force_reference/data/Tractio...             0.0   \n",
       "9  /net/projects/CLS/force_reference/data/Tractio...             0.0   \n",
       "\n",
       "   actin_baseline  zyxin_baseline_out  zyxin_baseline_in  actin_baseline_out  \\\n",
       "0             0.0            13.39028          86.818317           10.747155   \n",
       "1             0.0            13.39028          86.818317           10.747155   \n",
       "2             0.0            13.39028          86.818317           10.747155   \n",
       "3             0.0            13.39028          86.818317           10.747155   \n",
       "4             0.0            13.39028          86.818317           10.747155   \n",
       "5             0.0            13.39028          86.818317           10.747155   \n",
       "6             0.0            13.39028          86.818317           10.747155   \n",
       "7             0.0            13.39028          86.818317           10.747155   \n",
       "8             0.0            13.39028          86.818317           10.747155   \n",
       "9             0.0            13.39028          86.818317           10.747155   \n",
       "\n",
       "   actin_baseline_in  \n",
       "0          25.830109  \n",
       "1          25.830109  \n",
       "2          25.830109  \n",
       "3          25.830109  \n",
       "4          25.830109  \n",
       "5          25.830109  \n",
       "6          25.830109  \n",
       "7          25.830109  \n",
       "8          25.830109  \n",
       "9          25.830109  "
      ]
     },
     "execution_count": 6,
     "metadata": {},
     "output_type": "execute_result"
    }
   ],
   "source": [
    "df = dataset.info.copy()\n",
    "\n",
    "df.head(10)"
   ]
  },
  {
   "cell_type": "code",
   "execution_count": 7,
   "id": "a7016587-df03-44d5-9513-77d87d1d9792",
   "metadata": {},
   "outputs": [
    {
     "name": "stdout",
     "output_type": "stream",
     "text": [
      "{'test_cells': ['cell_1']}\n",
      "[415 364 448 476 403 450 423 431 387 404 436 380 416 439 413 405 378 420\n",
      " 388 442 456 385 478 470 381 390 418 374 372 445 463 462 428 409 432 399\n",
      " 392 453 482 433 402 406 479 398 386 468 467 430 422 427 446]\n"
     ]
    }
   ],
   "source": [
    "# Print test cells: \n",
    "print(dataset.test_cells)\n",
    "print(dataset.test_indices)"
   ]
  },
  {
   "cell_type": "code",
   "execution_count": 8,
   "id": "a380f100",
   "metadata": {},
   "outputs": [
    {
     "data": {
      "text/html": [
       "<div>\n",
       "<style scoped>\n",
       "    .dataframe tbody tr th:only-of-type {\n",
       "        vertical-align: middle;\n",
       "    }\n",
       "\n",
       "    .dataframe tbody tr th {\n",
       "        vertical-align: top;\n",
       "    }\n",
       "\n",
       "    .dataframe thead th {\n",
       "        text-align: right;\n",
       "    }\n",
       "</style>\n",
       "<table border=\"1\" class=\"dataframe\">\n",
       "  <thead>\n",
       "    <tr style=\"text-align: right;\">\n",
       "      <th></th>\n",
       "      <th>folder</th>\n",
       "      <th>filename</th>\n",
       "      <th>frame</th>\n",
       "      <th>root</th>\n",
       "      <th>zyxin_baseline</th>\n",
       "      <th>actin_baseline</th>\n",
       "      <th>zyxin_baseline_out</th>\n",
       "      <th>zyxin_baseline_in</th>\n",
       "      <th>actin_baseline_out</th>\n",
       "      <th>actin_baseline_in</th>\n",
       "    </tr>\n",
       "  </thead>\n",
       "  <tbody>\n",
       "    <tr>\n",
       "      <th>0</th>\n",
       "      <td>cell_5</td>\n",
       "      <td>Disp_Trac_CellMask_ForceMask_Actin_0.npy</td>\n",
       "      <td>0</td>\n",
       "      <td>/net/projects/CLS/force_reference/data/Tractio...</td>\n",
       "      <td>0.0</td>\n",
       "      <td>0.0</td>\n",
       "      <td>13.390280</td>\n",
       "      <td>86.818317</td>\n",
       "      <td>10.747155</td>\n",
       "      <td>25.830109</td>\n",
       "    </tr>\n",
       "    <tr>\n",
       "      <th>1</th>\n",
       "      <td>cell_5</td>\n",
       "      <td>Disp_Trac_CellMask_ForceMask_Actin_1.npy</td>\n",
       "      <td>1</td>\n",
       "      <td>/net/projects/CLS/force_reference/data/Tractio...</td>\n",
       "      <td>0.0</td>\n",
       "      <td>0.0</td>\n",
       "      <td>13.390280</td>\n",
       "      <td>86.818317</td>\n",
       "      <td>10.747155</td>\n",
       "      <td>25.830109</td>\n",
       "    </tr>\n",
       "    <tr>\n",
       "      <th>2</th>\n",
       "      <td>cell_5</td>\n",
       "      <td>Disp_Trac_CellMask_ForceMask_Actin_2.npy</td>\n",
       "      <td>2</td>\n",
       "      <td>/net/projects/CLS/force_reference/data/Tractio...</td>\n",
       "      <td>0.0</td>\n",
       "      <td>0.0</td>\n",
       "      <td>13.390280</td>\n",
       "      <td>86.818317</td>\n",
       "      <td>10.747155</td>\n",
       "      <td>25.830109</td>\n",
       "    </tr>\n",
       "    <tr>\n",
       "      <th>3</th>\n",
       "      <td>cell_5</td>\n",
       "      <td>Disp_Trac_CellMask_ForceMask_Actin_3.npy</td>\n",
       "      <td>3</td>\n",
       "      <td>/net/projects/CLS/force_reference/data/Tractio...</td>\n",
       "      <td>0.0</td>\n",
       "      <td>0.0</td>\n",
       "      <td>13.390280</td>\n",
       "      <td>86.818317</td>\n",
       "      <td>10.747155</td>\n",
       "      <td>25.830109</td>\n",
       "    </tr>\n",
       "    <tr>\n",
       "      <th>4</th>\n",
       "      <td>cell_5</td>\n",
       "      <td>Disp_Trac_CellMask_ForceMask_Actin_4.npy</td>\n",
       "      <td>4</td>\n",
       "      <td>/net/projects/CLS/force_reference/data/Tractio...</td>\n",
       "      <td>0.0</td>\n",
       "      <td>0.0</td>\n",
       "      <td>13.390280</td>\n",
       "      <td>86.818317</td>\n",
       "      <td>10.747155</td>\n",
       "      <td>25.830109</td>\n",
       "    </tr>\n",
       "    <tr>\n",
       "      <th>...</th>\n",
       "      <td>...</td>\n",
       "      <td>...</td>\n",
       "      <td>...</td>\n",
       "      <td>...</td>\n",
       "      <td>...</td>\n",
       "      <td>...</td>\n",
       "      <td>...</td>\n",
       "      <td>...</td>\n",
       "      <td>...</td>\n",
       "      <td>...</td>\n",
       "    </tr>\n",
       "    <tr>\n",
       "      <th>479</th>\n",
       "      <td>cell_1</td>\n",
       "      <td>Disp_Trac_CellMask_ForceMask_Actin_116.npy</td>\n",
       "      <td>116</td>\n",
       "      <td>/net/projects/CLS/force_reference/data/Tractio...</td>\n",
       "      <td>0.0</td>\n",
       "      <td>0.0</td>\n",
       "      <td>10.708059</td>\n",
       "      <td>127.223836</td>\n",
       "      <td>5.975600</td>\n",
       "      <td>36.764299</td>\n",
       "    </tr>\n",
       "    <tr>\n",
       "      <th>480</th>\n",
       "      <td>cell_1</td>\n",
       "      <td>Disp_Trac_CellMask_ForceMask_Actin_117.npy</td>\n",
       "      <td>117</td>\n",
       "      <td>/net/projects/CLS/force_reference/data/Tractio...</td>\n",
       "      <td>0.0</td>\n",
       "      <td>0.0</td>\n",
       "      <td>10.708059</td>\n",
       "      <td>127.223836</td>\n",
       "      <td>5.975600</td>\n",
       "      <td>36.764299</td>\n",
       "    </tr>\n",
       "    <tr>\n",
       "      <th>481</th>\n",
       "      <td>cell_1</td>\n",
       "      <td>Disp_Trac_CellMask_ForceMask_Actin_118.npy</td>\n",
       "      <td>118</td>\n",
       "      <td>/net/projects/CLS/force_reference/data/Tractio...</td>\n",
       "      <td>0.0</td>\n",
       "      <td>0.0</td>\n",
       "      <td>10.708059</td>\n",
       "      <td>127.223836</td>\n",
       "      <td>5.975600</td>\n",
       "      <td>36.764299</td>\n",
       "    </tr>\n",
       "    <tr>\n",
       "      <th>482</th>\n",
       "      <td>cell_1</td>\n",
       "      <td>Disp_Trac_CellMask_ForceMask_Actin_119.npy</td>\n",
       "      <td>119</td>\n",
       "      <td>/net/projects/CLS/force_reference/data/Tractio...</td>\n",
       "      <td>0.0</td>\n",
       "      <td>0.0</td>\n",
       "      <td>10.708059</td>\n",
       "      <td>127.223836</td>\n",
       "      <td>5.975600</td>\n",
       "      <td>36.764299</td>\n",
       "    </tr>\n",
       "    <tr>\n",
       "      <th>483</th>\n",
       "      <td>cell_1</td>\n",
       "      <td>Disp_Trac_CellMask_ForceMask_Actin_120.npy</td>\n",
       "      <td>120</td>\n",
       "      <td>/net/projects/CLS/force_reference/data/Tractio...</td>\n",
       "      <td>0.0</td>\n",
       "      <td>0.0</td>\n",
       "      <td>10.708059</td>\n",
       "      <td>127.223836</td>\n",
       "      <td>5.975600</td>\n",
       "      <td>36.764299</td>\n",
       "    </tr>\n",
       "  </tbody>\n",
       "</table>\n",
       "<p>484 rows × 10 columns</p>\n",
       "</div>"
      ],
      "text/plain": [
       "     folder                                    filename  frame  \\\n",
       "0    cell_5    Disp_Trac_CellMask_ForceMask_Actin_0.npy      0   \n",
       "1    cell_5    Disp_Trac_CellMask_ForceMask_Actin_1.npy      1   \n",
       "2    cell_5    Disp_Trac_CellMask_ForceMask_Actin_2.npy      2   \n",
       "3    cell_5    Disp_Trac_CellMask_ForceMask_Actin_3.npy      3   \n",
       "4    cell_5    Disp_Trac_CellMask_ForceMask_Actin_4.npy      4   \n",
       "..      ...                                         ...    ...   \n",
       "479  cell_1  Disp_Trac_CellMask_ForceMask_Actin_116.npy    116   \n",
       "480  cell_1  Disp_Trac_CellMask_ForceMask_Actin_117.npy    117   \n",
       "481  cell_1  Disp_Trac_CellMask_ForceMask_Actin_118.npy    118   \n",
       "482  cell_1  Disp_Trac_CellMask_ForceMask_Actin_119.npy    119   \n",
       "483  cell_1  Disp_Trac_CellMask_ForceMask_Actin_120.npy    120   \n",
       "\n",
       "                                                  root  zyxin_baseline  \\\n",
       "0    /net/projects/CLS/force_reference/data/Tractio...             0.0   \n",
       "1    /net/projects/CLS/force_reference/data/Tractio...             0.0   \n",
       "2    /net/projects/CLS/force_reference/data/Tractio...             0.0   \n",
       "3    /net/projects/CLS/force_reference/data/Tractio...             0.0   \n",
       "4    /net/projects/CLS/force_reference/data/Tractio...             0.0   \n",
       "..                                                 ...             ...   \n",
       "479  /net/projects/CLS/force_reference/data/Tractio...             0.0   \n",
       "480  /net/projects/CLS/force_reference/data/Tractio...             0.0   \n",
       "481  /net/projects/CLS/force_reference/data/Tractio...             0.0   \n",
       "482  /net/projects/CLS/force_reference/data/Tractio...             0.0   \n",
       "483  /net/projects/CLS/force_reference/data/Tractio...             0.0   \n",
       "\n",
       "     actin_baseline  zyxin_baseline_out  zyxin_baseline_in  \\\n",
       "0               0.0           13.390280          86.818317   \n",
       "1               0.0           13.390280          86.818317   \n",
       "2               0.0           13.390280          86.818317   \n",
       "3               0.0           13.390280          86.818317   \n",
       "4               0.0           13.390280          86.818317   \n",
       "..              ...                 ...                ...   \n",
       "479             0.0           10.708059         127.223836   \n",
       "480             0.0           10.708059         127.223836   \n",
       "481             0.0           10.708059         127.223836   \n",
       "482             0.0           10.708059         127.223836   \n",
       "483             0.0           10.708059         127.223836   \n",
       "\n",
       "     actin_baseline_out  actin_baseline_in  \n",
       "0             10.747155          25.830109  \n",
       "1             10.747155          25.830109  \n",
       "2             10.747155          25.830109  \n",
       "3             10.747155          25.830109  \n",
       "4             10.747155          25.830109  \n",
       "..                  ...                ...  \n",
       "479            5.975600          36.764299  \n",
       "480            5.975600          36.764299  \n",
       "481            5.975600          36.764299  \n",
       "482            5.975600          36.764299  \n",
       "483            5.975600          36.764299  \n",
       "\n",
       "[484 rows x 10 columns]"
      ]
     },
     "execution_count": 8,
     "metadata": {},
     "output_type": "execute_result"
    }
   ],
   "source": [
    "dataset.info"
   ]
  },
  {
   "cell_type": "code",
   "execution_count": 9,
   "id": "fe725b58",
   "metadata": {},
   "outputs": [
    {
     "name": "stdout",
     "output_type": "stream",
     "text": [
      "368\n"
     ]
    }
   ],
   "source": [
    "cell = 'cell_1'\n",
    "frame = 5\n",
    "\n",
    "idx = dataset.info.index[(dataset.info.folder==cell)&(dataset.info.frame==frame)].tolist()[0] # Get index in dataframe that contains the right cell and frame.\n",
    "print(idx)"
   ]
  },
  {
   "cell_type": "code",
   "execution_count": 10,
   "id": "2dd3253c",
   "metadata": {},
   "outputs": [
    {
     "data": {
      "text/plain": [
       "7"
      ]
     },
     "execution_count": 10,
     "metadata": {},
     "output_type": "execute_result"
    }
   ],
   "source": [
    "dataset.out_channels\n"
   ]
  },
  {
   "cell_type": "code",
   "execution_count": 11,
   "id": "a602c61e",
   "metadata": {},
   "outputs": [],
   "source": [
    "sample = dataset[idx]"
   ]
  },
  {
   "cell_type": "code",
   "execution_count": 17,
   "id": "6d9d08ed-5565-4df1-b023-56588e5838dc",
   "metadata": {},
   "outputs": [
    {
     "name": "stdout",
     "output_type": "stream",
     "text": [
      "{'mask': torch.Size([1, 512, 512]), 'zyxin': torch.Size([1, 512, 512]), 'actin': torch.Size([1, 512, 512]), 'output': torch.Size([1, 512, 512])}\n"
     ]
    },
    {
     "data": {
      "image/png": "[encoded data removed]",
      "text/plain": [
       "<Figure size 864x1152 with 3 Axes>"
      ]
     },
     "metadata": {},
     "output_type": "display_data"
    }
   ],
   "source": [
    "fig,ax=plt.subplots(1,3,figsize=(2*3, 4*2), dpi=144)\n",
    "\n",
    "\n",
    "print({key: sample[key].shape for key in sample.keys()})\n",
    "\n",
    "ax[0].set_title('Mask')\n",
    "ax[0].imshow(sample['mask'].squeeze(), origin='lower', cmap='gray', vmax=1, vmin=0)\n",
    "ax[1].set_title('Zyxin')\n",
    "ax[1].imshow(sample['zyxin'].squeeze(), origin='lower', cmap='gray', vmax=10, vmin=0)\n",
    "ax[2].set_title('Paxillin')\n",
    "ax[2].imshow(sample['output'][0,:,:].squeeze(), origin='lower', cmap='gray', vmax=10, vmin=0)\n",
    "\n",
    "\n",
    "for a in ax.flat:\n",
    "    a.set_xticks([])\n",
    "    a.set_yticks([])"
   ]
  },
  {
   "cell_type": "code",
   "execution_count": 18,
   "id": "0c12909a",
   "metadata": {},
   "outputs": [
    {
     "data": {
      "text/plain": [
       "{'mask': tensor([[[0., 0., 0.,  ..., 0., 0., 0.],\n",
       "          [0., 0., 0.,  ..., 0., 0., 0.],\n",
       "          [0., 0., 0.,  ..., 0., 0., 0.],\n",
       "          ...,\n",
       "          [0., 0., 0.,  ..., 0., 0., 0.],\n",
       "          [0., 0., 0.,  ..., 0., 0., 0.],\n",
       "          [0., 0., 0.,  ..., 0., 0., 0.]]]),\n",
       " 'zyxin': tensor([[[0., 0., 0.,  ..., 0., 0., 0.],\n",
       "          [0., 0., 0.,  ..., 0., 0., 0.],\n",
       "          [0., 0., 0.,  ..., 0., 0., 0.],\n",
       "          ...,\n",
       "          [0., 0., 0.,  ..., 0., 0., 0.],\n",
       "          [0., 0., 0.,  ..., 0., 0., 0.],\n",
       "          [0., 0., 0.,  ..., 0., 0., 0.]]]),\n",
       " 'actin': tensor([[[0., 0., 0.,  ..., 0., 0., 0.],\n",
       "          [0., 0., 0.,  ..., 0., 0., 0.],\n",
       "          [0., 0., 0.,  ..., 0., 0., 0.],\n",
       "          ...,\n",
       "          [0., 0., 0.,  ..., 0., 0., 0.],\n",
       "          [0., 0., 0.,  ..., 0., 0., 0.],\n",
       "          [0., 0., 0.,  ..., 0., 0., 0.]]]),\n",
       " 'output': tensor([[[0., 0., 0.,  ..., 0., 0., 0.],\n",
       "          [0., 0., 0.,  ..., 0., 0., 0.],\n",
       "          [0., 0., 0.,  ..., 0., 0., 0.],\n",
       "          ...,\n",
       "          [0., 0., 0.,  ..., 0., 0., 0.],\n",
       "          [0., 0., 0.,  ..., 0., 0., 0.],\n",
       "          [0., 0., 0.,  ..., 0., 0., 0.]]])}"
      ]
     },
     "execution_count": 18,
     "metadata": {},
     "output_type": "execute_result"
    }
   ],
   "source": [
    "sample"
   ]
  },
  {
   "cell_type": "markdown",
   "id": "8c5b32dd-e961-4f1a-a51f-2fb221d717fd",
   "metadata": {},
   "source": [
    "# Build U-Net model with ConvNext blocks"
   ]
  },
  {
   "cell_type": "code",
   "execution_count": 26,
   "id": "2d1e8420-e504-48b3-9c28-ca0243e2e489",
   "metadata": {},
   "outputs": [],
   "source": [
    "n_lyr  = 3 # number of downsampling layers\n",
    "ds_krnl= 4 # downsample kernel\n",
    "n_ch   = 4 # number of channels in the beginning of the network\n",
    "n_blocks = 4 # number of ConvNext blocks, wherever ConvNext blocks are used\n",
    "\n",
    "prepend_hparams = {'start_channel': 1, 'resnet_channel': n_ch, 'end_channel': n_ch, 'N_blocks': n_blocks,                                         # Args for architecture\n",
    "                    'kernel': 7,'stride': 1, 'inv_bottleneck_factor': 4, 'dilation': 1,'dropout_rate': 0.1, 'activation': 'gelu', 'batchnorm': 1} # Args for ConvNext blocks\n",
    "encoder_hparams = {'n_ch': n_ch, 'n_layers': n_lyr, 'N_node_blocks': n_blocks, 'N_skip_blocks': n_blocks,\n",
    "                    'downsample_kwargs': {'kernel': ds_krnl, 'activation': 'gelu', 'batchnorm': 1},\n",
    "                    'interlayer_kwargs': {'kernel': 7,'stride': 1, 'inv_bottleneck_factor': 4, 'dilation': 1,'dropout_rate': 0.1, 'activation': 'gelu', 'batchnorm': 1}\n",
    "                    }\n",
    "decoder_hparams = {'n_layers': n_lyr, 'N_node_blocks': n_blocks, 'upsample_kernel': ds_krnl,\n",
    "                    'kernel': 7,'stride': 1, 'inv_bottleneck_factor': 4, 'dilation': 1,'dropout_rate': 0.1, 'activation': 'gelu', 'batchnorm': 1}\n",
    "append_hparams = {'start_channel': n_ch, 'resnet_channel': n_ch, 'end_channel': 2, 'N_blocks': n_blocks,\n",
    "                    'kernel': 7,'stride': 1, 'inv_bottleneck_factor': 8, 'dilation': 1,'dropout_rate': 0.1, 'activation': 'gelu', 'batchnorm': 1} \n",
    "optimizer_hparams = {'LR': 0.001, 'schedule_rate': 0.99}\n",
    "loss_hparams = {'loss_type': 'r_mse',\n",
    "                'exp_weight': 0.0,\n",
    "                'strainenergy_regularization': 0.0,\n",
    "                'exp_schedule': {'type': 'linear', 'width': 310, 'e_crit': 30},\n",
    "                'reg_schedule': {'type': 'linear', 'width': 310, 'e_crit': 30},\n",
    "                'loss_kwargs': {'max_force': 8.}\n",
    "               }\n",
    "\n",
    "\n",
    "\n",
    "\n",
    "\n",
    "models = {}\n",
    "for protein in ['zyxin1','zyxin2']:\n",
    "    modelname = 'model_z2p_150ep'\n",
    "\n",
    "    logger_params = {'log_dir': f'./tensorboard_logs/{modelname}', \n",
    "                     'image_epoch_freq': 10,\n",
    "                     'image_callbacks': 'vectorfield,hists',\n",
    "                     'save_model_freq': 4}\n",
    "\n",
    "    # Actually build model:\n",
    "    model_kwargs={\n",
    "                    'input_type':  protein[:-1], \n",
    "                    'prepend_hparams': prepend_hparams, \n",
    "                    'encoder_hparams': encoder_hparams, \n",
    "                    'decoder_hparams': decoder_hparams, \n",
    "                    'append_hparams': append_hparams, \n",
    "                    'optimizer_hparams': optimizer_hparams,\n",
    "                    'loss_hparams': loss_hparams,\n",
    "                    'logger_params': logger_params,\n",
    "                    'name': 'model_0'}\n",
    "\n",
    "\n",
    "    model = UNet( **model_kwargs, model_idx=0)\n",
    "    model.to(device)\n",
    "    \n",
    "    models[protein] = model\n"
   ]
  },
  {
   "cell_type": "code",
   "execution_count": 27,
   "id": "1172c156",
   "metadata": {},
   "outputs": [
    {
     "data": {
      "text/plain": [
       "{'zyxin1': UNet(\n",
       "   (layers_encode): ModuleList(\n",
       "     (0): ModuleList(\n",
       "       (0-3): 4 x ConvNextCell(\n",
       "         (conv0): Conv2d(4, 4, kernel_size=(7, 7), stride=(1, 1), padding=(3, 3), groups=4)\n",
       "         (conv1): Conv2d(4, 16, kernel_size=(1, 1), stride=(1, 1))\n",
       "         (conv2): Conv2d(16, 4, kernel_size=(1, 1), stride=(1, 1))\n",
       "         (bn): BatchNorm2d(4, eps=1e-05, momentum=0.1, affine=True, track_running_stats=True)\n",
       "         (act): GELU(approximate='none')\n",
       "       )\n",
       "       (4): DownsampleLayer(\n",
       "         (conv): Conv2d(4, 8, kernel_size=(4, 4), stride=(4, 4))\n",
       "         (bn): BatchNorm2d(4, eps=1e-05, momentum=0.1, affine=True, track_running_stats=True)\n",
       "         (act): GELU(approximate='none')\n",
       "       )\n",
       "     )\n",
       "     (1): ModuleList(\n",
       "       (0-3): 4 x ConvNextCell(\n",
       "         (conv0): Conv2d(8, 8, kernel_size=(7, 7), stride=(1, 1), padding=(3, 3), groups=8)\n",
       "         (conv1): Conv2d(8, 32, kernel_size=(1, 1), stride=(1, 1))\n",
       "         (conv2): Conv2d(32, 8, kernel_size=(1, 1), stride=(1, 1))\n",
       "         (bn): BatchNorm2d(8, eps=1e-05, momentum=0.1, affine=True, track_running_stats=True)\n",
       "         (act): GELU(approximate='none')\n",
       "       )\n",
       "       (4): DownsampleLayer(\n",
       "         (conv): Conv2d(8, 16, kernel_size=(4, 4), stride=(4, 4))\n",
       "         (bn): BatchNorm2d(8, eps=1e-05, momentum=0.1, affine=True, track_running_stats=True)\n",
       "         (act): GELU(approximate='none')\n",
       "       )\n",
       "     )\n",
       "     (2): ModuleList(\n",
       "       (0-3): 4 x ConvNextCell(\n",
       "         (conv0): Conv2d(16, 16, kernel_size=(7, 7), stride=(1, 1), padding=(3, 3), groups=16)\n",
       "         (conv1): Conv2d(16, 64, kernel_size=(1, 1), stride=(1, 1))\n",
       "         (conv2): Conv2d(64, 16, kernel_size=(1, 1), stride=(1, 1))\n",
       "         (bn): BatchNorm2d(16, eps=1e-05, momentum=0.1, affine=True, track_running_stats=True)\n",
       "         (act): GELU(approximate='none')\n",
       "       )\n",
       "       (4): DownsampleLayer(\n",
       "         (conv): Conv2d(16, 32, kernel_size=(4, 4), stride=(4, 4))\n",
       "         (bn): BatchNorm2d(16, eps=1e-05, momentum=0.1, affine=True, track_running_stats=True)\n",
       "         (act): GELU(approximate='none')\n",
       "       )\n",
       "     )\n",
       "     (3): ModuleList(\n",
       "       (0-3): 4 x ConvNextCell(\n",
       "         (conv0): Conv2d(32, 32, kernel_size=(7, 7), stride=(1, 1), padding=(3, 3), groups=32)\n",
       "         (conv1): Conv2d(32, 128, kernel_size=(1, 1), stride=(1, 1))\n",
       "         (conv2): Conv2d(128, 32, kernel_size=(1, 1), stride=(1, 1))\n",
       "         (bn): BatchNorm2d(32, eps=1e-05, momentum=0.1, affine=True, track_running_stats=True)\n",
       "         (act): GELU(approximate='none')\n",
       "       )\n",
       "     )\n",
       "   )\n",
       "   (interlayer_cnn): ModuleList(\n",
       "     (0): ModuleList(\n",
       "       (0-3): 4 x ConvNextCell(\n",
       "         (conv0): Conv2d(4, 4, kernel_size=(7, 7), stride=(1, 1), padding=(3, 3), groups=4)\n",
       "         (conv1): Conv2d(4, 16, kernel_size=(1, 1), stride=(1, 1))\n",
       "         (conv2): Conv2d(16, 4, kernel_size=(1, 1), stride=(1, 1))\n",
       "         (bn): BatchNorm2d(4, eps=1e-05, momentum=0.1, affine=True, track_running_stats=True)\n",
       "         (act): GELU(approximate='none')\n",
       "       )\n",
       "     )\n",
       "     (1): ModuleList(\n",
       "       (0-3): 4 x ConvNextCell(\n",
       "         (conv0): Conv2d(8, 8, kernel_size=(7, 7), stride=(1, 1), padding=(3, 3), groups=8)\n",
       "         (conv1): Conv2d(8, 32, kernel_size=(1, 1), stride=(1, 1))\n",
       "         (conv2): Conv2d(32, 8, kernel_size=(1, 1), stride=(1, 1))\n",
       "         (bn): BatchNorm2d(8, eps=1e-05, momentum=0.1, affine=True, track_running_stats=True)\n",
       "         (act): GELU(approximate='none')\n",
       "       )\n",
       "     )\n",
       "     (2): ModuleList(\n",
       "       (0-3): 4 x ConvNextCell(\n",
       "         (conv0): Conv2d(16, 16, kernel_size=(7, 7), stride=(1, 1), padding=(3, 3), groups=16)\n",
       "         (conv1): Conv2d(16, 64, kernel_size=(1, 1), stride=(1, 1))\n",
       "         (conv2): Conv2d(64, 16, kernel_size=(1, 1), stride=(1, 1))\n",
       "         (bn): BatchNorm2d(16, eps=1e-05, momentum=0.1, affine=True, track_running_stats=True)\n",
       "         (act): GELU(approximate='none')\n",
       "       )\n",
       "     )\n",
       "   )\n",
       "   (layers_decode): ModuleList(\n",
       "     (0): ModuleList(\n",
       "       (0): Upsample(scale_factor=4.0, mode='nearest')\n",
       "       (1): ModuleList(\n",
       "         (0-3): 4 x ConvNextCell(\n",
       "           (conv0): Conv2d(48, 48, kernel_size=(7, 7), stride=(1, 1), padding=(3, 3), groups=48)\n",
       "           (conv1): Conv2d(48, 192, kernel_size=(1, 1), stride=(1, 1))\n",
       "           (conv2): Conv2d(192, 48, kernel_size=(1, 1), stride=(1, 1))\n",
       "           (bn): BatchNorm2d(48, eps=1e-05, momentum=0.1, affine=True, track_running_stats=True)\n",
       "           (act): GELU(approximate='none')\n",
       "         )\n",
       "       )\n",
       "       (2): Conv2d(48, 16, kernel_size=(3, 3), stride=(1, 1), padding=(1, 1))\n",
       "     )\n",
       "     (1): ModuleList(\n",
       "       (0): Upsample(scale_factor=4.0, mode='nearest')\n",
       "       (1): ModuleList(\n",
       "         (0-3): 4 x ConvNextCell(\n",
       "           (conv0): Conv2d(24, 24, kernel_size=(7, 7), stride=(1, 1), padding=(3, 3), groups=24)\n",
       "           (conv1): Conv2d(24, 96, kernel_size=(1, 1), stride=(1, 1))\n",
       "           (conv2): Conv2d(96, 24, kernel_size=(1, 1), stride=(1, 1))\n",
       "           (bn): BatchNorm2d(24, eps=1e-05, momentum=0.1, affine=True, track_running_stats=True)\n",
       "           (act): GELU(approximate='none')\n",
       "         )\n",
       "       )\n",
       "       (2): Conv2d(24, 8, kernel_size=(3, 3), stride=(1, 1), padding=(1, 1))\n",
       "     )\n",
       "     (2): ModuleList(\n",
       "       (0): Upsample(scale_factor=4.0, mode='nearest')\n",
       "       (1): ModuleList(\n",
       "         (0-3): 4 x ConvNextCell(\n",
       "           (conv0): Conv2d(12, 12, kernel_size=(7, 7), stride=(1, 1), padding=(3, 3), groups=12)\n",
       "           (conv1): Conv2d(12, 48, kernel_size=(1, 1), stride=(1, 1))\n",
       "           (conv2): Conv2d(48, 12, kernel_size=(1, 1), stride=(1, 1))\n",
       "           (bn): BatchNorm2d(12, eps=1e-05, momentum=0.1, affine=True, track_running_stats=True)\n",
       "           (act): GELU(approximate='none')\n",
       "         )\n",
       "       )\n",
       "       (2): Conv2d(12, 4, kernel_size=(3, 3), stride=(1, 1), padding=(1, 1))\n",
       "     )\n",
       "   )\n",
       "   (prepended_layers): ModuleList(\n",
       "     (0): Conv2d(1, 4, kernel_size=(3, 3), stride=(1, 1), padding=(1, 1))\n",
       "     (1-4): 4 x ConvNextCell(\n",
       "       (conv0): Conv2d(4, 4, kernel_size=(7, 7), stride=(1, 1), padding=(3, 3), groups=4)\n",
       "       (conv1): Conv2d(4, 16, kernel_size=(1, 1), stride=(1, 1))\n",
       "       (conv2): Conv2d(16, 4, kernel_size=(1, 1), stride=(1, 1))\n",
       "       (bn): BatchNorm2d(4, eps=1e-05, momentum=0.1, affine=True, track_running_stats=True)\n",
       "       (act): GELU(approximate='none')\n",
       "     )\n",
       "     (5): Conv2d(4, 4, kernel_size=(3, 3), stride=(1, 1), padding=(1, 1))\n",
       "   )\n",
       "   (appended_layers): ModuleList(\n",
       "     (0): Conv2d(4, 4, kernel_size=(3, 3), stride=(1, 1), padding=(1, 1))\n",
       "     (1-4): 4 x ConvNextCell(\n",
       "       (conv0): Conv2d(4, 4, kernel_size=(7, 7), stride=(1, 1), padding=(3, 3), groups=4)\n",
       "       (conv1): Conv2d(4, 32, kernel_size=(1, 1), stride=(1, 1))\n",
       "       (conv2): Conv2d(32, 4, kernel_size=(1, 1), stride=(1, 1))\n",
       "       (bn): BatchNorm2d(4, eps=1e-05, momentum=0.1, affine=True, track_running_stats=True)\n",
       "       (act): GELU(approximate='none')\n",
       "     )\n",
       "     (5): Conv2d(4, 2, kernel_size=(3, 3), stride=(1, 1), padding=(1, 1))\n",
       "   )\n",
       "   (loss_function): r_MSE_loss_dict()\n",
       " ),\n",
       " 'zyxin2': UNet(\n",
       "   (layers_encode): ModuleList(\n",
       "     (0): ModuleList(\n",
       "       (0-3): 4 x ConvNextCell(\n",
       "         (conv0): Conv2d(4, 4, kernel_size=(7, 7), stride=(1, 1), padding=(3, 3), groups=4)\n",
       "         (conv1): Conv2d(4, 16, kernel_size=(1, 1), stride=(1, 1))\n",
       "         (conv2): Conv2d(16, 4, kernel_size=(1, 1), stride=(1, 1))\n",
       "         (bn): BatchNorm2d(4, eps=1e-05, momentum=0.1, affine=True, track_running_stats=True)\n",
       "         (act): GELU(approximate='none')\n",
       "       )\n",
       "       (4): DownsampleLayer(\n",
       "         (conv): Conv2d(4, 8, kernel_size=(4, 4), stride=(4, 4))\n",
       "         (bn): BatchNorm2d(4, eps=1e-05, momentum=0.1, affine=True, track_running_stats=True)\n",
       "         (act): GELU(approximate='none')\n",
       "       )\n",
       "     )\n",
       "     (1): ModuleList(\n",
       "       (0-3): 4 x ConvNextCell(\n",
       "         (conv0): Conv2d(8, 8, kernel_size=(7, 7), stride=(1, 1), padding=(3, 3), groups=8)\n",
       "         (conv1): Conv2d(8, 32, kernel_size=(1, 1), stride=(1, 1))\n",
       "         (conv2): Conv2d(32, 8, kernel_size=(1, 1), stride=(1, 1))\n",
       "         (bn): BatchNorm2d(8, eps=1e-05, momentum=0.1, affine=True, track_running_stats=True)\n",
       "         (act): GELU(approximate='none')\n",
       "       )\n",
       "       (4): DownsampleLayer(\n",
       "         (conv): Conv2d(8, 16, kernel_size=(4, 4), stride=(4, 4))\n",
       "         (bn): BatchNorm2d(8, eps=1e-05, momentum=0.1, affine=True, track_running_stats=True)\n",
       "         (act): GELU(approximate='none')\n",
       "       )\n",
       "     )\n",
       "     (2): ModuleList(\n",
       "       (0-3): 4 x ConvNextCell(\n",
       "         (conv0): Conv2d(16, 16, kernel_size=(7, 7), stride=(1, 1), padding=(3, 3), groups=16)\n",
       "         (conv1): Conv2d(16, 64, kernel_size=(1, 1), stride=(1, 1))\n",
       "         (conv2): Conv2d(64, 16, kernel_size=(1, 1), stride=(1, 1))\n",
       "         (bn): BatchNorm2d(16, eps=1e-05, momentum=0.1, affine=True, track_running_stats=True)\n",
       "         (act): GELU(approximate='none')\n",
       "       )\n",
       "       (4): DownsampleLayer(\n",
       "         (conv): Conv2d(16, 32, kernel_size=(4, 4), stride=(4, 4))\n",
       "         (bn): BatchNorm2d(16, eps=1e-05, momentum=0.1, affine=True, track_running_stats=True)\n",
       "         (act): GELU(approximate='none')\n",
       "       )\n",
       "     )\n",
       "     (3): ModuleList(\n",
       "       (0-3): 4 x ConvNextCell(\n",
       "         (conv0): Conv2d(32, 32, kernel_size=(7, 7), stride=(1, 1), padding=(3, 3), groups=32)\n",
       "         (conv1): Conv2d(32, 128, kernel_size=(1, 1), stride=(1, 1))\n",
       "         (conv2): Conv2d(128, 32, kernel_size=(1, 1), stride=(1, 1))\n",
       "         (bn): BatchNorm2d(32, eps=1e-05, momentum=0.1, affine=True, track_running_stats=True)\n",
       "         (act): GELU(approximate='none')\n",
       "       )\n",
       "     )\n",
       "   )\n",
       "   (interlayer_cnn): ModuleList(\n",
       "     (0): ModuleList(\n",
       "       (0-3): 4 x ConvNextCell(\n",
       "         (conv0): Conv2d(4, 4, kernel_size=(7, 7), stride=(1, 1), padding=(3, 3), groups=4)\n",
       "         (conv1): Conv2d(4, 16, kernel_size=(1, 1), stride=(1, 1))\n",
       "         (conv2): Conv2d(16, 4, kernel_size=(1, 1), stride=(1, 1))\n",
       "         (bn): BatchNorm2d(4, eps=1e-05, momentum=0.1, affine=True, track_running_stats=True)\n",
       "         (act): GELU(approximate='none')\n",
       "       )\n",
       "     )\n",
       "     (1): ModuleList(\n",
       "       (0-3): 4 x ConvNextCell(\n",
       "         (conv0): Conv2d(8, 8, kernel_size=(7, 7), stride=(1, 1), padding=(3, 3), groups=8)\n",
       "         (conv1): Conv2d(8, 32, kernel_size=(1, 1), stride=(1, 1))\n",
       "         (conv2): Conv2d(32, 8, kernel_size=(1, 1), stride=(1, 1))\n",
       "         (bn): BatchNorm2d(8, eps=1e-05, momentum=0.1, affine=True, track_running_stats=True)\n",
       "         (act): GELU(approximate='none')\n",
       "       )\n",
       "     )\n",
       "     (2): ModuleList(\n",
       "       (0-3): 4 x ConvNextCell(\n",
       "         (conv0): Conv2d(16, 16, kernel_size=(7, 7), stride=(1, 1), padding=(3, 3), groups=16)\n",
       "         (conv1): Conv2d(16, 64, kernel_size=(1, 1), stride=(1, 1))\n",
       "         (conv2): Conv2d(64, 16, kernel_size=(1, 1), stride=(1, 1))\n",
       "         (bn): BatchNorm2d(16, eps=1e-05, momentum=0.1, affine=True, track_running_stats=True)\n",
       "         (act): GELU(approximate='none')\n",
       "       )\n",
       "     )\n",
       "   )\n",
       "   (layers_decode): ModuleList(\n",
       "     (0): ModuleList(\n",
       "       (0): Upsample(scale_factor=4.0, mode='nearest')\n",
       "       (1): ModuleList(\n",
       "         (0-3): 4 x ConvNextCell(\n",
       "           (conv0): Conv2d(48, 48, kernel_size=(7, 7), stride=(1, 1), padding=(3, 3), groups=48)\n",
       "           (conv1): Conv2d(48, 192, kernel_size=(1, 1), stride=(1, 1))\n",
       "           (conv2): Conv2d(192, 48, kernel_size=(1, 1), stride=(1, 1))\n",
       "           (bn): BatchNorm2d(48, eps=1e-05, momentum=0.1, affine=True, track_running_stats=True)\n",
       "           (act): GELU(approximate='none')\n",
       "         )\n",
       "       )\n",
       "       (2): Conv2d(48, 16, kernel_size=(3, 3), stride=(1, 1), padding=(1, 1))\n",
       "     )\n",
       "     (1): ModuleList(\n",
       "       (0): Upsample(scale_factor=4.0, mode='nearest')\n",
       "       (1): ModuleList(\n",
       "         (0-3): 4 x ConvNextCell(\n",
       "           (conv0): Conv2d(24, 24, kernel_size=(7, 7), stride=(1, 1), padding=(3, 3), groups=24)\n",
       "           (conv1): Conv2d(24, 96, kernel_size=(1, 1), stride=(1, 1))\n",
       "           (conv2): Conv2d(96, 24, kernel_size=(1, 1), stride=(1, 1))\n",
       "           (bn): BatchNorm2d(24, eps=1e-05, momentum=0.1, affine=True, track_running_stats=True)\n",
       "           (act): GELU(approximate='none')\n",
       "         )\n",
       "       )\n",
       "       (2): Conv2d(24, 8, kernel_size=(3, 3), stride=(1, 1), padding=(1, 1))\n",
       "     )\n",
       "     (2): ModuleList(\n",
       "       (0): Upsample(scale_factor=4.0, mode='nearest')\n",
       "       (1): ModuleList(\n",
       "         (0-3): 4 x ConvNextCell(\n",
       "           (conv0): Conv2d(12, 12, kernel_size=(7, 7), stride=(1, 1), padding=(3, 3), groups=12)\n",
       "           (conv1): Conv2d(12, 48, kernel_size=(1, 1), stride=(1, 1))\n",
       "           (conv2): Conv2d(48, 12, kernel_size=(1, 1), stride=(1, 1))\n",
       "           (bn): BatchNorm2d(12, eps=1e-05, momentum=0.1, affine=True, track_running_stats=True)\n",
       "           (act): GELU(approximate='none')\n",
       "         )\n",
       "       )\n",
       "       (2): Conv2d(12, 4, kernel_size=(3, 3), stride=(1, 1), padding=(1, 1))\n",
       "     )\n",
       "   )\n",
       "   (prepended_layers): ModuleList(\n",
       "     (0): Conv2d(1, 4, kernel_size=(3, 3), stride=(1, 1), padding=(1, 1))\n",
       "     (1-4): 4 x ConvNextCell(\n",
       "       (conv0): Conv2d(4, 4, kernel_size=(7, 7), stride=(1, 1), padding=(3, 3), groups=4)\n",
       "       (conv1): Conv2d(4, 16, kernel_size=(1, 1), stride=(1, 1))\n",
       "       (conv2): Conv2d(16, 4, kernel_size=(1, 1), stride=(1, 1))\n",
       "       (bn): BatchNorm2d(4, eps=1e-05, momentum=0.1, affine=True, track_running_stats=True)\n",
       "       (act): GELU(approximate='none')\n",
       "     )\n",
       "     (5): Conv2d(4, 4, kernel_size=(3, 3), stride=(1, 1), padding=(1, 1))\n",
       "   )\n",
       "   (appended_layers): ModuleList(\n",
       "     (0): Conv2d(4, 4, kernel_size=(3, 3), stride=(1, 1), padding=(1, 1))\n",
       "     (1-4): 4 x ConvNextCell(\n",
       "       (conv0): Conv2d(4, 4, kernel_size=(7, 7), stride=(1, 1), padding=(3, 3), groups=4)\n",
       "       (conv1): Conv2d(4, 32, kernel_size=(1, 1), stride=(1, 1))\n",
       "       (conv2): Conv2d(32, 4, kernel_size=(1, 1), stride=(1, 1))\n",
       "       (bn): BatchNorm2d(4, eps=1e-05, momentum=0.1, affine=True, track_running_stats=True)\n",
       "       (act): GELU(approximate='none')\n",
       "     )\n",
       "     (5): Conv2d(4, 2, kernel_size=(3, 3), stride=(1, 1), padding=(1, 1))\n",
       "   )\n",
       "   (loss_function): r_MSE_loss_dict()\n",
       " )}"
      ]
     },
     "execution_count": 27,
     "metadata": {},
     "output_type": "execute_result"
    }
   ],
   "source": [
    "models"
   ]
  },
  {
   "cell_type": "code",
   "execution_count": 28,
   "id": "6d92f083",
   "metadata": {},
   "outputs": [
    {
     "data": {
      "text/plain": [
       "'zyxin'"
      ]
     },
     "execution_count": 28,
     "metadata": {},
     "output_type": "execute_result"
    }
   ],
   "source": [
    "protein[:-1]"
   ]
  },
  {
   "cell_type": "markdown",
   "id": "43cc7152-01e6-4c50-8a76-f2670773a025",
   "metadata": {},
   "source": [
    "# Perform training"
   ]
  },
  {
   "cell_type": "code",
   "execution_count": 29,
   "id": "ed690a77-055d-46df-931a-75d67f606fc2",
   "metadata": {},
   "outputs": [
    {
     "name": "stderr",
     "output_type": "stream",
     "text": [
      "Epoch 9:   6%|▌         | 288/4800.0 [05:26<1:25:19,  1.13s/it]\n"
     ]
    },
    {
     "name": "stdout",
     "output_type": "stream",
     "text": [
      "Epoch 0:\t Time: 26.41 \t(per epoch: 26.41)\n"
     ]
    },
    {
     "name": "stderr",
     "output_type": "stream",
     "text": []
    },
    {
     "name": "stdout",
     "output_type": "stream",
     "text": [
      "Epoch 1:\t Time: 52.83 \t(per epoch: 26.42)\n"
     ]
    },
    {
     "name": "stderr",
     "output_type": "stream",
     "text": []
    },
    {
     "name": "stdout",
     "output_type": "stream",
     "text": [
      "Epoch 2:\t Time: 79.38 \t(per epoch: 26.46)\n"
     ]
    },
    {
     "name": "stderr",
     "output_type": "stream",
     "text": []
    },
    {
     "name": "stdout",
     "output_type": "stream",
     "text": [
      "Epoch 3:\t Time: 105.68 \t(per epoch: 26.42)\n"
     ]
    },
    {
     "name": "stderr",
     "output_type": "stream",
     "text": []
    },
    {
     "name": "stdout",
     "output_type": "stream",
     "text": [
      "Epoch 4:\t Time: 132.53 \t(per epoch: 26.51)\n"
     ]
    },
    {
     "name": "stderr",
     "output_type": "stream",
     "text": []
    },
    {
     "name": "stdout",
     "output_type": "stream",
     "text": [
      "Epoch 5:\t Time: 159.06 \t(per epoch: 26.51)\n"
     ]
    },
    {
     "name": "stderr",
     "output_type": "stream",
     "text": []
    },
    {
     "name": "stdout",
     "output_type": "stream",
     "text": [
      "Epoch 6:\t Time: 185.47 \t(per epoch: 26.50)\n"
     ]
    },
    {
     "name": "stderr",
     "output_type": "stream",
     "text": []
    },
    {
     "name": "stdout",
     "output_type": "stream",
     "text": [
      "Epoch 7:\t Time: 211.87 \t(per epoch: 26.48)\n"
     ]
    },
    {
     "name": "stderr",
     "output_type": "stream",
     "text": []
    },
    {
     "name": "stdout",
     "output_type": "stream",
     "text": [
      "Epoch 8:\t Time: 238.51 \t(per epoch: 26.50)\n"
     ]
    },
    {
     "name": "stderr",
     "output_type": "stream",
     "text": []
    },
    {
     "name": "stdout",
     "output_type": "stream",
     "text": [
      "Epoch 9:\t Time: 265.20 \t(per epoch: 26.52)\n"
     ]
    },
    {
     "name": "stderr",
     "output_type": "stream",
     "text": []
    },
    {
     "name": "stdout",
     "output_type": "stream",
     "text": [
      "Epoch 10:\t Time: 291.52 \t(per epoch: 26.50)\n"
     ]
    },
    {
     "name": "stderr",
     "output_type": "stream",
     "text": []
    },
    {
     "name": "stdout",
     "output_type": "stream",
     "text": [
      "Epoch 11:\t Time: 317.84 \t(per epoch: 26.49)\n"
     ]
    },
    {
     "name": "stderr",
     "output_type": "stream",
     "text": []
    },
    {
     "name": "stdout",
     "output_type": "stream",
     "text": [
      "Epoch 12:\t Time: 344.69 \t(per epoch: 26.51)\n"
     ]
    },
    {
     "name": "stderr",
     "output_type": "stream",
     "text": []
    },
    {
     "name": "stdout",
     "output_type": "stream",
     "text": [
      "Epoch 13:\t Time: 371.21 \t(per epoch: 26.52)\n"
     ]
    },
    {
     "name": "stderr",
     "output_type": "stream",
     "text": []
    },
    {
     "name": "stdout",
     "output_type": "stream",
     "text": [
      "Epoch 14:\t Time: 397.70 \t(per epoch: 26.51)\n"
     ]
    },
    {
     "name": "stderr",
     "output_type": "stream",
     "text": []
    },
    {
     "name": "stdout",
     "output_type": "stream",
     "text": [
      "Epoch 15:\t Time: 424.15 \t(per epoch: 26.51)\n"
     ]
    },
    {
     "name": "stderr",
     "output_type": "stream",
     "text": []
    },
    {
     "name": "stdout",
     "output_type": "stream",
     "text": [
      "Epoch 16:\t Time: 450.84 \t(per epoch: 26.52)\n"
     ]
    },
    {
     "name": "stderr",
     "output_type": "stream",
     "text": []
    },
    {
     "name": "stdout",
     "output_type": "stream",
     "text": [
      "Epoch 17:\t Time: 477.67 \t(per epoch: 26.54)\n"
     ]
    },
    {
     "name": "stderr",
     "output_type": "stream",
     "text": []
    },
    {
     "name": "stdout",
     "output_type": "stream",
     "text": [
      "Epoch 18:\t Time: 504.07 \t(per epoch: 26.53)\n"
     ]
    },
    {
     "name": "stderr",
     "output_type": "stream",
     "text": []
    },
    {
     "name": "stdout",
     "output_type": "stream",
     "text": [
      "Epoch 19:\t Time: 530.59 \t(per epoch: 26.53)\n"
     ]
    },
    {
     "name": "stderr",
     "output_type": "stream",
     "text": []
    },
    {
     "name": "stdout",
     "output_type": "stream",
     "text": [
      "Epoch 20:\t Time: 556.92 \t(per epoch: 26.52)\n"
     ]
    },
    {
     "name": "stderr",
     "output_type": "stream",
     "text": []
    },
    {
     "name": "stdout",
     "output_type": "stream",
     "text": [
      "Epoch 21:\t Time: 583.39 \t(per epoch: 26.52)\n"
     ]
    },
    {
     "name": "stderr",
     "output_type": "stream",
     "text": []
    },
    {
     "name": "stdout",
     "output_type": "stream",
     "text": [
      "Epoch 22:\t Time: 609.86 \t(per epoch: 26.52)\n"
     ]
    },
    {
     "name": "stderr",
     "output_type": "stream",
     "text": []
    },
    {
     "name": "stdout",
     "output_type": "stream",
     "text": [
      "Epoch 23:\t Time: 636.49 \t(per epoch: 26.52)\n"
     ]
    },
    {
     "name": "stderr",
     "output_type": "stream",
     "text": []
    },
    {
     "name": "stdout",
     "output_type": "stream",
     "text": [
      "Epoch 24:\t Time: 663.02 \t(per epoch: 26.52)\n"
     ]
    },
    {
     "name": "stderr",
     "output_type": "stream",
     "text": []
    },
    {
     "name": "stdout",
     "output_type": "stream",
     "text": [
      "Epoch 25:\t Time: 689.53 \t(per epoch: 26.52)\n"
     ]
    },
    {
     "name": "stderr",
     "output_type": "stream",
     "text": []
    },
    {
     "name": "stdout",
     "output_type": "stream",
     "text": [
      "Epoch 26:\t Time: 716.30 \t(per epoch: 26.53)\n"
     ]
    },
    {
     "name": "stderr",
     "output_type": "stream",
     "text": []
    },
    {
     "name": "stdout",
     "output_type": "stream",
     "text": [
      "Epoch 27:\t Time: 742.72 \t(per epoch: 26.53)\n"
     ]
    },
    {
     "name": "stderr",
     "output_type": "stream",
     "text": []
    },
    {
     "name": "stdout",
     "output_type": "stream",
     "text": [
      "Epoch 28:\t Time: 769.39 \t(per epoch: 26.53)\n"
     ]
    },
    {
     "name": "stderr",
     "output_type": "stream",
     "text": []
    },
    {
     "name": "stdout",
     "output_type": "stream",
     "text": [
      "Epoch 29:\t Time: 796.07 \t(per epoch: 26.54)\n"
     ]
    },
    {
     "name": "stderr",
     "output_type": "stream",
     "text": []
    },
    {
     "name": "stdout",
     "output_type": "stream",
     "text": [
      "Epoch 30:\t Time: 822.57 \t(per epoch: 26.53)\n"
     ]
    },
    {
     "name": "stderr",
     "output_type": "stream",
     "text": []
    },
    {
     "name": "stdout",
     "output_type": "stream",
     "text": [
      "Epoch 31:\t Time: 849.01 \t(per epoch: 26.53)\n"
     ]
    },
    {
     "name": "stderr",
     "output_type": "stream",
     "text": []
    },
    {
     "name": "stdout",
     "output_type": "stream",
     "text": [
      "Epoch 32:\t Time: 875.47 \t(per epoch: 26.53)\n"
     ]
    },
    {
     "name": "stderr",
     "output_type": "stream",
     "text": []
    },
    {
     "name": "stdout",
     "output_type": "stream",
     "text": [
      "Epoch 33:\t Time: 902.01 \t(per epoch: 26.53)\n"
     ]
    },
    {
     "name": "stderr",
     "output_type": "stream",
     "text": []
    },
    {
     "name": "stdout",
     "output_type": "stream",
     "text": [
      "Epoch 34:\t Time: 928.75 \t(per epoch: 26.54)\n"
     ]
    },
    {
     "name": "stderr",
     "output_type": "stream",
     "text": []
    },
    {
     "name": "stdout",
     "output_type": "stream",
     "text": [
      "Epoch 35:\t Time: 955.28 \t(per epoch: 26.54)\n"
     ]
    },
    {
     "name": "stderr",
     "output_type": "stream",
     "text": []
    },
    {
     "name": "stdout",
     "output_type": "stream",
     "text": [
      "Epoch 36:\t Time: 981.87 \t(per epoch: 26.54)\n"
     ]
    },
    {
     "name": "stderr",
     "output_type": "stream",
     "text": []
    },
    {
     "name": "stdout",
     "output_type": "stream",
     "text": [
      "Epoch 37:\t Time: 1008.36 \t(per epoch: 26.54)\n"
     ]
    },
    {
     "name": "stderr",
     "output_type": "stream",
     "text": []
    },
    {
     "name": "stdout",
     "output_type": "stream",
     "text": [
      "Epoch 38:\t Time: 1035.02 \t(per epoch: 26.54)\n"
     ]
    },
    {
     "name": "stderr",
     "output_type": "stream",
     "text": []
    },
    {
     "name": "stdout",
     "output_type": "stream",
     "text": [
      "Epoch 39:\t Time: 1061.34 \t(per epoch: 26.53)\n"
     ]
    },
    {
     "name": "stderr",
     "output_type": "stream",
     "text": []
    },
    {
     "name": "stdout",
     "output_type": "stream",
     "text": [
      "Epoch 40:\t Time: 1088.23 \t(per epoch: 26.54)\n"
     ]
    },
    {
     "name": "stderr",
     "output_type": "stream",
     "text": []
    },
    {
     "name": "stdout",
     "output_type": "stream",
     "text": [
      "Epoch 41:\t Time: 1115.16 \t(per epoch: 26.55)\n"
     ]
    },
    {
     "name": "stderr",
     "output_type": "stream",
     "text": []
    },
    {
     "name": "stdout",
     "output_type": "stream",
     "text": [
      "Epoch 42:\t Time: 1141.72 \t(per epoch: 26.55)\n"
     ]
    },
    {
     "name": "stderr",
     "output_type": "stream",
     "text": []
    },
    {
     "name": "stdout",
     "output_type": "stream",
     "text": [
      "Epoch 43:\t Time: 1168.30 \t(per epoch: 26.55)\n"
     ]
    },
    {
     "name": "stderr",
     "output_type": "stream",
     "text": []
    },
    {
     "name": "stdout",
     "output_type": "stream",
     "text": [
      "Epoch 44:\t Time: 1194.79 \t(per epoch: 26.55)\n"
     ]
    },
    {
     "name": "stderr",
     "output_type": "stream",
     "text": []
    },
    {
     "name": "stdout",
     "output_type": "stream",
     "text": [
      "Epoch 45:\t Time: 1221.40 \t(per epoch: 26.55)\n"
     ]
    },
    {
     "name": "stderr",
     "output_type": "stream",
     "text": []
    },
    {
     "name": "stdout",
     "output_type": "stream",
     "text": [
      "Epoch 46:\t Time: 1248.06 \t(per epoch: 26.55)\n"
     ]
    },
    {
     "name": "stderr",
     "output_type": "stream",
     "text": []
    },
    {
     "name": "stdout",
     "output_type": "stream",
     "text": [
      "Epoch 47:\t Time: 1274.61 \t(per epoch: 26.55)\n"
     ]
    },
    {
     "name": "stderr",
     "output_type": "stream",
     "text": []
    },
    {
     "name": "stdout",
     "output_type": "stream",
     "text": [
      "Epoch 48:\t Time: 1301.05 \t(per epoch: 26.55)\n"
     ]
    },
    {
     "name": "stderr",
     "output_type": "stream",
     "text": []
    },
    {
     "name": "stdout",
     "output_type": "stream",
     "text": [
      "Epoch 49:\t Time: 1327.38 \t(per epoch: 26.55)\n"
     ]
    },
    {
     "name": "stderr",
     "output_type": "stream",
     "text": []
    },
    {
     "name": "stdout",
     "output_type": "stream",
     "text": [
      "Epoch 50:\t Time: 1354.13 \t(per epoch: 26.55)\n"
     ]
    },
    {
     "name": "stderr",
     "output_type": "stream",
     "text": []
    },
    {
     "name": "stdout",
     "output_type": "stream",
     "text": [
      "Epoch 51:\t Time: 1381.09 \t(per epoch: 26.56)\n"
     ]
    },
    {
     "name": "stderr",
     "output_type": "stream",
     "text": []
    },
    {
     "name": "stdout",
     "output_type": "stream",
     "text": [
      "Epoch 52:\t Time: 1407.73 \t(per epoch: 26.56)\n"
     ]
    },
    {
     "name": "stderr",
     "output_type": "stream",
     "text": []
    },
    {
     "name": "stdout",
     "output_type": "stream",
     "text": [
      "Epoch 53:\t Time: 1434.51 \t(per epoch: 26.56)\n"
     ]
    },
    {
     "name": "stderr",
     "output_type": "stream",
     "text": []
    },
    {
     "name": "stdout",
     "output_type": "stream",
     "text": [
      "Epoch 54:\t Time: 1461.19 \t(per epoch: 26.57)\n"
     ]
    },
    {
     "name": "stderr",
     "output_type": "stream",
     "text": []
    },
    {
     "name": "stdout",
     "output_type": "stream",
     "text": [
      "Epoch 55:\t Time: 1487.83 \t(per epoch: 26.57)\n"
     ]
    },
    {
     "name": "stderr",
     "output_type": "stream",
     "text": []
    },
    {
     "name": "stdout",
     "output_type": "stream",
     "text": [
      "Epoch 56:\t Time: 1514.34 \t(per epoch: 26.57)\n"
     ]
    },
    {
     "name": "stderr",
     "output_type": "stream",
     "text": []
    },
    {
     "name": "stdout",
     "output_type": "stream",
     "text": [
      "Epoch 57:\t Time: 1540.87 \t(per epoch: 26.57)\n"
     ]
    },
    {
     "name": "stderr",
     "output_type": "stream",
     "text": []
    },
    {
     "name": "stdout",
     "output_type": "stream",
     "text": [
      "Epoch 58:\t Time: 1567.33 \t(per epoch: 26.56)\n"
     ]
    },
    {
     "name": "stderr",
     "output_type": "stream",
     "text": []
    },
    {
     "name": "stdout",
     "output_type": "stream",
     "text": [
      "Epoch 59:\t Time: 1594.03 \t(per epoch: 26.57)\n"
     ]
    },
    {
     "name": "stderr",
     "output_type": "stream",
     "text": []
    },
    {
     "name": "stdout",
     "output_type": "stream",
     "text": [
      "Epoch 60:\t Time: 1620.55 \t(per epoch: 26.57)\n"
     ]
    },
    {
     "name": "stderr",
     "output_type": "stream",
     "text": []
    },
    {
     "name": "stdout",
     "output_type": "stream",
     "text": [
      "Epoch 61:\t Time: 1647.07 \t(per epoch: 26.57)\n"
     ]
    },
    {
     "name": "stderr",
     "output_type": "stream",
     "text": []
    },
    {
     "name": "stdout",
     "output_type": "stream",
     "text": [
      "Epoch 62:\t Time: 1673.39 \t(per epoch: 26.56)\n"
     ]
    },
    {
     "name": "stderr",
     "output_type": "stream",
     "text": []
    },
    {
     "name": "stdout",
     "output_type": "stream",
     "text": [
      "Epoch 63:\t Time: 1699.88 \t(per epoch: 26.56)\n"
     ]
    },
    {
     "name": "stderr",
     "output_type": "stream",
     "text": []
    },
    {
     "name": "stdout",
     "output_type": "stream",
     "text": [
      "Epoch 64:\t Time: 1726.66 \t(per epoch: 26.56)\n"
     ]
    },
    {
     "name": "stderr",
     "output_type": "stream",
     "text": []
    },
    {
     "name": "stdout",
     "output_type": "stream",
     "text": [
      "Epoch 65:\t Time: 1753.26 \t(per epoch: 26.56)\n"
     ]
    },
    {
     "name": "stderr",
     "output_type": "stream",
     "text": []
    },
    {
     "name": "stdout",
     "output_type": "stream",
     "text": [
      "Epoch 66:\t Time: 1779.84 \t(per epoch: 26.56)\n"
     ]
    },
    {
     "name": "stderr",
     "output_type": "stream",
     "text": []
    },
    {
     "name": "stdout",
     "output_type": "stream",
     "text": [
      "Epoch 67:\t Time: 1806.41 \t(per epoch: 26.56)\n"
     ]
    },
    {
     "name": "stderr",
     "output_type": "stream",
     "text": []
    },
    {
     "name": "stdout",
     "output_type": "stream",
     "text": [
      "Epoch 68:\t Time: 1833.17 \t(per epoch: 26.57)\n"
     ]
    },
    {
     "name": "stderr",
     "output_type": "stream",
     "text": []
    },
    {
     "name": "stdout",
     "output_type": "stream",
     "text": [
      "Epoch 69:\t Time: 1860.10 \t(per epoch: 26.57)\n"
     ]
    },
    {
     "name": "stderr",
     "output_type": "stream",
     "text": []
    },
    {
     "name": "stdout",
     "output_type": "stream",
     "text": [
      "Epoch 70:\t Time: 1886.80 \t(per epoch: 26.57)\n"
     ]
    },
    {
     "name": "stderr",
     "output_type": "stream",
     "text": []
    },
    {
     "name": "stdout",
     "output_type": "stream",
     "text": [
      "Epoch 71:\t Time: 1913.54 \t(per epoch: 26.58)\n"
     ]
    },
    {
     "name": "stderr",
     "output_type": "stream",
     "text": []
    },
    {
     "name": "stdout",
     "output_type": "stream",
     "text": [
      "Epoch 72:\t Time: 1940.18 \t(per epoch: 26.58)\n"
     ]
    },
    {
     "name": "stderr",
     "output_type": "stream",
     "text": []
    },
    {
     "name": "stdout",
     "output_type": "stream",
     "text": [
      "Epoch 73:\t Time: 1966.85 \t(per epoch: 26.58)\n"
     ]
    },
    {
     "name": "stderr",
     "output_type": "stream",
     "text": []
    },
    {
     "name": "stdout",
     "output_type": "stream",
     "text": [
      "Epoch 74:\t Time: 1993.55 \t(per epoch: 26.58)\n"
     ]
    },
    {
     "name": "stderr",
     "output_type": "stream",
     "text": []
    },
    {
     "name": "stdout",
     "output_type": "stream",
     "text": [
      "Epoch 75:\t Time: 2020.25 \t(per epoch: 26.58)\n"
     ]
    },
    {
     "name": "stderr",
     "output_type": "stream",
     "text": []
    },
    {
     "name": "stdout",
     "output_type": "stream",
     "text": [
      "Epoch 76:\t Time: 2046.69 \t(per epoch: 26.58)\n"
     ]
    },
    {
     "name": "stderr",
     "output_type": "stream",
     "text": []
    },
    {
     "name": "stdout",
     "output_type": "stream",
     "text": [
      "Epoch 77:\t Time: 2073.23 \t(per epoch: 26.58)\n"
     ]
    },
    {
     "name": "stderr",
     "output_type": "stream",
     "text": []
    },
    {
     "name": "stdout",
     "output_type": "stream",
     "text": [
      "Epoch 78:\t Time: 2099.92 \t(per epoch: 26.58)\n"
     ]
    },
    {
     "name": "stderr",
     "output_type": "stream",
     "text": []
    },
    {
     "name": "stdout",
     "output_type": "stream",
     "text": [
      "Epoch 79:\t Time: 2126.58 \t(per epoch: 26.58)\n"
     ]
    },
    {
     "name": "stderr",
     "output_type": "stream",
     "text": []
    },
    {
     "name": "stdout",
     "output_type": "stream",
     "text": [
      "Epoch 80:\t Time: 2153.01 \t(per epoch: 26.58)\n"
     ]
    },
    {
     "name": "stderr",
     "output_type": "stream",
     "text": []
    },
    {
     "name": "stdout",
     "output_type": "stream",
     "text": [
      "Epoch 81:\t Time: 2179.57 \t(per epoch: 26.58)\n"
     ]
    },
    {
     "name": "stderr",
     "output_type": "stream",
     "text": []
    },
    {
     "name": "stdout",
     "output_type": "stream",
     "text": [
      "Epoch 82:\t Time: 2206.07 \t(per epoch: 26.58)\n"
     ]
    },
    {
     "name": "stderr",
     "output_type": "stream",
     "text": []
    },
    {
     "name": "stdout",
     "output_type": "stream",
     "text": [
      "Epoch 83:\t Time: 2232.72 \t(per epoch: 26.58)\n"
     ]
    },
    {
     "name": "stderr",
     "output_type": "stream",
     "text": []
    },
    {
     "name": "stdout",
     "output_type": "stream",
     "text": [
      "Epoch 84:\t Time: 2259.54 \t(per epoch: 26.58)\n"
     ]
    },
    {
     "name": "stderr",
     "output_type": "stream",
     "text": []
    },
    {
     "name": "stdout",
     "output_type": "stream",
     "text": [
      "Epoch 85:\t Time: 2286.33 \t(per epoch: 26.59)\n"
     ]
    },
    {
     "name": "stderr",
     "output_type": "stream",
     "text": []
    },
    {
     "name": "stdout",
     "output_type": "stream",
     "text": [
      "Epoch 86:\t Time: 2312.82 \t(per epoch: 26.58)\n"
     ]
    },
    {
     "name": "stderr",
     "output_type": "stream",
     "text": []
    },
    {
     "name": "stdout",
     "output_type": "stream",
     "text": [
      "Epoch 87:\t Time: 2339.42 \t(per epoch: 26.58)\n"
     ]
    },
    {
     "name": "stderr",
     "output_type": "stream",
     "text": []
    },
    {
     "name": "stdout",
     "output_type": "stream",
     "text": [
      "Epoch 88:\t Time: 2365.98 \t(per epoch: 26.58)\n"
     ]
    },
    {
     "name": "stderr",
     "output_type": "stream",
     "text": []
    },
    {
     "name": "stdout",
     "output_type": "stream",
     "text": [
      "Epoch 89:\t Time: 2392.55 \t(per epoch: 26.58)\n"
     ]
    },
    {
     "name": "stderr",
     "output_type": "stream",
     "text": []
    },
    {
     "name": "stdout",
     "output_type": "stream",
     "text": [
      "Epoch 90:\t Time: 2419.11 \t(per epoch: 26.58)\n"
     ]
    },
    {
     "name": "stderr",
     "output_type": "stream",
     "text": []
    },
    {
     "name": "stdout",
     "output_type": "stream",
     "text": [
      "Epoch 91:\t Time: 2445.54 \t(per epoch: 26.58)\n"
     ]
    },
    {
     "name": "stderr",
     "output_type": "stream",
     "text": []
    },
    {
     "name": "stdout",
     "output_type": "stream",
     "text": [
      "Epoch 92:\t Time: 2472.15 \t(per epoch: 26.58)\n"
     ]
    },
    {
     "name": "stderr",
     "output_type": "stream",
     "text": []
    },
    {
     "name": "stdout",
     "output_type": "stream",
     "text": [
      "Epoch 93:\t Time: 2499.10 \t(per epoch: 26.59)\n"
     ]
    },
    {
     "name": "stderr",
     "output_type": "stream",
     "text": []
    },
    {
     "name": "stdout",
     "output_type": "stream",
     "text": [
      "Epoch 94:\t Time: 2525.90 \t(per epoch: 26.59)\n"
     ]
    },
    {
     "name": "stderr",
     "output_type": "stream",
     "text": []
    },
    {
     "name": "stdout",
     "output_type": "stream",
     "text": [
      "Epoch 95:\t Time: 2552.59 \t(per epoch: 26.59)\n"
     ]
    },
    {
     "name": "stderr",
     "output_type": "stream",
     "text": []
    },
    {
     "name": "stdout",
     "output_type": "stream",
     "text": [
      "Epoch 96:\t Time: 2579.25 \t(per epoch: 26.59)\n"
     ]
    },
    {
     "name": "stderr",
     "output_type": "stream",
     "text": []
    },
    {
     "name": "stdout",
     "output_type": "stream",
     "text": [
      "Epoch 97:\t Time: 2605.89 \t(per epoch: 26.59)\n"
     ]
    },
    {
     "name": "stderr",
     "output_type": "stream",
     "text": []
    },
    {
     "name": "stdout",
     "output_type": "stream",
     "text": [
      "Epoch 98:\t Time: 2632.42 \t(per epoch: 26.59)\n"
     ]
    },
    {
     "name": "stderr",
     "output_type": "stream",
     "text": []
    },
    {
     "name": "stdout",
     "output_type": "stream",
     "text": [
      "Epoch 99:\t Time: 2659.06 \t(per epoch: 26.59)\n"
     ]
    },
    {
     "name": "stderr",
     "output_type": "stream",
     "text": []
    },
    {
     "name": "stdout",
     "output_type": "stream",
     "text": [
      "Epoch 100:\t Time: 2685.62 \t(per epoch: 26.59)\n"
     ]
    },
    {
     "name": "stderr",
     "output_type": "stream",
     "text": []
    },
    {
     "name": "stdout",
     "output_type": "stream",
     "text": [
      "Epoch 101:\t Time: 2712.31 \t(per epoch: 26.59)\n"
     ]
    },
    {
     "name": "stderr",
     "output_type": "stream",
     "text": []
    },
    {
     "name": "stdout",
     "output_type": "stream",
     "text": [
      "Epoch 102:\t Time: 2739.01 \t(per epoch: 26.59)\n"
     ]
    },
    {
     "name": "stderr",
     "output_type": "stream",
     "text": []
    },
    {
     "name": "stdout",
     "output_type": "stream",
     "text": [
      "Epoch 103:\t Time: 2765.58 \t(per epoch: 26.59)\n"
     ]
    },
    {
     "name": "stderr",
     "output_type": "stream",
     "text": []
    },
    {
     "name": "stdout",
     "output_type": "stream",
     "text": [
      "Epoch 104:\t Time: 2792.14 \t(per epoch: 26.59)\n"
     ]
    },
    {
     "name": "stderr",
     "output_type": "stream",
     "text": []
    },
    {
     "name": "stdout",
     "output_type": "stream",
     "text": [
      "Epoch 105:\t Time: 2818.62 \t(per epoch: 26.59)\n"
     ]
    },
    {
     "name": "stderr",
     "output_type": "stream",
     "text": []
    },
    {
     "name": "stdout",
     "output_type": "stream",
     "text": [
      "Epoch 106:\t Time: 2845.06 \t(per epoch: 26.59)\n"
     ]
    },
    {
     "name": "stderr",
     "output_type": "stream",
     "text": []
    },
    {
     "name": "stdout",
     "output_type": "stream",
     "text": [
      "Epoch 107:\t Time: 2871.59 \t(per epoch: 26.59)\n"
     ]
    },
    {
     "name": "stderr",
     "output_type": "stream",
     "text": []
    },
    {
     "name": "stdout",
     "output_type": "stream",
     "text": [
      "Epoch 108:\t Time: 2898.15 \t(per epoch: 26.59)\n"
     ]
    },
    {
     "name": "stderr",
     "output_type": "stream",
     "text": []
    },
    {
     "name": "stdout",
     "output_type": "stream",
     "text": [
      "Epoch 109:\t Time: 2924.95 \t(per epoch: 26.59)\n"
     ]
    },
    {
     "name": "stderr",
     "output_type": "stream",
     "text": []
    },
    {
     "name": "stdout",
     "output_type": "stream",
     "text": [
      "Epoch 110:\t Time: 2951.63 \t(per epoch: 26.59)\n"
     ]
    },
    {
     "name": "stderr",
     "output_type": "stream",
     "text": []
    },
    {
     "name": "stdout",
     "output_type": "stream",
     "text": [
      "Epoch 111:\t Time: 2978.69 \t(per epoch: 26.60)\n"
     ]
    },
    {
     "name": "stderr",
     "output_type": "stream",
     "text": []
    },
    {
     "name": "stdout",
     "output_type": "stream",
     "text": [
      "Epoch 112:\t Time: 3005.30 \t(per epoch: 26.60)\n"
     ]
    },
    {
     "name": "stderr",
     "output_type": "stream",
     "text": []
    },
    {
     "name": "stdout",
     "output_type": "stream",
     "text": [
      "Epoch 113:\t Time: 3032.16 \t(per epoch: 26.60)\n"
     ]
    },
    {
     "name": "stderr",
     "output_type": "stream",
     "text": []
    },
    {
     "name": "stdout",
     "output_type": "stream",
     "text": [
      "Epoch 114:\t Time: 3058.71 \t(per epoch: 26.60)\n"
     ]
    },
    {
     "name": "stderr",
     "output_type": "stream",
     "text": []
    },
    {
     "name": "stdout",
     "output_type": "stream",
     "text": [
      "Epoch 115:\t Time: 3085.49 \t(per epoch: 26.60)\n"
     ]
    },
    {
     "name": "stderr",
     "output_type": "stream",
     "text": []
    },
    {
     "name": "stdout",
     "output_type": "stream",
     "text": [
      "Epoch 116:\t Time: 3112.14 \t(per epoch: 26.60)\n"
     ]
    },
    {
     "name": "stderr",
     "output_type": "stream",
     "text": []
    },
    {
     "name": "stdout",
     "output_type": "stream",
     "text": [
      "Epoch 117:\t Time: 3138.75 \t(per epoch: 26.60)\n"
     ]
    },
    {
     "name": "stderr",
     "output_type": "stream",
     "text": []
    },
    {
     "name": "stdout",
     "output_type": "stream",
     "text": [
      "Epoch 118:\t Time: 3165.30 \t(per epoch: 26.60)\n"
     ]
    },
    {
     "name": "stderr",
     "output_type": "stream",
     "text": []
    },
    {
     "name": "stdout",
     "output_type": "stream",
     "text": [
      "Epoch 119:\t Time: 3192.03 \t(per epoch: 26.60)\n"
     ]
    },
    {
     "name": "stderr",
     "output_type": "stream",
     "text": []
    },
    {
     "name": "stdout",
     "output_type": "stream",
     "text": [
      "Epoch 120:\t Time: 3218.62 \t(per epoch: 26.60)\n"
     ]
    },
    {
     "name": "stderr",
     "output_type": "stream",
     "text": []
    },
    {
     "name": "stdout",
     "output_type": "stream",
     "text": [
      "Epoch 121:\t Time: 3245.42 \t(per epoch: 26.60)\n"
     ]
    },
    {
     "name": "stderr",
     "output_type": "stream",
     "text": []
    },
    {
     "name": "stdout",
     "output_type": "stream",
     "text": [
      "Epoch 122:\t Time: 3272.05 \t(per epoch: 26.60)\n"
     ]
    },
    {
     "name": "stderr",
     "output_type": "stream",
     "text": []
    },
    {
     "name": "stdout",
     "output_type": "stream",
     "text": [
      "Epoch 123:\t Time: 3298.62 \t(per epoch: 26.60)\n"
     ]
    },
    {
     "name": "stderr",
     "output_type": "stream",
     "text": []
    },
    {
     "name": "stdout",
     "output_type": "stream",
     "text": [
      "Epoch 124:\t Time: 3325.21 \t(per epoch: 26.60)\n"
     ]
    },
    {
     "name": "stderr",
     "output_type": "stream",
     "text": []
    },
    {
     "name": "stdout",
     "output_type": "stream",
     "text": [
      "Epoch 125:\t Time: 3351.91 \t(per epoch: 26.60)\n"
     ]
    },
    {
     "name": "stderr",
     "output_type": "stream",
     "text": []
    },
    {
     "name": "stdout",
     "output_type": "stream",
     "text": [
      "Epoch 126:\t Time: 3378.48 \t(per epoch: 26.60)\n"
     ]
    },
    {
     "name": "stderr",
     "output_type": "stream",
     "text": []
    },
    {
     "name": "stdout",
     "output_type": "stream",
     "text": [
      "Epoch 127:\t Time: 3405.09 \t(per epoch: 26.60)\n"
     ]
    },
    {
     "name": "stderr",
     "output_type": "stream",
     "text": []
    },
    {
     "name": "stdout",
     "output_type": "stream",
     "text": [
      "Epoch 128:\t Time: 3431.52 \t(per epoch: 26.60)\n"
     ]
    },
    {
     "name": "stderr",
     "output_type": "stream",
     "text": []
    },
    {
     "name": "stdout",
     "output_type": "stream",
     "text": [
      "Epoch 129:\t Time: 3458.20 \t(per epoch: 26.60)\n"
     ]
    },
    {
     "name": "stderr",
     "output_type": "stream",
     "text": []
    },
    {
     "name": "stdout",
     "output_type": "stream",
     "text": [
      "Epoch 130:\t Time: 3484.81 \t(per epoch: 26.60)\n"
     ]
    },
    {
     "name": "stderr",
     "output_type": "stream",
     "text": []
    },
    {
     "name": "stdout",
     "output_type": "stream",
     "text": [
      "Epoch 131:\t Time: 3511.51 \t(per epoch: 26.60)\n"
     ]
    },
    {
     "name": "stderr",
     "output_type": "stream",
     "text": []
    },
    {
     "name": "stdout",
     "output_type": "stream",
     "text": [
      "Epoch 132:\t Time: 3538.25 \t(per epoch: 26.60)\n"
     ]
    },
    {
     "name": "stderr",
     "output_type": "stream",
     "text": []
    },
    {
     "name": "stdout",
     "output_type": "stream",
     "text": [
      "Epoch 133:\t Time: 3564.89 \t(per epoch: 26.60)\n"
     ]
    },
    {
     "name": "stderr",
     "output_type": "stream",
     "text": []
    },
    {
     "name": "stdout",
     "output_type": "stream",
     "text": [
      "Epoch 134:\t Time: 3591.43 \t(per epoch: 26.60)\n"
     ]
    },
    {
     "name": "stderr",
     "output_type": "stream",
     "text": []
    },
    {
     "name": "stdout",
     "output_type": "stream",
     "text": [
      "Epoch 135:\t Time: 3618.03 \t(per epoch: 26.60)\n"
     ]
    },
    {
     "name": "stderr",
     "output_type": "stream",
     "text": []
    },
    {
     "name": "stdout",
     "output_type": "stream",
     "text": [
      "Epoch 136:\t Time: 3644.56 \t(per epoch: 26.60)\n"
     ]
    },
    {
     "name": "stderr",
     "output_type": "stream",
     "text": []
    },
    {
     "name": "stdout",
     "output_type": "stream",
     "text": [
      "Epoch 137:\t Time: 3671.19 \t(per epoch: 26.60)\n"
     ]
    },
    {
     "name": "stderr",
     "output_type": "stream",
     "text": []
    },
    {
     "name": "stdout",
     "output_type": "stream",
     "text": [
      "Epoch 138:\t Time: 3697.66 \t(per epoch: 26.60)\n"
     ]
    },
    {
     "name": "stderr",
     "output_type": "stream",
     "text": []
    },
    {
     "name": "stdout",
     "output_type": "stream",
     "text": [
      "Epoch 139:\t Time: 3724.70 \t(per epoch: 26.60)\n"
     ]
    },
    {
     "name": "stderr",
     "output_type": "stream",
     "text": []
    },
    {
     "name": "stdout",
     "output_type": "stream",
     "text": [
      "Epoch 140:\t Time: 3751.38 \t(per epoch: 26.61)\n"
     ]
    },
    {
     "name": "stderr",
     "output_type": "stream",
     "text": []
    },
    {
     "name": "stdout",
     "output_type": "stream",
     "text": [
      "Epoch 141:\t Time: 3777.90 \t(per epoch: 26.60)\n"
     ]
    },
    {
     "name": "stderr",
     "output_type": "stream",
     "text": []
    },
    {
     "name": "stdout",
     "output_type": "stream",
     "text": [
      "Epoch 142:\t Time: 3804.38 \t(per epoch: 26.60)\n"
     ]
    },
    {
     "name": "stderr",
     "output_type": "stream",
     "text": []
    },
    {
     "name": "stdout",
     "output_type": "stream",
     "text": [
      "Epoch 143:\t Time: 3831.04 \t(per epoch: 26.60)\n"
     ]
    },
    {
     "name": "stderr",
     "output_type": "stream",
     "text": []
    },
    {
     "name": "stdout",
     "output_type": "stream",
     "text": [
      "Epoch 144:\t Time: 3857.45 \t(per epoch: 26.60)\n"
     ]
    },
    {
     "name": "stderr",
     "output_type": "stream",
     "text": []
    },
    {
     "name": "stdout",
     "output_type": "stream",
     "text": [
      "Epoch 145:\t Time: 3884.05 \t(per epoch: 26.60)\n"
     ]
    },
    {
     "name": "stderr",
     "output_type": "stream",
     "text": []
    },
    {
     "name": "stdout",
     "output_type": "stream",
     "text": [
      "Epoch 146:\t Time: 3910.66 \t(per epoch: 26.60)\n"
     ]
    },
    {
     "name": "stderr",
     "output_type": "stream",
     "text": []
    },
    {
     "name": "stdout",
     "output_type": "stream",
     "text": [
      "Epoch 147:\t Time: 3937.17 \t(per epoch: 26.60)\n"
     ]
    },
    {
     "name": "stderr",
     "output_type": "stream",
     "text": []
    },
    {
     "name": "stdout",
     "output_type": "stream",
     "text": [
      "Epoch 148:\t Time: 3963.80 \t(per epoch: 26.60)\n"
     ]
    },
    {
     "name": "stderr",
     "output_type": "stream",
     "text": []
    },
    {
     "name": "stdout",
     "output_type": "stream",
     "text": [
      "Epoch 149:\t Time: 3990.59 \t(per epoch: 26.60)\n"
     ]
    }
   ],
   "source": [
    "save_models = True\n",
    "n_epochs = 150\n",
    "\n",
    "pbar = tqdm(total=n_epochs*(np.minimum(dataset.frames_to_keep, len(dataset.train_indices))/batch_size))\n",
    "\n",
    "t0 = time.time()\n",
    "for e in range(n_epochs):\n",
    "    pbar.set_description(f'Epoch {e}')\n",
    "    loss_values_train = {}\n",
    "    loss_values_val = {}\n",
    "\n",
    "    for mkey in models.keys():\n",
    "        models[mkey].reset_running_train_loss()\n",
    "        models[mkey].reset_running_val_loss()\n",
    "\n",
    "    for sample in train_loader: \n",
    "        for key in sample:\n",
    "            sample[key] = sample[key].to(device)\n",
    "        \n",
    "        for mkey in models.keys():\n",
    "            models[mkey].training_step(sample, epoch=e) # loss.backward() and optimizer step occur in here\n",
    "        \n",
    "        pbar.update(1)\n",
    "\n",
    "    for sample in validation_loader:\n",
    "        for key in sample:\n",
    "            sample[key] = sample[key].to(device)\n",
    "    \n",
    "        for mkey in models.keys():\n",
    "            models[mkey].validation_step(sample, epoch=e)\n",
    "\n",
    "    for mkey in models.keys():\n",
    "        models[mkey].scheduler.step()\n",
    "\n",
    "    print(\"Epoch %u:\\t Time: %0.2f \\t(per epoch: %0.2f)\"%(e, time.time()-t0, (time.time()-t0)/(e+1)))\n",
    "    print(loss_values_train)\n",
    "    # SAVE\n",
    "    if save_models:\n",
    "        # Log in tensorboard\n",
    "        # for mkey in models.keys():\n",
    "        #     model[mkey].log_images(epoch=e)\n",
    "        #     model[mkey].log_scalars(epoch=e) \n",
    "            \n",
    "        # Save models\n",
    "        if e%(logger_params['save_model_freq'])==0 or e==n_epochs-1: \n",
    "            torch.save({'model': model.state_dict(),\n",
    "                        'model_kwargs': model_kwargs,\n",
    "                        'model_name': model.name,\n",
    "                        'model_idx': model.index,\n",
    "                        'dataset_kwargs': dataset_kwargs,\n",
    "                        'test_cells': dataset.test_cells,\n",
    "                        }, \n",
    "                       os.path.join( model.logdir, 'model.pt') )\n"
   ]
  },
  {
   "cell_type": "markdown",
   "id": "43d0a343-64ea-4f12-b07d-0dd9da32884c",
   "metadata": {},
   "source": [
    "# Plot prediction on train cell"
   ]
  },
  {
   "cell_type": "code",
   "execution_count": 72,
   "id": "21d3857c-e082-4687-b306-6468aa1b4233",
   "metadata": {},
   "outputs": [
    {
     "name": "stdout",
     "output_type": "stream",
     "text": [
      "{'crop_size': 960, 'output_channels': 7, 'norm_output': {'rescale': 0.25, 'threshold': 0.4}, 'rotate': False}\n"
     ]
    }
   ],
   "source": [
    "import tifffile\n",
    "from utils.data67_processing import CellDataset, SubsetSampler\n",
    "\n",
    "modelinfo = torch.load('/net/projects/CLS/force_reference/gitcodes/cell_force_prediction/tensorboard_logs/model_z2p_150ep_0/model.pt',  map_location=torch.device('cpu'))\n",
    "\n",
    "dataset_kwargs = modelinfo['dataset_kwargs']\n",
    "test_cells = dataset_kwargs['test_cells']\n",
    "\n",
    "modelinfo['dataset_kwargs']['root'] = '/net/projects/CLS/force_reference/data/TractionData_27_04_21_ZyxinPaxillin/'\n",
    "modelinfo['dataset_kwargs']['transform_kwargs']['crop_size'] = 960\n",
    "modelinfo['dataset_kwargs']['transform_kwargs']['rotate'] = False\n",
    "\n",
    "model = UNet(**modelinfo['model_kwargs'], model_idx = 0)\n",
    "\n",
    "model.load_state_dict(modelinfo['model'])\n",
    "\n",
    "dataset = CellDataset(**modelinfo['dataset_kwargs'])\n",
    "\n",
    "sampler = SubsetSampler(np.arange(len(dataset)))\n",
    "loader = torch.utils.data.DataLoader(dataset, \n",
    "    batch_size=1,\n",
    "    shuffle=False,\n",
    "    sampler=sampler,\n",
    "    pin_memory=True)\n",
    "\n",
    "for cell in ['cell_1','cell_2','cell_4','cell_5']:\n",
    "    for frame in range(30):  \n",
    "\n",
    "        idx = np.sort(dataset.info[dataset.info.folder==cell].index.values)\n",
    "        idx = idx[frame]\n",
    "\n",
    "        model.eval()\n",
    "        model.to(torch.device('cuda:0'))\n",
    "\n",
    "        sample = dataset[idx]\n",
    "        for k in sample:\n",
    "            sample[k] = sample[k].unsqueeze(0).to(torch.device('cuda:0'))\n",
    "\n",
    "        preds = []\n",
    "        for _ in range(5):\n",
    "            pred = model(model.select_inputs(model.input_type, sample)).detach().cpu().numpy().squeeze()\n",
    "            preds.append(pred)\n",
    "            \n",
    "        pred = np.mean(preds, axis=0) \n",
    "        target = sample['output'].detach().cpu().numpy().squeeze() \n",
    "        zyx = sample['zyxin'].detach().cpu().numpy().squeeze()\n",
    "        pax = sample['actin'].detach().cpu().numpy().squeeze()\n",
    "\n",
    "\n",
    "        fig,ax=plt.subplots(1,3,figsize=(8, 3*1), dpi=200)\n",
    "\n",
    "        ax[0].set_title('Zyxin')\n",
    "        ax[0].imshow(zyx,  cmap='gray', vmax=zyx.max()/4, vmin=0)\n",
    "        if cell == 'cell_1':\n",
    "            ax[0].set_xlabel('Testing set: ' + cell)\n",
    "        else:\n",
    "            ax[0].set_xlabel('Training set: ' + cell)\n",
    "            \n",
    "            \n",
    "        ax[1].set_title('Paxillin-Exp')\n",
    "        ax[1].imshow(pax, cmap='gray', vmax=pax.max()/4, vmin=0)\n",
    "        ax[1].set_xlabel('Frame '+ str(frame))\n",
    "        \n",
    "        ax[2].set_title('Paxillin-NN')\n",
    "        ax[2].imshow(pred.squeeze()[0],  cmap='gray', vmax=pred.squeeze()[0].max()/4, vmin=0)\n",
    "\n",
    "\n",
    "        tifffile.imsave(os.path.join('/net/projects/CLS/force_reference/zyxin2pax_prediction/tiff',cell + '_frame'+str(frame)+'.tif'),pred.squeeze()[0]/5)\n",
    "        \n",
    "        for a in ax.flat:\n",
    "            a.set_xticks([])\n",
    "            a.set_yticks([])\n",
    "                    \n",
    "        fig.savefig(os.path.join('/net/projects/CLS/force_reference/zyxin2pax_prediction/plot', cell + '_frame'+str(frame)+'.png'))\n",
    "        plt.close(fig) \n",
    "\n",
    "# transform_kwargs = {'crop_size': 960,\n",
    "#                     'output_channels': out_channels,\n",
    "#                     'norm_output': {'rescale': 1, 'threshold': 0.4},\n",
    "#                     'rotate': False\n",
    "#                     }\n",
    "\n",
    "# dataset_kwargs = { \n",
    "#                     'root': directory,\n",
    "#                     'force_load': False,\n",
    "#                     'test_split': 'bycell',\n",
    "#                     'test_cells': test_cells,\n",
    "#                     'in_channels': in_channels, \n",
    "#                     'out_channels': out_channels, \n",
    "#                     'transform_kwargs': transform_kwargs,\n",
    "#                     'frames_to_keep': 256,\n",
    "#                     'input_baseline_normalization': 'outside_inside', # Comment on what these do\n",
    "#                     'output_baseline_normalization': 'mean_dataset',\n",
    "#                     'remake_dataset_csv': True\n",
    "#                      }\n",
    "\n",
    "# model = models['zyxin1']\n",
    "\n",
    "# eval_dataset_kwargs = dataset_kwargs\n",
    "# eval_dataset_kwargs['exclude_frames'] = None\n",
    "# dataset_eval = dp.CellDataset( **eval_dataset_kwargs )\n",
    "\n",
    "# for cell in ['cell_1','cell_2','cell_4','cell_5']:\n",
    "#     for frame in range(30):   \n",
    "       \n",
    "\n",
    "\n",
    "#         # cell = 'cell_2'\n",
    "#         # frame = 1\n",
    "\n",
    "#         idx = dataset_eval.info.index[(dataset_eval.info.folder==cell)&(dataset_eval.info.frame==frame)].tolist()[0] # Get index in dataframe that contains the right cell and frame.\n",
    "\n",
    "\n",
    "#         sample = dataset_eval[idx] # get item\n",
    "\n",
    "#         input_image = model.select_inputs(model.input_type, sample).unsqueeze(0).to(device)\n",
    "#         # print(input_image.shape)\n",
    "\n",
    "#         pred = model(input_image).detach().cpu().numpy()\n",
    "\n",
    "#         # print(pred.shape)\n",
    "\n",
    "#         # fig,ax=plt.subplots(1,3,figsize=(8, 3*1), dpi=200)\n",
    "\n",
    "#         # ax[0].set_title('Zyxin')\n",
    "#         # ax[0].imshow(sample['zyxin'].squeeze(), origin='lower', cmap='gray', vmax=4, vmin=0)\n",
    "\n",
    "#         # ax[1].set_title('Paxillin-Exp')\n",
    "#         # ax[1].imshow(sample['actin'].squeeze(), origin='lower', cmap='gray', vmax=4, vmin=0)\n",
    "\n",
    "#         # ax[2].set_title('Paxillin-NN')\n",
    "#         # ax[2].imshow(pred.squeeze()[0], origin='lower', cmap='gray', vmax=4, vmin=0)\n",
    "\n",
    "        \n",
    "#         # tifffile.imsave(os.path.join('/net/projects/CLS/force_reference/zyxin2pax_prediction/tiff',cell + '_frame'+str(frame)+'.tif'),pred.squeeze()[0]/5)\n",
    "        \n",
    "#         # for a in ax.flat:\n",
    "#         #     a.set_xticks([])\n",
    "#         #     a.set_yticks([])\n",
    "                    \n",
    "#         # fig.savefig(os.path.join('/net/projects/CLS/force_reference/zyxin2pax_prediction/plot', cell + '_frame'+str(frame)+'.png'))\n",
    "#         # plt.close(fig) \n",
    "        "
   ]
  },
  {
   "cell_type": "code",
   "execution_count": 37,
   "id": "59a98f6b",
   "metadata": {},
   "outputs": [
    {
     "name": "stdout",
     "output_type": "stream",
     "text": [
      "torch.Size([1, 1, 960, 960])\n",
      "(1, 2, 960, 960)\n"
     ]
    },
    {
     "data": {
      "image/png": "[encoded data removed]",
      "text/plain": [
       "<Figure size 1600x600 with 3 Axes>"
      ]
     },
     "metadata": {},
     "output_type": "display_data"
    }
   ],
   "source": [
    "fig,ax=plt.subplots(1,3,figsize=(8, 3*1), dpi=200)\n",
    "\n",
    "model = models['zyxin2']\n",
    "\n",
    "eval_dataset_kwargs = dataset_kwargs\n",
    "eval_dataset_kwargs['transform_kwargs']['crop_size'] = 960\n",
    "eval_dataset_kwargs['exclude_frames'] = None\n",
    "dataset_eval = dp.CellDataset( **eval_dataset_kwargs )\n",
    "\n",
    "cell = 'cell_1'\n",
    "frame = 0\n",
    "\n",
    "\n",
    "idx = dataset_eval.info.index[(dataset_eval.info.folder==cell)&(dataset_eval.info.frame==frame)].tolist()[0] # Get index in dataframe that contains the right cell and frame.\n",
    "\n",
    "\n",
    "sample = dataset_eval[idx] # get item\n",
    "\n",
    "input_image = model.select_inputs(model.input_type, sample).unsqueeze(0).to(device)\n",
    "print(input_image.shape)\n",
    "\n",
    "pred = model(input_image).detach().cpu().numpy()\n",
    "\n",
    "print(pred.shape)\n",
    "\n",
    "\n",
    "ax[0].set_title('Zyxin')\n",
    "ax[0].imshow(sample['zyxin'].squeeze(), origin='lower', cmap='gray', vmax=10, vmin=0)\n",
    "\n",
    "ax[1].set_title('Paxillin-Exp')\n",
    "ax[1].imshow(sample['actin'].squeeze(), origin='lower', cmap='gray', vmax=10, vmin=0)\n",
    "\n",
    "ax[2].set_title('Paxillin-NN')\n",
    "ax[2].imshow(pred.squeeze()[0], origin='lower', cmap='gray', vmax=5, vmin=0)\n",
    "\n",
    "for a in ax.flat:\n",
    "    a.set_xticks([])\n",
    "    a.set_yticks([])"
   ]
  },
  {
   "cell_type": "markdown",
   "id": "7a3d2b03-ccd3-483c-9b08-3ed8b9dfa3ef",
   "metadata": {},
   "source": [
    "# Performance on test cell\n",
    "## It seems to underpredict quite dramatically, but we don't necessarily expect great generalization because the network was trained on an extremely small dataset (~180 frames)."
   ]
  },
  {
   "cell_type": "code",
   "execution_count": 25,
   "id": "eb14c315-a324-497d-a841-8d52851e74c3",
   "metadata": {},
   "outputs": [
    {
     "name": "stdout",
     "output_type": "stream",
     "text": [
      "torch.Size([1, 1, 960, 960])\n",
      "(1, 2, 960, 960)\n"
     ]
    },
    {
     "data": {
      "image/png": "[encoded data removed]",
      "text/plain": [
       "<Figure size 1800x600 with 3 Axes>"
      ]
     },
     "metadata": {},
     "output_type": "display_data"
    }
   ],
   "source": [
    "fig,ax=plt.subplots(1,3,figsize=(3*3, 3*1), dpi=200)\n",
    "\n",
    "model = models['actin1']\n",
    "\n",
    "eval_dataset_kwargs = dataset_kwargs\n",
    "eval_dataset_kwargs['transform_kwargs']['crop_size'] = 960\n",
    "eval_dataset_kwargs['exclude_frames'] = None\n",
    "dataset_eval = dp.CellDataset( **eval_dataset_kwargs )\n",
    "\n",
    "cell = 'cell_1'\n",
    "frame = 100\n",
    "\n",
    "idx = dataset_eval.info.index[(dataset_eval.info.folder==cell)&(dataset_eval.info.frame==frame)].tolist()[0] # Get index in dataframe that contains the right cell and frame.\n",
    "\n",
    "\n",
    "sample = dataset_eval[idx] # get item\n",
    "\n",
    "input_image = model.select_inputs(model.input_type, sample).unsqueeze(0).to(device)\n",
    "print(input_image.shape)\n",
    "\n",
    "pred = model(input_image).detach().cpu().numpy()\n",
    "\n",
    "print(pred.shape)\n",
    "\n",
    "ax[0].set_title('Paxillin')\n",
    "ax[0].imshow(sample['actin'].squeeze(), origin='lower', cmap='gray', vmax=10, vmin=0)\n",
    "\n",
    "ax[1].set_title('Zyxin-Exp')\n",
    "ax[1].imshow(sample['zyxin'].squeeze(), origin='lower', cmap='gray', vmax=300, vmin=0)\n",
    "\n",
    "ax[2].set_title('Zyxin-NN')\n",
    "ax[2].imshow(pred.squeeze()[0], origin='lower', cmap='gray', vmax=1000, vmin=0)\n",
    "\n",
    "\n",
    "for a in ax.flat:\n",
    "    a.set_xticks([])\n",
    "    a.set_yticks([])"
   ]
  },
  {
   "cell_type": "code",
   "execution_count": null,
   "id": "f1b951ae-56cc-4e4e-8ee2-9bac6cda992c",
   "metadata": {},
   "outputs": [],
   "source": []
  }
 ],
 "metadata": {
  "kernelspec": {
   "display_name": "Python 3 (ipykernel)",
   "language": "python",
   "name": "python3"
  },
  "language_info": {
   "codemirror_mode": {
    "name": "ipython",
    "version": 3
   },
   "file_extension": ".py",
   "mimetype": "text/x-python",
   "name": "python",
   "nbconvert_exporter": "python",
   "pygments_lexer": "ipython3",
   "version": "3.12.2"
  }
 },
 "nbformat": 4,
 "nbformat_minor": 5
}
