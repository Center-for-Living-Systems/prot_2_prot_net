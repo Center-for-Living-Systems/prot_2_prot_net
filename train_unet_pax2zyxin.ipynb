{
 "cells": [
  {
   "cell_type": "code",
   "execution_count": 1,
   "id": "bb65f10a-db16-448e-8553-58f4cd29d584",
   "metadata": {},
   "outputs": [
    {
     "name": "stderr",
     "output_type": "stream",
     "text": [
      "/tmp/ipykernel_1848250/3724148964.py:12: TqdmWarning: IProgress not found. Please update jupyter and ipywidgets. See https://ipywidgets.readthedocs.io/en/stable/user_install.html\n",
      "  from tqdm.autonotebook import tqdm\n"
     ]
    }
   ],
   "source": [
    "import argparse\n",
    "from itertools import product as iterprod\n",
    "import os\n",
    "import numpy as np\n",
    "import torch\n",
    "import torch.nn as nn\n",
    "import torch.nn.functional as F\n",
    "import torch.optim as optim\n",
    "from argparse import ArgumentParser\n",
    "import time\n",
    "from datetime import datetime\n",
    "from tqdm.autonotebook import tqdm\n",
    "import pandas as pd\n",
    "\n",
    "import matplotlib.pyplot as plt\n",
    "\n"
   ]
  },
  {
   "cell_type": "code",
   "execution_count": 2,
   "id": "73e7cee4",
   "metadata": {},
   "outputs": [],
   "source": [
    "import utils.data67_processing as dp\n",
    "\n",
    "\n",
    "from utils.UNeXt import UNet\n",
    "from utils.loss_inference import loss_function_dict\n",
    "\n",
    "import utils.nb_utils as nb_utils\n",
    "\n",
    "import pprint\n",
    "\n",
    "np.random.seed(11) # for reproducibility\n",
    "torch.manual_seed(11)\n",
    "\n",
    "\n",
    "%load_ext autoreload\n",
    "%autoreload 2\n",
    "%matplotlib inline"
   ]
  },
  {
   "cell_type": "code",
   "execution_count": 3,
   "id": "9f50c637",
   "metadata": {},
   "outputs": [],
   "source": [
    "batch_size = 8\n",
    "num_workers = 4\n",
    "\n",
    "# Device\n",
    "device = torch.device('cuda:0' if torch.cuda.is_available() else 'cpu')\n",
    "pin_memory = True if torch.cuda.is_available() else False"
   ]
  },
  {
   "cell_type": "code",
   "execution_count": 4,
   "id": "d5e98c2b",
   "metadata": {},
   "outputs": [
    {
     "data": {
      "text/plain": [
       "device(type='cuda', index=0)"
      ]
     },
     "execution_count": 4,
     "metadata": {},
     "output_type": "execute_result"
    }
   ],
   "source": [
    "device\n"
   ]
  },
  {
   "cell_type": "markdown",
   "id": "4f67c512-d865-4787-8900-b37ff14815ef",
   "metadata": {},
   "source": [
    "# Build dataset"
   ]
  },
  {
   "cell_type": "code",
   "execution_count": 5,
   "id": "b8f48878-9c77-4a04-8ec6-0186ae33dae5",
   "metadata": {},
   "outputs": [
    {
     "name": "stdout",
     "output_type": "stream",
     "text": [
      "{'crop_size': 512, 'output_channels': 6, 'norm_output': {'rescale': 0.25, 'threshold': 0.4}}\n"
     ]
    }
   ],
   "source": [
    "# Dataset\n",
    "directory  = '/net/projects/CLS/force_reference/data/TractionData_27_04_21_ZyxinPaxillin/'\n",
    "# directory  = '/net/projects/CLS/force_reference/data/ZyxAct_16kPa_small/'\n",
    "\n",
    "test_cells = 'cell_1'\n",
    "\n",
    "\n",
    "in_channels  = [[7]] # Example: [[4], [4,6], [4,6,7]]. Channel 4 is mask, 6 is zyxin, 7 is other protein (here actin)\n",
    "out_channels = (6)\n",
    "transform_kwargs = {'crop_size': 512,\n",
    "                    'output_channels': out_channels,\n",
    "                    'norm_output': {'rescale': 0.25, 'threshold': 0.4}\n",
    "                    }\n",
    "\n",
    "dataset_kwargs = { \n",
    "                    'root': directory,\n",
    "                    'force_load': False,\n",
    "                    'test_split': 'bycell',\n",
    "                    'test_cells': test_cells,\n",
    "                    'in_channels': in_channels, \n",
    "                    'out_channels': out_channels, \n",
    "                    'transform_kwargs': transform_kwargs,\n",
    "                    'frames_to_keep': 256,\n",
    "                    'input_baseline_normalization': 'outside_inside', # Comment on what these do\n",
    "                    'output_baseline_normalization': 'mean_dataset',\n",
    "                    'remake_dataset_csv': True\n",
    "                     }\n",
    "\n",
    "\n",
    "dataset = dp.CellDataset( **dataset_kwargs )\n",
    "\n",
    "train_loader = dataset.get_loader(dataset.train_indices, batch_size, num_workers, pin_memory)\n",
    "validation_loader = dataset.get_loader(dataset.test_indices, batch_size, num_workers, pin_memory)"
   ]
  },
  {
   "cell_type": "code",
   "execution_count": 6,
   "id": "1d2b1c80-bb7d-441b-822d-8c92a5b37a88",
   "metadata": {},
   "outputs": [
    {
     "data": {
      "text/plain": [
       "<utils.data67_processing.CellDataset at 0x7f27be6a0500>"
      ]
     },
     "execution_count": 6,
     "metadata": {},
     "output_type": "execute_result"
    }
   ],
   "source": [
    "dataset"
   ]
  },
  {
   "cell_type": "markdown",
   "id": "581858f1-cca6-4649-8e6d-03fee559b2a2",
   "metadata": {},
   "source": [
    "# Some visualizations of the training data"
   ]
  },
  {
   "cell_type": "markdown",
   "id": "37edcedc-9178-41e8-9e7c-0cf1a52ecc15",
   "metadata": {},
   "source": [
    "The dataset class gets items by looking into a dataframe (`dataset.info`) where the folders and filenames are stored. Folders correspond to single cells, and each file is a frame of the time series. \n",
    "\n",
    "`dataset.info` contains the normalization values which the data is normalized by before it is passed to the NN. Forces are normalized by `dataset.info.F_mean` and the zyxin signal is normalized by `dataset.info.zyxin_baseline_out` and `dataset.info.zyxin_baseline_in`. Details about how these are generated can be found in the DataProcessing notebook.\n",
    "    \n"
   ]
  },
  {
   "cell_type": "code",
   "execution_count": 7,
   "id": "8284c667-83dc-4ac8-b6c9-dcd3045a0206",
   "metadata": {},
   "outputs": [
    {
     "data": {
      "text/html": [
       "<div>\n",
       "<style scoped>\n",
       "    .dataframe tbody tr th:only-of-type {\n",
       "        vertical-align: middle;\n",
       "    }\n",
       "\n",
       "    .dataframe tbody tr th {\n",
       "        vertical-align: top;\n",
       "    }\n",
       "\n",
       "    .dataframe thead th {\n",
       "        text-align: right;\n",
       "    }\n",
       "</style>\n",
       "<table border=\"1\" class=\"dataframe\">\n",
       "  <thead>\n",
       "    <tr style=\"text-align: right;\">\n",
       "      <th></th>\n",
       "      <th>folder</th>\n",
       "      <th>filename</th>\n",
       "      <th>frame</th>\n",
       "      <th>root</th>\n",
       "      <th>zyxin_baseline</th>\n",
       "      <th>actin_baseline</th>\n",
       "      <th>zyxin_baseline_out</th>\n",
       "      <th>zyxin_baseline_in</th>\n",
       "      <th>actin_baseline_out</th>\n",
       "      <th>actin_baseline_in</th>\n",
       "    </tr>\n",
       "  </thead>\n",
       "  <tbody>\n",
       "    <tr>\n",
       "      <th>0</th>\n",
       "      <td>cell_5</td>\n",
       "      <td>Disp_Trac_CellMask_ForceMask_Actin_0.npy</td>\n",
       "      <td>0</td>\n",
       "      <td>/net/projects/CLS/force_reference/data/Tractio...</td>\n",
       "      <td>0.0</td>\n",
       "      <td>0.0</td>\n",
       "      <td>13.39028</td>\n",
       "      <td>86.818317</td>\n",
       "      <td>10.747155</td>\n",
       "      <td>25.830109</td>\n",
       "    </tr>\n",
       "    <tr>\n",
       "      <th>1</th>\n",
       "      <td>cell_5</td>\n",
       "      <td>Disp_Trac_CellMask_ForceMask_Actin_1.npy</td>\n",
       "      <td>1</td>\n",
       "      <td>/net/projects/CLS/force_reference/data/Tractio...</td>\n",
       "      <td>0.0</td>\n",
       "      <td>0.0</td>\n",
       "      <td>13.39028</td>\n",
       "      <td>86.818317</td>\n",
       "      <td>10.747155</td>\n",
       "      <td>25.830109</td>\n",
       "    </tr>\n",
       "    <tr>\n",
       "      <th>2</th>\n",
       "      <td>cell_5</td>\n",
       "      <td>Disp_Trac_CellMask_ForceMask_Actin_2.npy</td>\n",
       "      <td>2</td>\n",
       "      <td>/net/projects/CLS/force_reference/data/Tractio...</td>\n",
       "      <td>0.0</td>\n",
       "      <td>0.0</td>\n",
       "      <td>13.39028</td>\n",
       "      <td>86.818317</td>\n",
       "      <td>10.747155</td>\n",
       "      <td>25.830109</td>\n",
       "    </tr>\n",
       "    <tr>\n",
       "      <th>3</th>\n",
       "      <td>cell_5</td>\n",
       "      <td>Disp_Trac_CellMask_ForceMask_Actin_3.npy</td>\n",
       "      <td>3</td>\n",
       "      <td>/net/projects/CLS/force_reference/data/Tractio...</td>\n",
       "      <td>0.0</td>\n",
       "      <td>0.0</td>\n",
       "      <td>13.39028</td>\n",
       "      <td>86.818317</td>\n",
       "      <td>10.747155</td>\n",
       "      <td>25.830109</td>\n",
       "    </tr>\n",
       "    <tr>\n",
       "      <th>4</th>\n",
       "      <td>cell_5</td>\n",
       "      <td>Disp_Trac_CellMask_ForceMask_Actin_4.npy</td>\n",
       "      <td>4</td>\n",
       "      <td>/net/projects/CLS/force_reference/data/Tractio...</td>\n",
       "      <td>0.0</td>\n",
       "      <td>0.0</td>\n",
       "      <td>13.39028</td>\n",
       "      <td>86.818317</td>\n",
       "      <td>10.747155</td>\n",
       "      <td>25.830109</td>\n",
       "    </tr>\n",
       "    <tr>\n",
       "      <th>5</th>\n",
       "      <td>cell_5</td>\n",
       "      <td>Disp_Trac_CellMask_ForceMask_Actin_5.npy</td>\n",
       "      <td>5</td>\n",
       "      <td>/net/projects/CLS/force_reference/data/Tractio...</td>\n",
       "      <td>0.0</td>\n",
       "      <td>0.0</td>\n",
       "      <td>13.39028</td>\n",
       "      <td>86.818317</td>\n",
       "      <td>10.747155</td>\n",
       "      <td>25.830109</td>\n",
       "    </tr>\n",
       "    <tr>\n",
       "      <th>6</th>\n",
       "      <td>cell_5</td>\n",
       "      <td>Disp_Trac_CellMask_ForceMask_Actin_6.npy</td>\n",
       "      <td>6</td>\n",
       "      <td>/net/projects/CLS/force_reference/data/Tractio...</td>\n",
       "      <td>0.0</td>\n",
       "      <td>0.0</td>\n",
       "      <td>13.39028</td>\n",
       "      <td>86.818317</td>\n",
       "      <td>10.747155</td>\n",
       "      <td>25.830109</td>\n",
       "    </tr>\n",
       "    <tr>\n",
       "      <th>7</th>\n",
       "      <td>cell_5</td>\n",
       "      <td>Disp_Trac_CellMask_ForceMask_Actin_7.npy</td>\n",
       "      <td>7</td>\n",
       "      <td>/net/projects/CLS/force_reference/data/Tractio...</td>\n",
       "      <td>0.0</td>\n",
       "      <td>0.0</td>\n",
       "      <td>13.39028</td>\n",
       "      <td>86.818317</td>\n",
       "      <td>10.747155</td>\n",
       "      <td>25.830109</td>\n",
       "    </tr>\n",
       "    <tr>\n",
       "      <th>8</th>\n",
       "      <td>cell_5</td>\n",
       "      <td>Disp_Trac_CellMask_ForceMask_Actin_8.npy</td>\n",
       "      <td>8</td>\n",
       "      <td>/net/projects/CLS/force_reference/data/Tractio...</td>\n",
       "      <td>0.0</td>\n",
       "      <td>0.0</td>\n",
       "      <td>13.39028</td>\n",
       "      <td>86.818317</td>\n",
       "      <td>10.747155</td>\n",
       "      <td>25.830109</td>\n",
       "    </tr>\n",
       "    <tr>\n",
       "      <th>9</th>\n",
       "      <td>cell_5</td>\n",
       "      <td>Disp_Trac_CellMask_ForceMask_Actin_9.npy</td>\n",
       "      <td>9</td>\n",
       "      <td>/net/projects/CLS/force_reference/data/Tractio...</td>\n",
       "      <td>0.0</td>\n",
       "      <td>0.0</td>\n",
       "      <td>13.39028</td>\n",
       "      <td>86.818317</td>\n",
       "      <td>10.747155</td>\n",
       "      <td>25.830109</td>\n",
       "    </tr>\n",
       "  </tbody>\n",
       "</table>\n",
       "</div>"
      ],
      "text/plain": [
       "   folder                                  filename  frame  \\\n",
       "0  cell_5  Disp_Trac_CellMask_ForceMask_Actin_0.npy      0   \n",
       "1  cell_5  Disp_Trac_CellMask_ForceMask_Actin_1.npy      1   \n",
       "2  cell_5  Disp_Trac_CellMask_ForceMask_Actin_2.npy      2   \n",
       "3  cell_5  Disp_Trac_CellMask_ForceMask_Actin_3.npy      3   \n",
       "4  cell_5  Disp_Trac_CellMask_ForceMask_Actin_4.npy      4   \n",
       "5  cell_5  Disp_Trac_CellMask_ForceMask_Actin_5.npy      5   \n",
       "6  cell_5  Disp_Trac_CellMask_ForceMask_Actin_6.npy      6   \n",
       "7  cell_5  Disp_Trac_CellMask_ForceMask_Actin_7.npy      7   \n",
       "8  cell_5  Disp_Trac_CellMask_ForceMask_Actin_8.npy      8   \n",
       "9  cell_5  Disp_Trac_CellMask_ForceMask_Actin_9.npy      9   \n",
       "\n",
       "                                                root  zyxin_baseline  \\\n",
       "0  /net/projects/CLS/force_reference/data/Tractio...             0.0   \n",
       "1  /net/projects/CLS/force_reference/data/Tractio...             0.0   \n",
       "2  /net/projects/CLS/force_reference/data/Tractio...             0.0   \n",
       "3  /net/projects/CLS/force_reference/data/Tractio...             0.0   \n",
       "4  /net/projects/CLS/force_reference/data/Tractio...             0.0   \n",
       "5  /net/projects/CLS/force_reference/data/Tractio...             0.0   \n",
       "6  /net/projects/CLS/force_reference/data/Tractio...             0.0   \n",
       "7  /net/projects/CLS/force_reference/data/Tractio...             0.0   \n",
       "8  /net/projects/CLS/force_reference/data/Tractio...             0.0   \n",
       "9  /net/projects/CLS/force_reference/data/Tractio...             0.0   \n",
       "\n",
       "   actin_baseline  zyxin_baseline_out  zyxin_baseline_in  actin_baseline_out  \\\n",
       "0             0.0            13.39028          86.818317           10.747155   \n",
       "1             0.0            13.39028          86.818317           10.747155   \n",
       "2             0.0            13.39028          86.818317           10.747155   \n",
       "3             0.0            13.39028          86.818317           10.747155   \n",
       "4             0.0            13.39028          86.818317           10.747155   \n",
       "5             0.0            13.39028          86.818317           10.747155   \n",
       "6             0.0            13.39028          86.818317           10.747155   \n",
       "7             0.0            13.39028          86.818317           10.747155   \n",
       "8             0.0            13.39028          86.818317           10.747155   \n",
       "9             0.0            13.39028          86.818317           10.747155   \n",
       "\n",
       "   actin_baseline_in  \n",
       "0          25.830109  \n",
       "1          25.830109  \n",
       "2          25.830109  \n",
       "3          25.830109  \n",
       "4          25.830109  \n",
       "5          25.830109  \n",
       "6          25.830109  \n",
       "7          25.830109  \n",
       "8          25.830109  \n",
       "9          25.830109  "
      ]
     },
     "execution_count": 7,
     "metadata": {},
     "output_type": "execute_result"
    }
   ],
   "source": [
    "df = dataset.info.copy()\n",
    "\n",
    "df.head(10)"
   ]
  },
  {
   "cell_type": "code",
   "execution_count": 8,
   "id": "a7016587-df03-44d5-9513-77d87d1d9792",
   "metadata": {},
   "outputs": [
    {
     "name": "stdout",
     "output_type": "stream",
     "text": [
      "{'test_cells': ['cell_1']}\n",
      "[415 364 448 476 403 450 423 431 387 404 436 380 416 439 413 405 378 420\n",
      " 388 442 456 385 478 470 381 390 418 374 372 445 463 462 428 409 432 399\n",
      " 392 453 482 433 402 406 479 398 386 468 467 430 422 427 446]\n"
     ]
    }
   ],
   "source": [
    "# Print test cells: \n",
    "print(dataset.test_cells)\n",
    "print(dataset.test_indices)"
   ]
  },
  {
   "cell_type": "code",
   "execution_count": 9,
   "id": "a380f100",
   "metadata": {},
   "outputs": [
    {
     "data": {
      "text/html": [
       "<div>\n",
       "<style scoped>\n",
       "    .dataframe tbody tr th:only-of-type {\n",
       "        vertical-align: middle;\n",
       "    }\n",
       "\n",
       "    .dataframe tbody tr th {\n",
       "        vertical-align: top;\n",
       "    }\n",
       "\n",
       "    .dataframe thead th {\n",
       "        text-align: right;\n",
       "    }\n",
       "</style>\n",
       "<table border=\"1\" class=\"dataframe\">\n",
       "  <thead>\n",
       "    <tr style=\"text-align: right;\">\n",
       "      <th></th>\n",
       "      <th>folder</th>\n",
       "      <th>filename</th>\n",
       "      <th>frame</th>\n",
       "      <th>root</th>\n",
       "      <th>zyxin_baseline</th>\n",
       "      <th>actin_baseline</th>\n",
       "      <th>zyxin_baseline_out</th>\n",
       "      <th>zyxin_baseline_in</th>\n",
       "      <th>actin_baseline_out</th>\n",
       "      <th>actin_baseline_in</th>\n",
       "    </tr>\n",
       "  </thead>\n",
       "  <tbody>\n",
       "    <tr>\n",
       "      <th>0</th>\n",
       "      <td>cell_5</td>\n",
       "      <td>Disp_Trac_CellMask_ForceMask_Actin_0.npy</td>\n",
       "      <td>0</td>\n",
       "      <td>/net/projects/CLS/force_reference/data/Tractio...</td>\n",
       "      <td>0.0</td>\n",
       "      <td>0.0</td>\n",
       "      <td>13.390280</td>\n",
       "      <td>86.818317</td>\n",
       "      <td>10.747155</td>\n",
       "      <td>25.830109</td>\n",
       "    </tr>\n",
       "    <tr>\n",
       "      <th>1</th>\n",
       "      <td>cell_5</td>\n",
       "      <td>Disp_Trac_CellMask_ForceMask_Actin_1.npy</td>\n",
       "      <td>1</td>\n",
       "      <td>/net/projects/CLS/force_reference/data/Tractio...</td>\n",
       "      <td>0.0</td>\n",
       "      <td>0.0</td>\n",
       "      <td>13.390280</td>\n",
       "      <td>86.818317</td>\n",
       "      <td>10.747155</td>\n",
       "      <td>25.830109</td>\n",
       "    </tr>\n",
       "    <tr>\n",
       "      <th>2</th>\n",
       "      <td>cell_5</td>\n",
       "      <td>Disp_Trac_CellMask_ForceMask_Actin_2.npy</td>\n",
       "      <td>2</td>\n",
       "      <td>/net/projects/CLS/force_reference/data/Tractio...</td>\n",
       "      <td>0.0</td>\n",
       "      <td>0.0</td>\n",
       "      <td>13.390280</td>\n",
       "      <td>86.818317</td>\n",
       "      <td>10.747155</td>\n",
       "      <td>25.830109</td>\n",
       "    </tr>\n",
       "    <tr>\n",
       "      <th>3</th>\n",
       "      <td>cell_5</td>\n",
       "      <td>Disp_Trac_CellMask_ForceMask_Actin_3.npy</td>\n",
       "      <td>3</td>\n",
       "      <td>/net/projects/CLS/force_reference/data/Tractio...</td>\n",
       "      <td>0.0</td>\n",
       "      <td>0.0</td>\n",
       "      <td>13.390280</td>\n",
       "      <td>86.818317</td>\n",
       "      <td>10.747155</td>\n",
       "      <td>25.830109</td>\n",
       "    </tr>\n",
       "    <tr>\n",
       "      <th>4</th>\n",
       "      <td>cell_5</td>\n",
       "      <td>Disp_Trac_CellMask_ForceMask_Actin_4.npy</td>\n",
       "      <td>4</td>\n",
       "      <td>/net/projects/CLS/force_reference/data/Tractio...</td>\n",
       "      <td>0.0</td>\n",
       "      <td>0.0</td>\n",
       "      <td>13.390280</td>\n",
       "      <td>86.818317</td>\n",
       "      <td>10.747155</td>\n",
       "      <td>25.830109</td>\n",
       "    </tr>\n",
       "    <tr>\n",
       "      <th>...</th>\n",
       "      <td>...</td>\n",
       "      <td>...</td>\n",
       "      <td>...</td>\n",
       "      <td>...</td>\n",
       "      <td>...</td>\n",
       "      <td>...</td>\n",
       "      <td>...</td>\n",
       "      <td>...</td>\n",
       "      <td>...</td>\n",
       "      <td>...</td>\n",
       "    </tr>\n",
       "    <tr>\n",
       "      <th>479</th>\n",
       "      <td>cell_1</td>\n",
       "      <td>Disp_Trac_CellMask_ForceMask_Actin_116.npy</td>\n",
       "      <td>116</td>\n",
       "      <td>/net/projects/CLS/force_reference/data/Tractio...</td>\n",
       "      <td>0.0</td>\n",
       "      <td>0.0</td>\n",
       "      <td>10.708059</td>\n",
       "      <td>127.223836</td>\n",
       "      <td>5.975600</td>\n",
       "      <td>36.764299</td>\n",
       "    </tr>\n",
       "    <tr>\n",
       "      <th>480</th>\n",
       "      <td>cell_1</td>\n",
       "      <td>Disp_Trac_CellMask_ForceMask_Actin_117.npy</td>\n",
       "      <td>117</td>\n",
       "      <td>/net/projects/CLS/force_reference/data/Tractio...</td>\n",
       "      <td>0.0</td>\n",
       "      <td>0.0</td>\n",
       "      <td>10.708059</td>\n",
       "      <td>127.223836</td>\n",
       "      <td>5.975600</td>\n",
       "      <td>36.764299</td>\n",
       "    </tr>\n",
       "    <tr>\n",
       "      <th>481</th>\n",
       "      <td>cell_1</td>\n",
       "      <td>Disp_Trac_CellMask_ForceMask_Actin_118.npy</td>\n",
       "      <td>118</td>\n",
       "      <td>/net/projects/CLS/force_reference/data/Tractio...</td>\n",
       "      <td>0.0</td>\n",
       "      <td>0.0</td>\n",
       "      <td>10.708059</td>\n",
       "      <td>127.223836</td>\n",
       "      <td>5.975600</td>\n",
       "      <td>36.764299</td>\n",
       "    </tr>\n",
       "    <tr>\n",
       "      <th>482</th>\n",
       "      <td>cell_1</td>\n",
       "      <td>Disp_Trac_CellMask_ForceMask_Actin_119.npy</td>\n",
       "      <td>119</td>\n",
       "      <td>/net/projects/CLS/force_reference/data/Tractio...</td>\n",
       "      <td>0.0</td>\n",
       "      <td>0.0</td>\n",
       "      <td>10.708059</td>\n",
       "      <td>127.223836</td>\n",
       "      <td>5.975600</td>\n",
       "      <td>36.764299</td>\n",
       "    </tr>\n",
       "    <tr>\n",
       "      <th>483</th>\n",
       "      <td>cell_1</td>\n",
       "      <td>Disp_Trac_CellMask_ForceMask_Actin_120.npy</td>\n",
       "      <td>120</td>\n",
       "      <td>/net/projects/CLS/force_reference/data/Tractio...</td>\n",
       "      <td>0.0</td>\n",
       "      <td>0.0</td>\n",
       "      <td>10.708059</td>\n",
       "      <td>127.223836</td>\n",
       "      <td>5.975600</td>\n",
       "      <td>36.764299</td>\n",
       "    </tr>\n",
       "  </tbody>\n",
       "</table>\n",
       "<p>484 rows × 10 columns</p>\n",
       "</div>"
      ],
      "text/plain": [
       "     folder                                    filename  frame  \\\n",
       "0    cell_5    Disp_Trac_CellMask_ForceMask_Actin_0.npy      0   \n",
       "1    cell_5    Disp_Trac_CellMask_ForceMask_Actin_1.npy      1   \n",
       "2    cell_5    Disp_Trac_CellMask_ForceMask_Actin_2.npy      2   \n",
       "3    cell_5    Disp_Trac_CellMask_ForceMask_Actin_3.npy      3   \n",
       "4    cell_5    Disp_Trac_CellMask_ForceMask_Actin_4.npy      4   \n",
       "..      ...                                         ...    ...   \n",
       "479  cell_1  Disp_Trac_CellMask_ForceMask_Actin_116.npy    116   \n",
       "480  cell_1  Disp_Trac_CellMask_ForceMask_Actin_117.npy    117   \n",
       "481  cell_1  Disp_Trac_CellMask_ForceMask_Actin_118.npy    118   \n",
       "482  cell_1  Disp_Trac_CellMask_ForceMask_Actin_119.npy    119   \n",
       "483  cell_1  Disp_Trac_CellMask_ForceMask_Actin_120.npy    120   \n",
       "\n",
       "                                                  root  zyxin_baseline  \\\n",
       "0    /net/projects/CLS/force_reference/data/Tractio...             0.0   \n",
       "1    /net/projects/CLS/force_reference/data/Tractio...             0.0   \n",
       "2    /net/projects/CLS/force_reference/data/Tractio...             0.0   \n",
       "3    /net/projects/CLS/force_reference/data/Tractio...             0.0   \n",
       "4    /net/projects/CLS/force_reference/data/Tractio...             0.0   \n",
       "..                                                 ...             ...   \n",
       "479  /net/projects/CLS/force_reference/data/Tractio...             0.0   \n",
       "480  /net/projects/CLS/force_reference/data/Tractio...             0.0   \n",
       "481  /net/projects/CLS/force_reference/data/Tractio...             0.0   \n",
       "482  /net/projects/CLS/force_reference/data/Tractio...             0.0   \n",
       "483  /net/projects/CLS/force_reference/data/Tractio...             0.0   \n",
       "\n",
       "     actin_baseline  zyxin_baseline_out  zyxin_baseline_in  \\\n",
       "0               0.0           13.390280          86.818317   \n",
       "1               0.0           13.390280          86.818317   \n",
       "2               0.0           13.390280          86.818317   \n",
       "3               0.0           13.390280          86.818317   \n",
       "4               0.0           13.390280          86.818317   \n",
       "..              ...                 ...                ...   \n",
       "479             0.0           10.708059         127.223836   \n",
       "480             0.0           10.708059         127.223836   \n",
       "481             0.0           10.708059         127.223836   \n",
       "482             0.0           10.708059         127.223836   \n",
       "483             0.0           10.708059         127.223836   \n",
       "\n",
       "     actin_baseline_out  actin_baseline_in  \n",
       "0             10.747155          25.830109  \n",
       "1             10.747155          25.830109  \n",
       "2             10.747155          25.830109  \n",
       "3             10.747155          25.830109  \n",
       "4             10.747155          25.830109  \n",
       "..                  ...                ...  \n",
       "479            5.975600          36.764299  \n",
       "480            5.975600          36.764299  \n",
       "481            5.975600          36.764299  \n",
       "482            5.975600          36.764299  \n",
       "483            5.975600          36.764299  \n",
       "\n",
       "[484 rows x 10 columns]"
      ]
     },
     "execution_count": 9,
     "metadata": {},
     "output_type": "execute_result"
    }
   ],
   "source": [
    "dataset.info"
   ]
  },
  {
   "cell_type": "code",
   "execution_count": 10,
   "id": "fe725b58",
   "metadata": {},
   "outputs": [
    {
     "name": "stdout",
     "output_type": "stream",
     "text": [
      "368\n"
     ]
    }
   ],
   "source": [
    "cell = 'cell_1'\n",
    "frame = 5\n",
    "\n",
    "idx = dataset.info.index[(dataset.info.folder==cell)&(dataset.info.frame==frame)].tolist()[0] # Get index in dataframe that contains the right cell and frame.\n",
    "print(idx)"
   ]
  },
  {
   "cell_type": "code",
   "execution_count": 11,
   "id": "2dd3253c",
   "metadata": {},
   "outputs": [
    {
     "data": {
      "text/plain": [
       "6"
      ]
     },
     "execution_count": 11,
     "metadata": {},
     "output_type": "execute_result"
    }
   ],
   "source": [
    "dataset.out_channels\n"
   ]
  },
  {
   "cell_type": "code",
   "execution_count": 12,
   "id": "a602c61e",
   "metadata": {},
   "outputs": [],
   "source": [
    "sample = dataset[idx]"
   ]
  },
  {
   "cell_type": "code",
   "execution_count": 13,
   "id": "6d9d08ed-5565-4df1-b023-56588e5838dc",
   "metadata": {},
   "outputs": [
    {
     "name": "stdout",
     "output_type": "stream",
     "text": [
      "{'mask': torch.Size([1, 512, 512]), 'zyxin': torch.Size([1, 512, 512]), 'actin': torch.Size([1, 512, 512]), 'output': torch.Size([1, 512, 512])}\n"
     ]
    },
    {
     "data": {
      "image/png": "[encoded data removed]",
      "text/plain": [
       "<Figure size 864x1152 with 3 Axes>"
      ]
     },
     "metadata": {},
     "output_type": "display_data"
    }
   ],
   "source": [
    "fig,ax=plt.subplots(1,3,figsize=(2*3, 4*2), dpi=144)\n",
    "\n",
    "\n",
    "print({key: sample[key].shape for key in sample.keys()})\n",
    "\n",
    "ax[0].set_title('Mask')\n",
    "ax[0].imshow(sample['mask'].squeeze(), origin='lower', cmap='gray', vmax=1, vmin=0)\n",
    "ax[1].set_title('Zyxin')\n",
    "ax[1].imshow(sample['zyxin'].squeeze(), origin='lower', cmap='gray', vmax=10, vmin=0)\n",
    "ax[2].set_title('Paxillin')\n",
    "ax[2].imshow(sample['output'][0,:,:].squeeze(), origin='lower', cmap='gray', vmax=10, vmin=0)\n",
    "\n",
    "\n",
    "for a in ax.flat:\n",
    "    a.set_xticks([])\n",
    "    a.set_yticks([])"
   ]
  },
  {
   "cell_type": "code",
   "execution_count": 14,
   "id": "0c12909a",
   "metadata": {},
   "outputs": [
    {
     "data": {
      "text/plain": [
       "{'mask': tensor([[[0., 0., 0.,  ..., 0., 0., 0.],\n",
       "          [0., 0., 0.,  ..., 0., 0., 0.],\n",
       "          [0., 0., 0.,  ..., 0., 0., 0.],\n",
       "          ...,\n",
       "          [0., 0., 0.,  ..., 0., 0., 0.],\n",
       "          [0., 0., 0.,  ..., 0., 0., 0.],\n",
       "          [0., 0., 0.,  ..., 0., 0., 0.]]]),\n",
       " 'zyxin': tensor([[[0., 0., 0.,  ..., 0., 0., 0.],\n",
       "          [0., 0., 0.,  ..., 0., 0., 0.],\n",
       "          [0., 0., 0.,  ..., 0., 0., 0.],\n",
       "          ...,\n",
       "          [0., 0., 0.,  ..., 0., 0., 0.],\n",
       "          [0., 0., 0.,  ..., 0., 0., 0.],\n",
       "          [0., 0., 0.,  ..., 0., 0., 0.]]]),\n",
       " 'actin': tensor([[[0., 0., 0.,  ..., 0., 0., 0.],\n",
       "          [0., 0., 0.,  ..., 0., 0., 0.],\n",
       "          [0., 0., 0.,  ..., 0., 0., 0.],\n",
       "          ...,\n",
       "          [0., 0., 0.,  ..., 0., 0., 0.],\n",
       "          [0., 0., 0.,  ..., 0., 0., 0.],\n",
       "          [0., 0., 0.,  ..., 0., 0., 0.]]]),\n",
       " 'output': tensor([[[0., 0., 0.,  ..., 0., 0., 0.],\n",
       "          [0., 0., 0.,  ..., 0., 0., 0.],\n",
       "          [0., 0., 0.,  ..., 0., 0., 0.],\n",
       "          ...,\n",
       "          [0., 0., 0.,  ..., 0., 0., 0.],\n",
       "          [0., 0., 0.,  ..., 0., 0., 0.],\n",
       "          [0., 0., 0.,  ..., 0., 0., 0.]]])}"
      ]
     },
     "execution_count": 14,
     "metadata": {},
     "output_type": "execute_result"
    }
   ],
   "source": [
    "sample"
   ]
  },
  {
   "cell_type": "markdown",
   "id": "8c5b32dd-e961-4f1a-a51f-2fb221d717fd",
   "metadata": {},
   "source": [
    "# Build U-Net model with ConvNext blocks"
   ]
  },
  {
   "cell_type": "code",
   "execution_count": 15,
   "id": "2d1e8420-e504-48b3-9c28-ca0243e2e489",
   "metadata": {},
   "outputs": [],
   "source": [
    "n_lyr  = 3 # number of downsampling layers\n",
    "ds_krnl= 4 # downsample kernel\n",
    "n_ch   = 4 # number of channels in the beginning of the network\n",
    "n_blocks = 4 # number of ConvNext blocks, wherever ConvNext blocks are used\n",
    "\n",
    "prepend_hparams = {'start_channel': 1, 'resnet_channel': n_ch, 'end_channel': n_ch, 'N_blocks': n_blocks,                                         # Args for architecture\n",
    "                    'kernel': 7,'stride': 1, 'inv_bottleneck_factor': 4, 'dilation': 1,'dropout_rate': 0.1, 'activation': 'gelu', 'batchnorm': 1} # Args for ConvNext blocks\n",
    "encoder_hparams = {'n_ch': n_ch, 'n_layers': n_lyr, 'N_node_blocks': n_blocks, 'N_skip_blocks': n_blocks,\n",
    "                    'downsample_kwargs': {'kernel': ds_krnl, 'activation': 'gelu', 'batchnorm': 1},\n",
    "                    'interlayer_kwargs': {'kernel': 7,'stride': 1, 'inv_bottleneck_factor': 4, 'dilation': 1,'dropout_rate': 0.1, 'activation': 'gelu', 'batchnorm': 1}\n",
    "                    }\n",
    "decoder_hparams = {'n_layers': n_lyr, 'N_node_blocks': n_blocks, 'upsample_kernel': ds_krnl,\n",
    "                    'kernel': 7,'stride': 1, 'inv_bottleneck_factor': 4, 'dilation': 1,'dropout_rate': 0.1, 'activation': 'gelu', 'batchnorm': 1}\n",
    "append_hparams = {'start_channel': n_ch, 'resnet_channel': n_ch, 'end_channel': 2, 'N_blocks': n_blocks,\n",
    "                    'kernel': 7,'stride': 1, 'inv_bottleneck_factor': 8, 'dilation': 1,'dropout_rate': 0.1, 'activation': 'gelu', 'batchnorm': 1} \n",
    "optimizer_hparams = {'LR': 0.0005, 'schedule_rate': 0.99}\n",
    "loss_hparams = {'loss_type': 'r_mse',\n",
    "                'exp_weight': 0.0,\n",
    "                'strainenergy_regularization': 0.0,\n",
    "                'exp_schedule': {'type': 'linear', 'width': 310, 'e_crit': 30},\n",
    "                'reg_schedule': {'type': 'linear', 'width': 310, 'e_crit': 30},\n",
    "                'loss_kwargs': {'max_force': 8.}\n",
    "               }\n",
    "\n",
    "\n",
    "\n",
    "\n",
    "\n",
    "models = {}\n",
    "for protein in ['actin1','actin2']:\n",
    "    modelname = 'model_p2z_150ep_loss'\n",
    "\n",
    "    logger_params = {'log_dir': f'./tensorboard_logs/{modelname}', \n",
    "                     'image_epoch_freq': 10,\n",
    "                     'image_callbacks': 'vectorfield,hists',\n",
    "                     'save_model_freq': 4}\n",
    "\n",
    "    # Actually build model:\n",
    "    model_kwargs={\n",
    "                    'input_type':  protein[:-1], \n",
    "                    'prepend_hparams': prepend_hparams, \n",
    "                    'encoder_hparams': encoder_hparams, \n",
    "                    'decoder_hparams': decoder_hparams, \n",
    "                    'append_hparams': append_hparams, \n",
    "                    'optimizer_hparams': optimizer_hparams,\n",
    "                    'loss_hparams': loss_hparams,\n",
    "                    'logger_params': logger_params,\n",
    "                    'name': 'model_0'}\n",
    "\n",
    "\n",
    "    model = UNet( **model_kwargs, model_idx=0)\n",
    "    model.to(device)\n",
    "    \n",
    "    models[protein] = model\n"
   ]
  },
  {
   "cell_type": "code",
   "execution_count": 16,
   "id": "1172c156",
   "metadata": {},
   "outputs": [
    {
     "data": {
      "text/plain": [
       "{'actin1': UNet(\n",
       "   (layers_encode): ModuleList(\n",
       "     (0): ModuleList(\n",
       "       (0-3): 4 x ConvNextCell(\n",
       "         (conv0): Conv2d(4, 4, kernel_size=(7, 7), stride=(1, 1), padding=(3, 3), groups=4)\n",
       "         (conv1): Conv2d(4, 16, kernel_size=(1, 1), stride=(1, 1))\n",
       "         (conv2): Conv2d(16, 4, kernel_size=(1, 1), stride=(1, 1))\n",
       "         (bn): BatchNorm2d(4, eps=1e-05, momentum=0.1, affine=True, track_running_stats=True)\n",
       "         (act): GELU(approximate='none')\n",
       "       )\n",
       "       (4): DownsampleLayer(\n",
       "         (conv): Conv2d(4, 8, kernel_size=(4, 4), stride=(4, 4))\n",
       "         (bn): BatchNorm2d(4, eps=1e-05, momentum=0.1, affine=True, track_running_stats=True)\n",
       "         (act): GELU(approximate='none')\n",
       "       )\n",
       "     )\n",
       "     (1): ModuleList(\n",
       "       (0-3): 4 x ConvNextCell(\n",
       "         (conv0): Conv2d(8, 8, kernel_size=(7, 7), stride=(1, 1), padding=(3, 3), groups=8)\n",
       "         (conv1): Conv2d(8, 32, kernel_size=(1, 1), stride=(1, 1))\n",
       "         (conv2): Conv2d(32, 8, kernel_size=(1, 1), stride=(1, 1))\n",
       "         (bn): BatchNorm2d(8, eps=1e-05, momentum=0.1, affine=True, track_running_stats=True)\n",
       "         (act): GELU(approximate='none')\n",
       "       )\n",
       "       (4): DownsampleLayer(\n",
       "         (conv): Conv2d(8, 16, kernel_size=(4, 4), stride=(4, 4))\n",
       "         (bn): BatchNorm2d(8, eps=1e-05, momentum=0.1, affine=True, track_running_stats=True)\n",
       "         (act): GELU(approximate='none')\n",
       "       )\n",
       "     )\n",
       "     (2): ModuleList(\n",
       "       (0-3): 4 x ConvNextCell(\n",
       "         (conv0): Conv2d(16, 16, kernel_size=(7, 7), stride=(1, 1), padding=(3, 3), groups=16)\n",
       "         (conv1): Conv2d(16, 64, kernel_size=(1, 1), stride=(1, 1))\n",
       "         (conv2): Conv2d(64, 16, kernel_size=(1, 1), stride=(1, 1))\n",
       "         (bn): BatchNorm2d(16, eps=1e-05, momentum=0.1, affine=True, track_running_stats=True)\n",
       "         (act): GELU(approximate='none')\n",
       "       )\n",
       "       (4): DownsampleLayer(\n",
       "         (conv): Conv2d(16, 32, kernel_size=(4, 4), stride=(4, 4))\n",
       "         (bn): BatchNorm2d(16, eps=1e-05, momentum=0.1, affine=True, track_running_stats=True)\n",
       "         (act): GELU(approximate='none')\n",
       "       )\n",
       "     )\n",
       "     (3): ModuleList(\n",
       "       (0-3): 4 x ConvNextCell(\n",
       "         (conv0): Conv2d(32, 32, kernel_size=(7, 7), stride=(1, 1), padding=(3, 3), groups=32)\n",
       "         (conv1): Conv2d(32, 128, kernel_size=(1, 1), stride=(1, 1))\n",
       "         (conv2): Conv2d(128, 32, kernel_size=(1, 1), stride=(1, 1))\n",
       "         (bn): BatchNorm2d(32, eps=1e-05, momentum=0.1, affine=True, track_running_stats=True)\n",
       "         (act): GELU(approximate='none')\n",
       "       )\n",
       "     )\n",
       "   )\n",
       "   (interlayer_cnn): ModuleList(\n",
       "     (0): ModuleList(\n",
       "       (0-3): 4 x ConvNextCell(\n",
       "         (conv0): Conv2d(4, 4, kernel_size=(7, 7), stride=(1, 1), padding=(3, 3), groups=4)\n",
       "         (conv1): Conv2d(4, 16, kernel_size=(1, 1), stride=(1, 1))\n",
       "         (conv2): Conv2d(16, 4, kernel_size=(1, 1), stride=(1, 1))\n",
       "         (bn): BatchNorm2d(4, eps=1e-05, momentum=0.1, affine=True, track_running_stats=True)\n",
       "         (act): GELU(approximate='none')\n",
       "       )\n",
       "     )\n",
       "     (1): ModuleList(\n",
       "       (0-3): 4 x ConvNextCell(\n",
       "         (conv0): Conv2d(8, 8, kernel_size=(7, 7), stride=(1, 1), padding=(3, 3), groups=8)\n",
       "         (conv1): Conv2d(8, 32, kernel_size=(1, 1), stride=(1, 1))\n",
       "         (conv2): Conv2d(32, 8, kernel_size=(1, 1), stride=(1, 1))\n",
       "         (bn): BatchNorm2d(8, eps=1e-05, momentum=0.1, affine=True, track_running_stats=True)\n",
       "         (act): GELU(approximate='none')\n",
       "       )\n",
       "     )\n",
       "     (2): ModuleList(\n",
       "       (0-3): 4 x ConvNextCell(\n",
       "         (conv0): Conv2d(16, 16, kernel_size=(7, 7), stride=(1, 1), padding=(3, 3), groups=16)\n",
       "         (conv1): Conv2d(16, 64, kernel_size=(1, 1), stride=(1, 1))\n",
       "         (conv2): Conv2d(64, 16, kernel_size=(1, 1), stride=(1, 1))\n",
       "         (bn): BatchNorm2d(16, eps=1e-05, momentum=0.1, affine=True, track_running_stats=True)\n",
       "         (act): GELU(approximate='none')\n",
       "       )\n",
       "     )\n",
       "   )\n",
       "   (layers_decode): ModuleList(\n",
       "     (0): ModuleList(\n",
       "       (0): Upsample(scale_factor=4.0, mode='nearest')\n",
       "       (1): ModuleList(\n",
       "         (0-3): 4 x ConvNextCell(\n",
       "           (conv0): Conv2d(48, 48, kernel_size=(7, 7), stride=(1, 1), padding=(3, 3), groups=48)\n",
       "           (conv1): Conv2d(48, 192, kernel_size=(1, 1), stride=(1, 1))\n",
       "           (conv2): Conv2d(192, 48, kernel_size=(1, 1), stride=(1, 1))\n",
       "           (bn): BatchNorm2d(48, eps=1e-05, momentum=0.1, affine=True, track_running_stats=True)\n",
       "           (act): GELU(approximate='none')\n",
       "         )\n",
       "       )\n",
       "       (2): Conv2d(48, 16, kernel_size=(3, 3), stride=(1, 1), padding=(1, 1))\n",
       "     )\n",
       "     (1): ModuleList(\n",
       "       (0): Upsample(scale_factor=4.0, mode='nearest')\n",
       "       (1): ModuleList(\n",
       "         (0-3): 4 x ConvNextCell(\n",
       "           (conv0): Conv2d(24, 24, kernel_size=(7, 7), stride=(1, 1), padding=(3, 3), groups=24)\n",
       "           (conv1): Conv2d(24, 96, kernel_size=(1, 1), stride=(1, 1))\n",
       "           (conv2): Conv2d(96, 24, kernel_size=(1, 1), stride=(1, 1))\n",
       "           (bn): BatchNorm2d(24, eps=1e-05, momentum=0.1, affine=True, track_running_stats=True)\n",
       "           (act): GELU(approximate='none')\n",
       "         )\n",
       "       )\n",
       "       (2): Conv2d(24, 8, kernel_size=(3, 3), stride=(1, 1), padding=(1, 1))\n",
       "     )\n",
       "     (2): ModuleList(\n",
       "       (0): Upsample(scale_factor=4.0, mode='nearest')\n",
       "       (1): ModuleList(\n",
       "         (0-3): 4 x ConvNextCell(\n",
       "           (conv0): Conv2d(12, 12, kernel_size=(7, 7), stride=(1, 1), padding=(3, 3), groups=12)\n",
       "           (conv1): Conv2d(12, 48, kernel_size=(1, 1), stride=(1, 1))\n",
       "           (conv2): Conv2d(48, 12, kernel_size=(1, 1), stride=(1, 1))\n",
       "           (bn): BatchNorm2d(12, eps=1e-05, momentum=0.1, affine=True, track_running_stats=True)\n",
       "           (act): GELU(approximate='none')\n",
       "         )\n",
       "       )\n",
       "       (2): Conv2d(12, 4, kernel_size=(3, 3), stride=(1, 1), padding=(1, 1))\n",
       "     )\n",
       "   )\n",
       "   (prepended_layers): ModuleList(\n",
       "     (0): Conv2d(1, 4, kernel_size=(3, 3), stride=(1, 1), padding=(1, 1))\n",
       "     (1-4): 4 x ConvNextCell(\n",
       "       (conv0): Conv2d(4, 4, kernel_size=(7, 7), stride=(1, 1), padding=(3, 3), groups=4)\n",
       "       (conv1): Conv2d(4, 16, kernel_size=(1, 1), stride=(1, 1))\n",
       "       (conv2): Conv2d(16, 4, kernel_size=(1, 1), stride=(1, 1))\n",
       "       (bn): BatchNorm2d(4, eps=1e-05, momentum=0.1, affine=True, track_running_stats=True)\n",
       "       (act): GELU(approximate='none')\n",
       "     )\n",
       "     (5): Conv2d(4, 4, kernel_size=(3, 3), stride=(1, 1), padding=(1, 1))\n",
       "   )\n",
       "   (appended_layers): ModuleList(\n",
       "     (0): Conv2d(4, 4, kernel_size=(3, 3), stride=(1, 1), padding=(1, 1))\n",
       "     (1-4): 4 x ConvNextCell(\n",
       "       (conv0): Conv2d(4, 4, kernel_size=(7, 7), stride=(1, 1), padding=(3, 3), groups=4)\n",
       "       (conv1): Conv2d(4, 32, kernel_size=(1, 1), stride=(1, 1))\n",
       "       (conv2): Conv2d(32, 4, kernel_size=(1, 1), stride=(1, 1))\n",
       "       (bn): BatchNorm2d(4, eps=1e-05, momentum=0.1, affine=True, track_running_stats=True)\n",
       "       (act): GELU(approximate='none')\n",
       "     )\n",
       "     (5): Conv2d(4, 2, kernel_size=(3, 3), stride=(1, 1), padding=(1, 1))\n",
       "   )\n",
       "   (loss_function): r_MSE_loss_dict()\n",
       " ),\n",
       " 'actin2': UNet(\n",
       "   (layers_encode): ModuleList(\n",
       "     (0): ModuleList(\n",
       "       (0-3): 4 x ConvNextCell(\n",
       "         (conv0): Conv2d(4, 4, kernel_size=(7, 7), stride=(1, 1), padding=(3, 3), groups=4)\n",
       "         (conv1): Conv2d(4, 16, kernel_size=(1, 1), stride=(1, 1))\n",
       "         (conv2): Conv2d(16, 4, kernel_size=(1, 1), stride=(1, 1))\n",
       "         (bn): BatchNorm2d(4, eps=1e-05, momentum=0.1, affine=True, track_running_stats=True)\n",
       "         (act): GELU(approximate='none')\n",
       "       )\n",
       "       (4): DownsampleLayer(\n",
       "         (conv): Conv2d(4, 8, kernel_size=(4, 4), stride=(4, 4))\n",
       "         (bn): BatchNorm2d(4, eps=1e-05, momentum=0.1, affine=True, track_running_stats=True)\n",
       "         (act): GELU(approximate='none')\n",
       "       )\n",
       "     )\n",
       "     (1): ModuleList(\n",
       "       (0-3): 4 x ConvNextCell(\n",
       "         (conv0): Conv2d(8, 8, kernel_size=(7, 7), stride=(1, 1), padding=(3, 3), groups=8)\n",
       "         (conv1): Conv2d(8, 32, kernel_size=(1, 1), stride=(1, 1))\n",
       "         (conv2): Conv2d(32, 8, kernel_size=(1, 1), stride=(1, 1))\n",
       "         (bn): BatchNorm2d(8, eps=1e-05, momentum=0.1, affine=True, track_running_stats=True)\n",
       "         (act): GELU(approximate='none')\n",
       "       )\n",
       "       (4): DownsampleLayer(\n",
       "         (conv): Conv2d(8, 16, kernel_size=(4, 4), stride=(4, 4))\n",
       "         (bn): BatchNorm2d(8, eps=1e-05, momentum=0.1, affine=True, track_running_stats=True)\n",
       "         (act): GELU(approximate='none')\n",
       "       )\n",
       "     )\n",
       "     (2): ModuleList(\n",
       "       (0-3): 4 x ConvNextCell(\n",
       "         (conv0): Conv2d(16, 16, kernel_size=(7, 7), stride=(1, 1), padding=(3, 3), groups=16)\n",
       "         (conv1): Conv2d(16, 64, kernel_size=(1, 1), stride=(1, 1))\n",
       "         (conv2): Conv2d(64, 16, kernel_size=(1, 1), stride=(1, 1))\n",
       "         (bn): BatchNorm2d(16, eps=1e-05, momentum=0.1, affine=True, track_running_stats=True)\n",
       "         (act): GELU(approximate='none')\n",
       "       )\n",
       "       (4): DownsampleLayer(\n",
       "         (conv): Conv2d(16, 32, kernel_size=(4, 4), stride=(4, 4))\n",
       "         (bn): BatchNorm2d(16, eps=1e-05, momentum=0.1, affine=True, track_running_stats=True)\n",
       "         (act): GELU(approximate='none')\n",
       "       )\n",
       "     )\n",
       "     (3): ModuleList(\n",
       "       (0-3): 4 x ConvNextCell(\n",
       "         (conv0): Conv2d(32, 32, kernel_size=(7, 7), stride=(1, 1), padding=(3, 3), groups=32)\n",
       "         (conv1): Conv2d(32, 128, kernel_size=(1, 1), stride=(1, 1))\n",
       "         (conv2): Conv2d(128, 32, kernel_size=(1, 1), stride=(1, 1))\n",
       "         (bn): BatchNorm2d(32, eps=1e-05, momentum=0.1, affine=True, track_running_stats=True)\n",
       "         (act): GELU(approximate='none')\n",
       "       )\n",
       "     )\n",
       "   )\n",
       "   (interlayer_cnn): ModuleList(\n",
       "     (0): ModuleList(\n",
       "       (0-3): 4 x ConvNextCell(\n",
       "         (conv0): Conv2d(4, 4, kernel_size=(7, 7), stride=(1, 1), padding=(3, 3), groups=4)\n",
       "         (conv1): Conv2d(4, 16, kernel_size=(1, 1), stride=(1, 1))\n",
       "         (conv2): Conv2d(16, 4, kernel_size=(1, 1), stride=(1, 1))\n",
       "         (bn): BatchNorm2d(4, eps=1e-05, momentum=0.1, affine=True, track_running_stats=True)\n",
       "         (act): GELU(approximate='none')\n",
       "       )\n",
       "     )\n",
       "     (1): ModuleList(\n",
       "       (0-3): 4 x ConvNextCell(\n",
       "         (conv0): Conv2d(8, 8, kernel_size=(7, 7), stride=(1, 1), padding=(3, 3), groups=8)\n",
       "         (conv1): Conv2d(8, 32, kernel_size=(1, 1), stride=(1, 1))\n",
       "         (conv2): Conv2d(32, 8, kernel_size=(1, 1), stride=(1, 1))\n",
       "         (bn): BatchNorm2d(8, eps=1e-05, momentum=0.1, affine=True, track_running_stats=True)\n",
       "         (act): GELU(approximate='none')\n",
       "       )\n",
       "     )\n",
       "     (2): ModuleList(\n",
       "       (0-3): 4 x ConvNextCell(\n",
       "         (conv0): Conv2d(16, 16, kernel_size=(7, 7), stride=(1, 1), padding=(3, 3), groups=16)\n",
       "         (conv1): Conv2d(16, 64, kernel_size=(1, 1), stride=(1, 1))\n",
       "         (conv2): Conv2d(64, 16, kernel_size=(1, 1), stride=(1, 1))\n",
       "         (bn): BatchNorm2d(16, eps=1e-05, momentum=0.1, affine=True, track_running_stats=True)\n",
       "         (act): GELU(approximate='none')\n",
       "       )\n",
       "     )\n",
       "   )\n",
       "   (layers_decode): ModuleList(\n",
       "     (0): ModuleList(\n",
       "       (0): Upsample(scale_factor=4.0, mode='nearest')\n",
       "       (1): ModuleList(\n",
       "         (0-3): 4 x ConvNextCell(\n",
       "           (conv0): Conv2d(48, 48, kernel_size=(7, 7), stride=(1, 1), padding=(3, 3), groups=48)\n",
       "           (conv1): Conv2d(48, 192, kernel_size=(1, 1), stride=(1, 1))\n",
       "           (conv2): Conv2d(192, 48, kernel_size=(1, 1), stride=(1, 1))\n",
       "           (bn): BatchNorm2d(48, eps=1e-05, momentum=0.1, affine=True, track_running_stats=True)\n",
       "           (act): GELU(approximate='none')\n",
       "         )\n",
       "       )\n",
       "       (2): Conv2d(48, 16, kernel_size=(3, 3), stride=(1, 1), padding=(1, 1))\n",
       "     )\n",
       "     (1): ModuleList(\n",
       "       (0): Upsample(scale_factor=4.0, mode='nearest')\n",
       "       (1): ModuleList(\n",
       "         (0-3): 4 x ConvNextCell(\n",
       "           (conv0): Conv2d(24, 24, kernel_size=(7, 7), stride=(1, 1), padding=(3, 3), groups=24)\n",
       "           (conv1): Conv2d(24, 96, kernel_size=(1, 1), stride=(1, 1))\n",
       "           (conv2): Conv2d(96, 24, kernel_size=(1, 1), stride=(1, 1))\n",
       "           (bn): BatchNorm2d(24, eps=1e-05, momentum=0.1, affine=True, track_running_stats=True)\n",
       "           (act): GELU(approximate='none')\n",
       "         )\n",
       "       )\n",
       "       (2): Conv2d(24, 8, kernel_size=(3, 3), stride=(1, 1), padding=(1, 1))\n",
       "     )\n",
       "     (2): ModuleList(\n",
       "       (0): Upsample(scale_factor=4.0, mode='nearest')\n",
       "       (1): ModuleList(\n",
       "         (0-3): 4 x ConvNextCell(\n",
       "           (conv0): Conv2d(12, 12, kernel_size=(7, 7), stride=(1, 1), padding=(3, 3), groups=12)\n",
       "           (conv1): Conv2d(12, 48, kernel_size=(1, 1), stride=(1, 1))\n",
       "           (conv2): Conv2d(48, 12, kernel_size=(1, 1), stride=(1, 1))\n",
       "           (bn): BatchNorm2d(12, eps=1e-05, momentum=0.1, affine=True, track_running_stats=True)\n",
       "           (act): GELU(approximate='none')\n",
       "         )\n",
       "       )\n",
       "       (2): Conv2d(12, 4, kernel_size=(3, 3), stride=(1, 1), padding=(1, 1))\n",
       "     )\n",
       "   )\n",
       "   (prepended_layers): ModuleList(\n",
       "     (0): Conv2d(1, 4, kernel_size=(3, 3), stride=(1, 1), padding=(1, 1))\n",
       "     (1-4): 4 x ConvNextCell(\n",
       "       (conv0): Conv2d(4, 4, kernel_size=(7, 7), stride=(1, 1), padding=(3, 3), groups=4)\n",
       "       (conv1): Conv2d(4, 16, kernel_size=(1, 1), stride=(1, 1))\n",
       "       (conv2): Conv2d(16, 4, kernel_size=(1, 1), stride=(1, 1))\n",
       "       (bn): BatchNorm2d(4, eps=1e-05, momentum=0.1, affine=True, track_running_stats=True)\n",
       "       (act): GELU(approximate='none')\n",
       "     )\n",
       "     (5): Conv2d(4, 4, kernel_size=(3, 3), stride=(1, 1), padding=(1, 1))\n",
       "   )\n",
       "   (appended_layers): ModuleList(\n",
       "     (0): Conv2d(4, 4, kernel_size=(3, 3), stride=(1, 1), padding=(1, 1))\n",
       "     (1-4): 4 x ConvNextCell(\n",
       "       (conv0): Conv2d(4, 4, kernel_size=(7, 7), stride=(1, 1), padding=(3, 3), groups=4)\n",
       "       (conv1): Conv2d(4, 32, kernel_size=(1, 1), stride=(1, 1))\n",
       "       (conv2): Conv2d(32, 4, kernel_size=(1, 1), stride=(1, 1))\n",
       "       (bn): BatchNorm2d(4, eps=1e-05, momentum=0.1, affine=True, track_running_stats=True)\n",
       "       (act): GELU(approximate='none')\n",
       "     )\n",
       "     (5): Conv2d(4, 2, kernel_size=(3, 3), stride=(1, 1), padding=(1, 1))\n",
       "   )\n",
       "   (loss_function): r_MSE_loss_dict()\n",
       " )}"
      ]
     },
     "execution_count": 16,
     "metadata": {},
     "output_type": "execute_result"
    }
   ],
   "source": [
    "models"
   ]
  },
  {
   "cell_type": "code",
   "execution_count": 17,
   "id": "6d92f083",
   "metadata": {},
   "outputs": [
    {
     "data": {
      "text/plain": [
       "'actin'"
      ]
     },
     "execution_count": 17,
     "metadata": {},
     "output_type": "execute_result"
    }
   ],
   "source": [
    "protein[:-1]"
   ]
  },
  {
   "cell_type": "markdown",
   "id": "43cc7152-01e6-4c50-8a76-f2670773a025",
   "metadata": {},
   "source": [
    "# Perform training"
   ]
  },
  {
   "cell_type": "code",
   "execution_count": 18,
   "id": "ed690a77-055d-46df-931a-75d67f606fc2",
   "metadata": {},
   "outputs": [
    {
     "name": "stderr",
     "output_type": "stream",
     "text": [
      "Epoch 1:   1%|          | 32/4800.0 [01:20<1:25:56,  1.08s/it]"
     ]
    },
    {
     "name": "stdout",
     "output_type": "stream",
     "text": [
      "{'mse_loss': tensor(61.9630, device='cuda:0'), 'base_loss': tensor(61.9630, device='cuda:0'), 'exp_schedule': 0.0, 'reg_schedule': 0.0}\n",
      "{'mse_loss': tensor(60.1931, device='cuda:0'), 'base_loss': tensor(60.1931, device='cuda:0'), 'exp_schedule': 0.0, 'reg_schedule': 0.0}\n",
      "Epoch 0:\t Time: 80.31 \t(per epoch: 80.31)\n"
     ]
    },
    {
     "name": "stderr",
     "output_type": "stream",
     "text": [
      "Epoch 2:   1%|▏         | 64/4800.0 [01:48<51:25,  1.54it/s]  "
     ]
    },
    {
     "name": "stdout",
     "output_type": "stream",
     "text": [
      "{'mse_loss': tensor(23.6821, device='cuda:0'), 'base_loss': tensor(23.6821, device='cuda:0'), 'exp_schedule': 0.0, 'reg_schedule': 0.0}\n",
      "{'mse_loss': tensor(28.1223, device='cuda:0'), 'base_loss': tensor(28.1223, device='cuda:0'), 'exp_schedule': 0.0, 'reg_schedule': 0.0}\n",
      "Epoch 1:\t Time: 108.68 \t(per epoch: 54.34)\n"
     ]
    },
    {
     "name": "stderr",
     "output_type": "stream",
     "text": [
      "Epoch 3:   2%|▏         | 96/4800.0 [02:16<51:02,  1.54it/s]  "
     ]
    },
    {
     "name": "stdout",
     "output_type": "stream",
     "text": [
      "{'mse_loss': tensor(23.1732, device='cuda:0'), 'base_loss': tensor(23.1732, device='cuda:0'), 'exp_schedule': 0.0, 'reg_schedule': 0.0}\n",
      "{'mse_loss': tensor(26.5104, device='cuda:0'), 'base_loss': tensor(26.5104, device='cuda:0'), 'exp_schedule': 0.0, 'reg_schedule': 0.0}\n",
      "Epoch 2:\t Time: 136.95 \t(per epoch: 45.65)\n"
     ]
    },
    {
     "name": "stderr",
     "output_type": "stream",
     "text": [
      "Epoch 4:   3%|▎         | 128/4800.0 [02:45<50:31,  1.54it/s]  "
     ]
    },
    {
     "name": "stdout",
     "output_type": "stream",
     "text": [
      "{'mse_loss': tensor(28.5211, device='cuda:0'), 'base_loss': tensor(28.5211, device='cuda:0'), 'exp_schedule': 0.0, 'reg_schedule': 0.0}\n",
      "{'mse_loss': tensor(21.1110, device='cuda:0'), 'base_loss': tensor(21.1110, device='cuda:0'), 'exp_schedule': 0.0, 'reg_schedule': 0.0}\n",
      "Epoch 3:\t Time: 165.53 \t(per epoch: 41.38)\n"
     ]
    },
    {
     "name": "stderr",
     "output_type": "stream",
     "text": [
      "Epoch 5:   3%|▎         | 160/4800.0 [03:13<50:07,  1.54it/s]  "
     ]
    },
    {
     "name": "stdout",
     "output_type": "stream",
     "text": [
      "{'mse_loss': tensor(22.1515, device='cuda:0'), 'base_loss': tensor(22.1515, device='cuda:0'), 'exp_schedule': 0.0, 'reg_schedule': 0.0}\n",
      "{'mse_loss': tensor(19.8331, device='cuda:0'), 'base_loss': tensor(19.8331, device='cuda:0'), 'exp_schedule': 0.0, 'reg_schedule': 0.0}\n",
      "Epoch 4:\t Time: 193.77 \t(per epoch: 38.75)\n"
     ]
    },
    {
     "name": "stderr",
     "output_type": "stream",
     "text": [
      "Epoch 6:   4%|▍         | 192/4800.0 [03:42<49:46,  1.54it/s]  "
     ]
    },
    {
     "name": "stdout",
     "output_type": "stream",
     "text": [
      "{'mse_loss': tensor(20.1431, device='cuda:0'), 'base_loss': tensor(20.1431, device='cuda:0'), 'exp_schedule': 0.0, 'reg_schedule': 0.0}\n",
      "{'mse_loss': tensor(29.5995, device='cuda:0'), 'base_loss': tensor(29.5995, device='cuda:0'), 'exp_schedule': 0.0, 'reg_schedule': 0.0}\n",
      "Epoch 5:\t Time: 222.10 \t(per epoch: 37.02)\n"
     ]
    },
    {
     "name": "stderr",
     "output_type": "stream",
     "text": [
      "Epoch 7:   5%|▍         | 224/4800.0 [04:10<49:43,  1.53it/s]  "
     ]
    },
    {
     "name": "stdout",
     "output_type": "stream",
     "text": [
      "{'mse_loss': tensor(31.0341, device='cuda:0'), 'base_loss': tensor(31.0341, device='cuda:0'), 'exp_schedule': 0.0, 'reg_schedule': 0.0}\n",
      "{'mse_loss': tensor(18.5002, device='cuda:0'), 'base_loss': tensor(18.5002, device='cuda:0'), 'exp_schedule': 0.0, 'reg_schedule': 0.0}\n",
      "Epoch 6:\t Time: 250.16 \t(per epoch: 35.74)\n"
     ]
    },
    {
     "name": "stderr",
     "output_type": "stream",
     "text": [
      "Epoch 8:   5%|▌         | 256/4800.0 [04:38<49:04,  1.54it/s]  "
     ]
    },
    {
     "name": "stdout",
     "output_type": "stream",
     "text": [
      "{'mse_loss': tensor(19.4622, device='cuda:0'), 'base_loss': tensor(19.4622, device='cuda:0'), 'exp_schedule': 0.0, 'reg_schedule': 0.0}\n",
      "{'mse_loss': tensor(31.8529, device='cuda:0'), 'base_loss': tensor(31.8529, device='cuda:0'), 'exp_schedule': 0.0, 'reg_schedule': 0.0}\n",
      "Epoch 7:\t Time: 278.39 \t(per epoch: 34.80)\n"
     ]
    },
    {
     "name": "stderr",
     "output_type": "stream",
     "text": [
      "Epoch 9:   6%|▌         | 288/4800.0 [05:06<48:49,  1.54it/s]  "
     ]
    },
    {
     "name": "stdout",
     "output_type": "stream",
     "text": [
      "{'mse_loss': tensor(19.6049, device='cuda:0'), 'base_loss': tensor(19.6049, device='cuda:0'), 'exp_schedule': 0.0, 'reg_schedule': 0.0}\n",
      "{'mse_loss': tensor(22.2533, device='cuda:0'), 'base_loss': tensor(22.2533, device='cuda:0'), 'exp_schedule': 0.0, 'reg_schedule': 0.0}\n",
      "Epoch 8:\t Time: 306.66 \t(per epoch: 34.07)\n"
     ]
    },
    {
     "name": "stderr",
     "output_type": "stream",
     "text": [
      "Epoch 10:   7%|▋         | 320/4800.0 [05:34<48:20,  1.54it/s] "
     ]
    },
    {
     "name": "stdout",
     "output_type": "stream",
     "text": [
      "{'mse_loss': tensor(17.5825, device='cuda:0'), 'base_loss': tensor(17.5825, device='cuda:0'), 'exp_schedule': 0.0, 'reg_schedule': 0.0}\n",
      "{'mse_loss': tensor(16.5250, device='cuda:0'), 'base_loss': tensor(16.5250, device='cuda:0'), 'exp_schedule': 0.0, 'reg_schedule': 0.0}\n",
      "Epoch 9:\t Time: 334.89 \t(per epoch: 33.49)\n"
     ]
    },
    {
     "name": "stderr",
     "output_type": "stream",
     "text": [
      "Epoch 11:   7%|▋         | 352/4800.0 [06:03<48:04,  1.54it/s]  "
     ]
    },
    {
     "name": "stdout",
     "output_type": "stream",
     "text": [
      "{'mse_loss': tensor(21.1860, device='cuda:0'), 'base_loss': tensor(21.1860, device='cuda:0'), 'exp_schedule': 0.0, 'reg_schedule': 0.0}\n",
      "{'mse_loss': tensor(34.0068, device='cuda:0'), 'base_loss': tensor(34.0068, device='cuda:0'), 'exp_schedule': 0.0, 'reg_schedule': 0.0}\n",
      "Epoch 10:\t Time: 363.07 \t(per epoch: 33.01)\n"
     ]
    },
    {
     "name": "stderr",
     "output_type": "stream",
     "text": [
      "Epoch 12:   8%|▊         | 384/4800.0 [06:31<47:41,  1.54it/s]  "
     ]
    },
    {
     "name": "stdout",
     "output_type": "stream",
     "text": [
      "{'mse_loss': tensor(22.5088, device='cuda:0'), 'base_loss': tensor(22.5088, device='cuda:0'), 'exp_schedule': 0.0, 'reg_schedule': 0.0}\n",
      "{'mse_loss': tensor(39.8258, device='cuda:0'), 'base_loss': tensor(39.8258, device='cuda:0'), 'exp_schedule': 0.0, 'reg_schedule': 0.0}\n",
      "Epoch 11:\t Time: 391.37 \t(per epoch: 32.61)\n"
     ]
    },
    {
     "name": "stderr",
     "output_type": "stream",
     "text": [
      "Epoch 13:   9%|▊         | 416/4800.0 [06:59<47:24,  1.54it/s]  "
     ]
    },
    {
     "name": "stdout",
     "output_type": "stream",
     "text": [
      "{'mse_loss': tensor(46.2742, device='cuda:0'), 'base_loss': tensor(46.2742, device='cuda:0'), 'exp_schedule': 0.0, 'reg_schedule': 0.0}\n",
      "{'mse_loss': tensor(27.7542, device='cuda:0'), 'base_loss': tensor(27.7542, device='cuda:0'), 'exp_schedule': 0.0, 'reg_schedule': 0.0}\n",
      "Epoch 12:\t Time: 419.37 \t(per epoch: 32.26)\n"
     ]
    },
    {
     "name": "stderr",
     "output_type": "stream",
     "text": [
      "Epoch 14:   9%|▉         | 448/4800.0 [07:27<47:05,  1.54it/s]  "
     ]
    },
    {
     "name": "stdout",
     "output_type": "stream",
     "text": [
      "{'mse_loss': tensor(46.7590, device='cuda:0'), 'base_loss': tensor(46.7590, device='cuda:0'), 'exp_schedule': 0.0, 'reg_schedule': 0.0}\n",
      "{'mse_loss': tensor(25.9798, device='cuda:0'), 'base_loss': tensor(25.9798, device='cuda:0'), 'exp_schedule': 0.0, 'reg_schedule': 0.0}\n",
      "Epoch 13:\t Time: 447.75 \t(per epoch: 31.98)\n"
     ]
    },
    {
     "name": "stderr",
     "output_type": "stream",
     "text": [
      "Epoch 15:  10%|█         | 480/4800.0 [07:56<46:48,  1.54it/s]  "
     ]
    },
    {
     "name": "stdout",
     "output_type": "stream",
     "text": [
      "{'mse_loss': tensor(18.0792, device='cuda:0'), 'base_loss': tensor(18.0792, device='cuda:0'), 'exp_schedule': 0.0, 'reg_schedule': 0.0}\n",
      "{'mse_loss': tensor(19.6822, device='cuda:0'), 'base_loss': tensor(19.6822, device='cuda:0'), 'exp_schedule': 0.0, 'reg_schedule': 0.0}\n",
      "Epoch 14:\t Time: 476.42 \t(per epoch: 31.76)\n"
     ]
    },
    {
     "name": "stderr",
     "output_type": "stream",
     "text": [
      "Epoch 16:  11%|█         | 512/4800.0 [08:24<46:33,  1.53it/s]  "
     ]
    },
    {
     "name": "stdout",
     "output_type": "stream",
     "text": [
      "{'mse_loss': tensor(18.5079, device='cuda:0'), 'base_loss': tensor(18.5079, device='cuda:0'), 'exp_schedule': 0.0, 'reg_schedule': 0.0}\n",
      "{'mse_loss': tensor(36.4755, device='cuda:0'), 'base_loss': tensor(36.4755, device='cuda:0'), 'exp_schedule': 0.0, 'reg_schedule': 0.0}\n",
      "Epoch 15:\t Time: 504.63 \t(per epoch: 31.54)\n"
     ]
    },
    {
     "name": "stderr",
     "output_type": "stream",
     "text": [
      "Epoch 17:  11%|█▏        | 544/4800.0 [08:52<45:52,  1.55it/s]  "
     ]
    },
    {
     "name": "stdout",
     "output_type": "stream",
     "text": [
      "{'mse_loss': tensor(21.6008, device='cuda:0'), 'base_loss': tensor(21.6008, device='cuda:0'), 'exp_schedule': 0.0, 'reg_schedule': 0.0}\n",
      "{'mse_loss': tensor(16.7958, device='cuda:0'), 'base_loss': tensor(16.7958, device='cuda:0'), 'exp_schedule': 0.0, 'reg_schedule': 0.0}\n",
      "Epoch 16:\t Time: 532.75 \t(per epoch: 31.34)\n"
     ]
    },
    {
     "name": "stderr",
     "output_type": "stream",
     "text": [
      "Epoch 18:  12%|█▏        | 576/4800.0 [09:20<45:43,  1.54it/s]  "
     ]
    },
    {
     "name": "stdout",
     "output_type": "stream",
     "text": [
      "{'mse_loss': tensor(43.2873, device='cuda:0'), 'base_loss': tensor(43.2873, device='cuda:0'), 'exp_schedule': 0.0, 'reg_schedule': 0.0}\n",
      "{'mse_loss': tensor(16.5271, device='cuda:0'), 'base_loss': tensor(16.5271, device='cuda:0'), 'exp_schedule': 0.0, 'reg_schedule': 0.0}\n",
      "Epoch 17:\t Time: 560.88 \t(per epoch: 31.16)\n"
     ]
    },
    {
     "name": "stderr",
     "output_type": "stream",
     "text": [
      "Epoch 19:  13%|█▎        | 608/4800.0 [09:49<45:11,  1.55it/s]  "
     ]
    },
    {
     "name": "stdout",
     "output_type": "stream",
     "text": [
      "{'mse_loss': tensor(27.4454, device='cuda:0'), 'base_loss': tensor(27.4454, device='cuda:0'), 'exp_schedule': 0.0, 'reg_schedule': 0.0}\n",
      "{'mse_loss': tensor(45.0853, device='cuda:0'), 'base_loss': tensor(45.0853, device='cuda:0'), 'exp_schedule': 0.0, 'reg_schedule': 0.0}\n",
      "Epoch 18:\t Time: 589.01 \t(per epoch: 31.00)\n"
     ]
    },
    {
     "name": "stderr",
     "output_type": "stream",
     "text": [
      "Epoch 20:  13%|█▎        | 640/4800.0 [10:17<45:16,  1.53it/s]  "
     ]
    },
    {
     "name": "stdout",
     "output_type": "stream",
     "text": [
      "{'mse_loss': tensor(19.2203, device='cuda:0'), 'base_loss': tensor(19.2203, device='cuda:0'), 'exp_schedule': 0.0, 'reg_schedule': 0.0}\n",
      "{'mse_loss': tensor(35.1493, device='cuda:0'), 'base_loss': tensor(35.1493, device='cuda:0'), 'exp_schedule': 0.0, 'reg_schedule': 0.0}\n",
      "Epoch 19:\t Time: 617.21 \t(per epoch: 30.86)\n"
     ]
    },
    {
     "name": "stderr",
     "output_type": "stream",
     "text": [
      "Epoch 21:  14%|█▍        | 672/4800.0 [10:45<44:40,  1.54it/s]  "
     ]
    },
    {
     "name": "stdout",
     "output_type": "stream",
     "text": [
      "{'mse_loss': tensor(43.1617, device='cuda:0'), 'base_loss': tensor(43.1617, device='cuda:0'), 'exp_schedule': 0.0, 'reg_schedule': 0.0}\n",
      "{'mse_loss': tensor(16.5886, device='cuda:0'), 'base_loss': tensor(16.5886, device='cuda:0'), 'exp_schedule': 0.0, 'reg_schedule': 0.0}\n",
      "Epoch 20:\t Time: 645.49 \t(per epoch: 30.74)\n"
     ]
    },
    {
     "name": "stderr",
     "output_type": "stream",
     "text": [
      "Epoch 22:  15%|█▍        | 704/4800.0 [11:14<44:26,  1.54it/s]  "
     ]
    },
    {
     "name": "stdout",
     "output_type": "stream",
     "text": [
      "{'mse_loss': tensor(18.7823, device='cuda:0'), 'base_loss': tensor(18.7823, device='cuda:0'), 'exp_schedule': 0.0, 'reg_schedule': 0.0}\n",
      "{'mse_loss': tensor(26.2897, device='cuda:0'), 'base_loss': tensor(26.2897, device='cuda:0'), 'exp_schedule': 0.0, 'reg_schedule': 0.0}\n",
      "Epoch 21:\t Time: 674.03 \t(per epoch: 30.64)\n"
     ]
    },
    {
     "name": "stderr",
     "output_type": "stream",
     "text": [
      "Epoch 23:  15%|█▌        | 736/4800.0 [11:41<43:45,  1.55it/s]  "
     ]
    },
    {
     "name": "stdout",
     "output_type": "stream",
     "text": [
      "{'mse_loss': tensor(78.9212, device='cuda:0'), 'base_loss': tensor(78.9212, device='cuda:0'), 'exp_schedule': 0.0, 'reg_schedule': 0.0}\n",
      "{'mse_loss': tensor(27.4509, device='cuda:0'), 'base_loss': tensor(27.4509, device='cuda:0'), 'exp_schedule': 0.0, 'reg_schedule': 0.0}\n",
      "Epoch 22:\t Time: 701.90 \t(per epoch: 30.52)\n"
     ]
    },
    {
     "name": "stderr",
     "output_type": "stream",
     "text": [
      "Epoch 24:  16%|█▌        | 768/4800.0 [12:10<43:28,  1.55it/s]  "
     ]
    },
    {
     "name": "stdout",
     "output_type": "stream",
     "text": [
      "{'mse_loss': tensor(29.7134, device='cuda:0'), 'base_loss': tensor(29.7134, device='cuda:0'), 'exp_schedule': 0.0, 'reg_schedule': 0.0}\n",
      "{'mse_loss': tensor(15.8234, device='cuda:0'), 'base_loss': tensor(15.8234, device='cuda:0'), 'exp_schedule': 0.0, 'reg_schedule': 0.0}\n",
      "Epoch 23:\t Time: 730.15 \t(per epoch: 30.42)\n"
     ]
    },
    {
     "name": "stderr",
     "output_type": "stream",
     "text": [
      "Epoch 25:  17%|█▋        | 800/4800.0 [12:38<43:06,  1.55it/s]  "
     ]
    },
    {
     "name": "stdout",
     "output_type": "stream",
     "text": [
      "{'mse_loss': tensor(48.7569, device='cuda:0'), 'base_loss': tensor(48.7569, device='cuda:0'), 'exp_schedule': 0.0, 'reg_schedule': 0.0}\n",
      "{'mse_loss': tensor(15.9011, device='cuda:0'), 'base_loss': tensor(15.9011, device='cuda:0'), 'exp_schedule': 0.0, 'reg_schedule': 0.0}\n",
      "Epoch 24:\t Time: 758.67 \t(per epoch: 30.35)\n"
     ]
    },
    {
     "name": "stderr",
     "output_type": "stream",
     "text": [
      "Epoch 26:  17%|█▋        | 832/4800.0 [13:06<42:46,  1.55it/s]  "
     ]
    },
    {
     "name": "stdout",
     "output_type": "stream",
     "text": [
      "{'mse_loss': tensor(83.6443, device='cuda:0'), 'base_loss': tensor(83.6443, device='cuda:0'), 'exp_schedule': 0.0, 'reg_schedule': 0.0}\n",
      "{'mse_loss': tensor(56.3619, device='cuda:0'), 'base_loss': tensor(56.3619, device='cuda:0'), 'exp_schedule': 0.0, 'reg_schedule': 0.0}\n",
      "Epoch 25:\t Time: 786.73 \t(per epoch: 30.26)\n"
     ]
    },
    {
     "name": "stderr",
     "output_type": "stream",
     "text": [
      "Epoch 27:  18%|█▊        | 864/4800.0 [13:35<42:25,  1.55it/s]  "
     ]
    },
    {
     "name": "stdout",
     "output_type": "stream",
     "text": [
      "{'mse_loss': tensor(141.2463, device='cuda:0'), 'base_loss': tensor(141.2463, device='cuda:0'), 'exp_schedule': 0.0, 'reg_schedule': 0.0}\n",
      "{'mse_loss': tensor(21.3665, device='cuda:0'), 'base_loss': tensor(21.3665, device='cuda:0'), 'exp_schedule': 0.0, 'reg_schedule': 0.0}\n",
      "Epoch 26:\t Time: 815.14 \t(per epoch: 30.19)\n"
     ]
    },
    {
     "name": "stderr",
     "output_type": "stream",
     "text": [
      "Epoch 28:  19%|█▊        | 896/4800.0 [14:03<42:01,  1.55it/s]  "
     ]
    },
    {
     "name": "stdout",
     "output_type": "stream",
     "text": [
      "{'mse_loss': tensor(52.6346, device='cuda:0'), 'base_loss': tensor(52.6346, device='cuda:0'), 'exp_schedule': 0.0, 'reg_schedule': 0.0}\n",
      "{'mse_loss': tensor(50.9943, device='cuda:0'), 'base_loss': tensor(50.9943, device='cuda:0'), 'exp_schedule': 0.0, 'reg_schedule': 0.0}\n",
      "Epoch 27:\t Time: 843.07 \t(per epoch: 30.11)\n"
     ]
    },
    {
     "name": "stderr",
     "output_type": "stream",
     "text": [
      "Epoch 29:  19%|█▉        | 928/4800.0 [14:31<41:48,  1.54it/s]  "
     ]
    },
    {
     "name": "stdout",
     "output_type": "stream",
     "text": [
      "{'mse_loss': tensor(16.0909, device='cuda:0'), 'base_loss': tensor(16.0909, device='cuda:0'), 'exp_schedule': 0.0, 'reg_schedule': 0.0}\n",
      "{'mse_loss': tensor(44.0492, device='cuda:0'), 'base_loss': tensor(44.0492, device='cuda:0'), 'exp_schedule': 0.0, 'reg_schedule': 0.0}\n",
      "Epoch 28:\t Time: 871.20 \t(per epoch: 30.04)\n"
     ]
    },
    {
     "name": "stderr",
     "output_type": "stream",
     "text": [
      "Epoch 30:  20%|██        | 960/4800.0 [14:59<41:30,  1.54it/s]  "
     ]
    },
    {
     "name": "stdout",
     "output_type": "stream",
     "text": [
      "{'mse_loss': tensor(57.1401, device='cuda:0'), 'base_loss': tensor(57.1401, device='cuda:0'), 'exp_schedule': 0.0, 'reg_schedule': 0.0}\n",
      "{'mse_loss': tensor(46.5202, device='cuda:0'), 'base_loss': tensor(46.5202, device='cuda:0'), 'exp_schedule': 0.0, 'reg_schedule': 0.0}\n",
      "Epoch 29:\t Time: 899.53 \t(per epoch: 29.98)\n"
     ]
    },
    {
     "name": "stderr",
     "output_type": "stream",
     "text": [
      "Epoch 31:  21%|██        | 992/4800.0 [15:27<40:58,  1.55it/s]  "
     ]
    },
    {
     "name": "stdout",
     "output_type": "stream",
     "text": [
      "{'mse_loss': tensor(63.7195, device='cuda:0'), 'base_loss': tensor(63.7195, device='cuda:0'), 'exp_schedule': 0.0, 'reg_schedule': 0.0}\n",
      "{'mse_loss': tensor(23.9404, device='cuda:0'), 'base_loss': tensor(23.9404, device='cuda:0'), 'exp_schedule': 0.0, 'reg_schedule': 0.0}\n",
      "Epoch 30:\t Time: 927.58 \t(per epoch: 29.92)\n"
     ]
    },
    {
     "name": "stderr",
     "output_type": "stream",
     "text": [
      "Epoch 32:  21%|██▏       | 1024/4800.0 [15:55<40:40,  1.55it/s] "
     ]
    },
    {
     "name": "stdout",
     "output_type": "stream",
     "text": [
      "{'mse_loss': tensor(36.6688, device='cuda:0'), 'base_loss': tensor(36.6688, device='cuda:0'), 'exp_schedule': 0.0, 'reg_schedule': 0.022580645161290325}\n",
      "{'mse_loss': tensor(30.8434, device='cuda:0'), 'base_loss': tensor(30.8434, device='cuda:0'), 'exp_schedule': 0.0, 'reg_schedule': 0.022580645161290325}\n",
      "Epoch 31:\t Time: 955.60 \t(per epoch: 29.86)\n"
     ]
    },
    {
     "name": "stderr",
     "output_type": "stream",
     "text": [
      "Epoch 33:  22%|██▏       | 1056/4800.0 [16:24<40:22,  1.55it/s]  "
     ]
    },
    {
     "name": "stdout",
     "output_type": "stream",
     "text": [
      "{'mse_loss': tensor(79.6016, device='cuda:0'), 'base_loss': tensor(79.6016, device='cuda:0'), 'exp_schedule': 0.0, 'reg_schedule': 0.04516129032258065}\n",
      "{'mse_loss': tensor(31.3023, device='cuda:0'), 'base_loss': tensor(31.3023, device='cuda:0'), 'exp_schedule': 0.0, 'reg_schedule': 0.04516129032258065}\n",
      "Epoch 32:\t Time: 983.93 \t(per epoch: 29.82)\n"
     ]
    },
    {
     "name": "stderr",
     "output_type": "stream",
     "text": [
      "Epoch 34:  23%|██▎       | 1088/4800.0 [16:52<40:09,  1.54it/s]  "
     ]
    },
    {
     "name": "stdout",
     "output_type": "stream",
     "text": [
      "{'mse_loss': tensor(75.4451, device='cuda:0'), 'base_loss': tensor(75.4451, device='cuda:0'), 'exp_schedule': 0.0, 'reg_schedule': 0.06774193548387096}\n",
      "{'mse_loss': tensor(34.6665, device='cuda:0'), 'base_loss': tensor(34.6665, device='cuda:0'), 'exp_schedule': 0.0, 'reg_schedule': 0.06774193548387096}\n",
      "Epoch 33:\t Time: 1012.24 \t(per epoch: 29.77)\n"
     ]
    },
    {
     "name": "stderr",
     "output_type": "stream",
     "text": [
      "Epoch 35:  23%|██▎       | 1120/4800.0 [17:20<39:50,  1.54it/s]  "
     ]
    },
    {
     "name": "stdout",
     "output_type": "stream",
     "text": [
      "{'mse_loss': tensor(33.8312, device='cuda:0'), 'base_loss': tensor(33.8312, device='cuda:0'), 'exp_schedule': 0.0, 'reg_schedule': 0.0903225806451613}\n",
      "{'mse_loss': tensor(14.1699, device='cuda:0'), 'base_loss': tensor(14.1699, device='cuda:0'), 'exp_schedule': 0.0, 'reg_schedule': 0.0903225806451613}\n",
      "Epoch 34:\t Time: 1040.59 \t(per epoch: 29.73)\n"
     ]
    },
    {
     "name": "stderr",
     "output_type": "stream",
     "text": [
      "Epoch 36:  24%|██▍       | 1152/4800.0 [17:49<39:42,  1.53it/s]  "
     ]
    },
    {
     "name": "stdout",
     "output_type": "stream",
     "text": [
      "{'mse_loss': tensor(52.4077, device='cuda:0'), 'base_loss': tensor(52.4077, device='cuda:0'), 'exp_schedule': 0.0, 'reg_schedule': 0.11290322580645161}\n",
      "{'mse_loss': tensor(34.2535, device='cuda:0'), 'base_loss': tensor(34.2535, device='cuda:0'), 'exp_schedule': 0.0, 'reg_schedule': 0.11290322580645161}\n",
      "Epoch 35:\t Time: 1069.12 \t(per epoch: 29.70)\n"
     ]
    },
    {
     "name": "stderr",
     "output_type": "stream",
     "text": [
      "Epoch 37:  25%|██▍       | 1184/4800.0 [18:17<39:09,  1.54it/s]  "
     ]
    },
    {
     "name": "stdout",
     "output_type": "stream",
     "text": [
      "{'mse_loss': tensor(19.2796, device='cuda:0'), 'base_loss': tensor(19.2796, device='cuda:0'), 'exp_schedule': 0.0, 'reg_schedule': 0.13548387096774192}\n",
      "{'mse_loss': tensor(31.3572, device='cuda:0'), 'base_loss': tensor(31.3572, device='cuda:0'), 'exp_schedule': 0.0, 'reg_schedule': 0.13548387096774192}\n",
      "Epoch 36:\t Time: 1097.38 \t(per epoch: 29.66)\n"
     ]
    },
    {
     "name": "stderr",
     "output_type": "stream",
     "text": [
      "Epoch 38:  25%|██▌       | 1216/4800.0 [18:45<38:46,  1.54it/s]  "
     ]
    },
    {
     "name": "stdout",
     "output_type": "stream",
     "text": [
      "{'mse_loss': tensor(49.2119, device='cuda:0'), 'base_loss': tensor(49.2119, device='cuda:0'), 'exp_schedule': 0.0, 'reg_schedule': 0.15806451612903225}\n",
      "{'mse_loss': tensor(52.2969, device='cuda:0'), 'base_loss': tensor(52.2969, device='cuda:0'), 'exp_schedule': 0.0, 'reg_schedule': 0.15806451612903225}\n",
      "Epoch 37:\t Time: 1125.69 \t(per epoch: 29.62)\n"
     ]
    },
    {
     "name": "stderr",
     "output_type": "stream",
     "text": [
      "Epoch 39:  26%|██▌       | 1248/4800.0 [19:13<38:21,  1.54it/s]  "
     ]
    },
    {
     "name": "stdout",
     "output_type": "stream",
     "text": [
      "{'mse_loss': tensor(18.9918, device='cuda:0'), 'base_loss': tensor(18.9918, device='cuda:0'), 'exp_schedule': 0.0, 'reg_schedule': 0.1806451612903226}\n",
      "{'mse_loss': tensor(26.0813, device='cuda:0'), 'base_loss': tensor(26.0813, device='cuda:0'), 'exp_schedule': 0.0, 'reg_schedule': 0.1806451612903226}\n",
      "Epoch 38:\t Time: 1153.87 \t(per epoch: 29.59)\n"
     ]
    },
    {
     "name": "stderr",
     "output_type": "stream",
     "text": [
      "Epoch 40:  27%|██▋       | 1280/4800.0 [19:42<38:06,  1.54it/s]  "
     ]
    },
    {
     "name": "stdout",
     "output_type": "stream",
     "text": [
      "{'mse_loss': tensor(68.4309, device='cuda:0'), 'base_loss': tensor(68.4309, device='cuda:0'), 'exp_schedule': 0.0, 'reg_schedule': 0.2032258064516129}\n",
      "{'mse_loss': tensor(17.5487, device='cuda:0'), 'base_loss': tensor(17.5487, device='cuda:0'), 'exp_schedule': 0.0, 'reg_schedule': 0.2032258064516129}\n",
      "Epoch 39:\t Time: 1182.01 \t(per epoch: 29.55)\n"
     ]
    },
    {
     "name": "stderr",
     "output_type": "stream",
     "text": [
      "Epoch 41:  27%|██▋       | 1312/4800.0 [20:10<37:41,  1.54it/s]  "
     ]
    },
    {
     "name": "stdout",
     "output_type": "stream",
     "text": [
      "{'mse_loss': tensor(19.4931, device='cuda:0'), 'base_loss': tensor(19.4931, device='cuda:0'), 'exp_schedule': 0.0, 'reg_schedule': 0.22580645161290322}\n",
      "{'mse_loss': tensor(39.4670, device='cuda:0'), 'base_loss': tensor(39.4670, device='cuda:0'), 'exp_schedule': 0.0, 'reg_schedule': 0.22580645161290322}\n",
      "Epoch 40:\t Time: 1210.19 \t(per epoch: 29.52)\n"
     ]
    },
    {
     "name": "stderr",
     "output_type": "stream",
     "text": [
      "Epoch 42:  28%|██▊       | 1344/4800.0 [20:38<37:18,  1.54it/s]  "
     ]
    },
    {
     "name": "stdout",
     "output_type": "stream",
     "text": [
      "{'mse_loss': tensor(45.2176, device='cuda:0'), 'base_loss': tensor(45.2176, device='cuda:0'), 'exp_schedule': 0.0, 'reg_schedule': 0.24838709677419357}\n",
      "{'mse_loss': tensor(41.4046, device='cuda:0'), 'base_loss': tensor(41.4046, device='cuda:0'), 'exp_schedule': 0.0, 'reg_schedule': 0.24838709677419357}\n",
      "Epoch 41:\t Time: 1238.76 \t(per epoch: 29.49)\n"
     ]
    },
    {
     "name": "stderr",
     "output_type": "stream",
     "text": [
      "Epoch 43:  29%|██▊       | 1376/4800.0 [21:06<36:53,  1.55it/s]  "
     ]
    },
    {
     "name": "stdout",
     "output_type": "stream",
     "text": [
      "{'mse_loss': tensor(49.3642, device='cuda:0'), 'base_loss': tensor(49.3642, device='cuda:0'), 'exp_schedule': 0.0, 'reg_schedule': 0.27096774193548384}\n",
      "{'mse_loss': tensor(19.8925, device='cuda:0'), 'base_loss': tensor(19.8925, device='cuda:0'), 'exp_schedule': 0.0, 'reg_schedule': 0.27096774193548384}\n",
      "Epoch 42:\t Time: 1266.91 \t(per epoch: 29.46)\n"
     ]
    },
    {
     "name": "stderr",
     "output_type": "stream",
     "text": [
      "Epoch 44:  29%|██▉       | 1408/4800.0 [21:35<36:36,  1.54it/s]  "
     ]
    },
    {
     "name": "stdout",
     "output_type": "stream",
     "text": [
      "{'mse_loss': tensor(28.1646, device='cuda:0'), 'base_loss': tensor(28.1646, device='cuda:0'), 'exp_schedule': 0.0, 'reg_schedule': 0.2935483870967742}\n",
      "{'mse_loss': tensor(35.2751, device='cuda:0'), 'base_loss': tensor(35.2751, device='cuda:0'), 'exp_schedule': 0.0, 'reg_schedule': 0.2935483870967742}\n",
      "Epoch 43:\t Time: 1295.03 \t(per epoch: 29.43)\n"
     ]
    },
    {
     "name": "stderr",
     "output_type": "stream",
     "text": [
      "Epoch 45:  30%|███       | 1440/4800.0 [22:03<36:26,  1.54it/s]  "
     ]
    },
    {
     "name": "stdout",
     "output_type": "stream",
     "text": [
      "{'mse_loss': tensor(23.7742, device='cuda:0'), 'base_loss': tensor(23.7742, device='cuda:0'), 'exp_schedule': 0.0, 'reg_schedule': 0.3161290322580645}\n",
      "{'mse_loss': tensor(41.7726, device='cuda:0'), 'base_loss': tensor(41.7726, device='cuda:0'), 'exp_schedule': 0.0, 'reg_schedule': 0.3161290322580645}\n",
      "Epoch 44:\t Time: 1323.21 \t(per epoch: 29.40)\n"
     ]
    },
    {
     "name": "stderr",
     "output_type": "stream",
     "text": [
      "Epoch 46:  31%|███       | 1472/4800.0 [22:32<36:10,  1.53it/s]  "
     ]
    },
    {
     "name": "stdout",
     "output_type": "stream",
     "text": [
      "{'mse_loss': tensor(29.3342, device='cuda:0'), 'base_loss': tensor(29.3342, device='cuda:0'), 'exp_schedule': 0.0, 'reg_schedule': 0.33870967741935487}\n",
      "{'mse_loss': tensor(35.7144, device='cuda:0'), 'base_loss': tensor(35.7144, device='cuda:0'), 'exp_schedule': 0.0, 'reg_schedule': 0.33870967741935487}\n",
      "Epoch 45:\t Time: 1352.11 \t(per epoch: 29.39)\n"
     ]
    },
    {
     "name": "stderr",
     "output_type": "stream",
     "text": [
      "Epoch 47:  31%|███▏      | 1504/4800.0 [23:00<35:43,  1.54it/s]  "
     ]
    },
    {
     "name": "stdout",
     "output_type": "stream",
     "text": [
      "{'mse_loss': tensor(42.5645, device='cuda:0'), 'base_loss': tensor(42.5645, device='cuda:0'), 'exp_schedule': 0.0, 'reg_schedule': 0.3612903225806452}\n",
      "{'mse_loss': tensor(21.9390, device='cuda:0'), 'base_loss': tensor(21.9390, device='cuda:0'), 'exp_schedule': 0.0, 'reg_schedule': 0.3612903225806452}\n",
      "Epoch 46:\t Time: 1380.30 \t(per epoch: 29.37)\n"
     ]
    },
    {
     "name": "stderr",
     "output_type": "stream",
     "text": [
      "Epoch 48:  32%|███▏      | 1536/4800.0 [23:28<35:19,  1.54it/s]  "
     ]
    },
    {
     "name": "stdout",
     "output_type": "stream",
     "text": [
      "{'mse_loss': tensor(33.9253, device='cuda:0'), 'base_loss': tensor(33.9253, device='cuda:0'), 'exp_schedule': 0.0, 'reg_schedule': 0.3838709677419354}\n",
      "{'mse_loss': tensor(18.4595, device='cuda:0'), 'base_loss': tensor(18.4595, device='cuda:0'), 'exp_schedule': 0.0, 'reg_schedule': 0.3838709677419354}\n",
      "Epoch 47:\t Time: 1408.48 \t(per epoch: 29.34)\n"
     ]
    },
    {
     "name": "stderr",
     "output_type": "stream",
     "text": [
      "Epoch 49:  33%|███▎      | 1568/4800.0 [23:56<34:49,  1.55it/s]  "
     ]
    },
    {
     "name": "stdout",
     "output_type": "stream",
     "text": [
      "{'mse_loss': tensor(21.1381, device='cuda:0'), 'base_loss': tensor(21.1381, device='cuda:0'), 'exp_schedule': 0.0, 'reg_schedule': 0.4064516129032258}\n",
      "{'mse_loss': tensor(19.9767, device='cuda:0'), 'base_loss': tensor(19.9767, device='cuda:0'), 'exp_schedule': 0.0, 'reg_schedule': 0.4064516129032258}\n",
      "Epoch 48:\t Time: 1436.84 \t(per epoch: 29.32)\n"
     ]
    },
    {
     "name": "stderr",
     "output_type": "stream",
     "text": [
      "Epoch 50:  33%|███▎      | 1600/4800.0 [24:25<34:38,  1.54it/s]  "
     ]
    },
    {
     "name": "stdout",
     "output_type": "stream",
     "text": [
      "{'mse_loss': tensor(29.7332, device='cuda:0'), 'base_loss': tensor(29.7332, device='cuda:0'), 'exp_schedule': 0.0, 'reg_schedule': 0.4290322580645161}\n",
      "{'mse_loss': tensor(31.3454, device='cuda:0'), 'base_loss': tensor(31.3454, device='cuda:0'), 'exp_schedule': 0.0, 'reg_schedule': 0.4290322580645161}\n",
      "Epoch 49:\t Time: 1465.36 \t(per epoch: 29.31)\n"
     ]
    },
    {
     "name": "stderr",
     "output_type": "stream",
     "text": [
      "Epoch 51:  34%|███▍      | 1632/4800.0 [24:53<34:21,  1.54it/s]  "
     ]
    },
    {
     "name": "stdout",
     "output_type": "stream",
     "text": [
      "{'mse_loss': tensor(43.4831, device='cuda:0'), 'base_loss': tensor(43.4831, device='cuda:0'), 'exp_schedule': 0.0, 'reg_schedule': 0.45161290322580644}\n",
      "{'mse_loss': tensor(32.6527, device='cuda:0'), 'base_loss': tensor(32.6527, device='cuda:0'), 'exp_schedule': 0.0, 'reg_schedule': 0.45161290322580644}\n",
      "Epoch 50:\t Time: 1493.74 \t(per epoch: 29.29)\n"
     ]
    },
    {
     "name": "stderr",
     "output_type": "stream",
     "text": [
      "Epoch 52:  35%|███▍      | 1664/4800.0 [25:21<33:52,  1.54it/s]  "
     ]
    },
    {
     "name": "stdout",
     "output_type": "stream",
     "text": [
      "{'mse_loss': tensor(38.5843, device='cuda:0'), 'base_loss': tensor(38.5843, device='cuda:0'), 'exp_schedule': 0.0, 'reg_schedule': 0.4741935483870968}\n",
      "{'mse_loss': tensor(27.1640, device='cuda:0'), 'base_loss': tensor(27.1640, device='cuda:0'), 'exp_schedule': 0.0, 'reg_schedule': 0.4741935483870968}\n",
      "Epoch 51:\t Time: 1521.99 \t(per epoch: 29.27)\n"
     ]
    },
    {
     "name": "stderr",
     "output_type": "stream",
     "text": [
      "Epoch 53:  35%|███▌      | 1696/4800.0 [25:50<33:34,  1.54it/s]  "
     ]
    },
    {
     "name": "stdout",
     "output_type": "stream",
     "text": [
      "{'mse_loss': tensor(44.1985, device='cuda:0'), 'base_loss': tensor(44.1985, device='cuda:0'), 'exp_schedule': 0.0, 'reg_schedule': 0.49677419354838714}\n",
      "{'mse_loss': tensor(22.3351, device='cuda:0'), 'base_loss': tensor(22.3351, device='cuda:0'), 'exp_schedule': 0.0, 'reg_schedule': 0.49677419354838714}\n",
      "Epoch 52:\t Time: 1550.57 \t(per epoch: 29.26)\n"
     ]
    },
    {
     "name": "stderr",
     "output_type": "stream",
     "text": [
      "Epoch 54:  36%|███▌      | 1728/4800.0 [26:18<33:07,  1.55it/s]  "
     ]
    },
    {
     "name": "stdout",
     "output_type": "stream",
     "text": [
      "{'mse_loss': tensor(41.3231, device='cuda:0'), 'base_loss': tensor(41.3231, device='cuda:0'), 'exp_schedule': 0.0, 'reg_schedule': 0.5193548387096775}\n",
      "{'mse_loss': tensor(31.3067, device='cuda:0'), 'base_loss': tensor(31.3067, device='cuda:0'), 'exp_schedule': 0.0, 'reg_schedule': 0.5193548387096775}\n",
      "Epoch 53:\t Time: 1578.85 \t(per epoch: 29.24)\n"
     ]
    },
    {
     "name": "stderr",
     "output_type": "stream",
     "text": [
      "Epoch 55:  37%|███▋      | 1760/4800.0 [26:46<32:52,  1.54it/s]  "
     ]
    },
    {
     "name": "stdout",
     "output_type": "stream",
     "text": [
      "{'mse_loss': tensor(23.7727, device='cuda:0'), 'base_loss': tensor(23.7727, device='cuda:0'), 'exp_schedule': 0.0, 'reg_schedule': 0.5419354838709677}\n",
      "{'mse_loss': tensor(28.0656, device='cuda:0'), 'base_loss': tensor(28.0656, device='cuda:0'), 'exp_schedule': 0.0, 'reg_schedule': 0.5419354838709677}\n",
      "Epoch 54:\t Time: 1606.92 \t(per epoch: 29.22)\n"
     ]
    },
    {
     "name": "stderr",
     "output_type": "stream",
     "text": [
      "Epoch 56:  37%|███▋      | 1792/4800.0 [27:15<32:27,  1.54it/s]  "
     ]
    },
    {
     "name": "stdout",
     "output_type": "stream",
     "text": [
      "{'mse_loss': tensor(14.3688, device='cuda:0'), 'base_loss': tensor(14.3688, device='cuda:0'), 'exp_schedule': 0.0, 'reg_schedule': 0.564516129032258}\n",
      "{'mse_loss': tensor(17.6447, device='cuda:0'), 'base_loss': tensor(17.6447, device='cuda:0'), 'exp_schedule': 0.0, 'reg_schedule': 0.564516129032258}\n",
      "Epoch 55:\t Time: 1635.04 \t(per epoch: 29.20)\n"
     ]
    },
    {
     "name": "stderr",
     "output_type": "stream",
     "text": [
      "Epoch 57:  38%|███▊      | 1824/4800.0 [27:43<32:11,  1.54it/s]  "
     ]
    },
    {
     "name": "stdout",
     "output_type": "stream",
     "text": [
      "{'mse_loss': tensor(41.2832, device='cuda:0'), 'base_loss': tensor(41.2832, device='cuda:0'), 'exp_schedule': 0.0, 'reg_schedule': 0.5870967741935484}\n",
      "{'mse_loss': tensor(17.0104, device='cuda:0'), 'base_loss': tensor(17.0104, device='cuda:0'), 'exp_schedule': 0.0, 'reg_schedule': 0.5870967741935484}\n",
      "Epoch 56:\t Time: 1663.18 \t(per epoch: 29.18)\n"
     ]
    },
    {
     "name": "stderr",
     "output_type": "stream",
     "text": [
      "Epoch 58:  39%|███▊      | 1856/4800.0 [28:11<31:49,  1.54it/s]  "
     ]
    },
    {
     "name": "stdout",
     "output_type": "stream",
     "text": [
      "{'mse_loss': tensor(34.2051, device='cuda:0'), 'base_loss': tensor(34.2051, device='cuda:0'), 'exp_schedule': 0.0, 'reg_schedule': 0.6096774193548387}\n",
      "{'mse_loss': tensor(34.5301, device='cuda:0'), 'base_loss': tensor(34.5301, device='cuda:0'), 'exp_schedule': 0.0, 'reg_schedule': 0.6096774193548387}\n",
      "Epoch 57:\t Time: 1691.26 \t(per epoch: 29.16)\n"
     ]
    },
    {
     "name": "stderr",
     "output_type": "stream",
     "text": [
      "Epoch 59:  39%|███▉      | 1888/4800.0 [28:39<31:26,  1.54it/s]  "
     ]
    },
    {
     "name": "stdout",
     "output_type": "stream",
     "text": [
      "{'mse_loss': tensor(43.4258, device='cuda:0'), 'base_loss': tensor(43.4258, device='cuda:0'), 'exp_schedule': 0.0, 'reg_schedule': 0.632258064516129}\n",
      "{'mse_loss': tensor(20.6877, device='cuda:0'), 'base_loss': tensor(20.6877, device='cuda:0'), 'exp_schedule': 0.0, 'reg_schedule': 0.632258064516129}\n",
      "Epoch 58:\t Time: 1719.20 \t(per epoch: 29.14)\n"
     ]
    },
    {
     "name": "stderr",
     "output_type": "stream",
     "text": [
      "Epoch 60:  40%|████      | 1920/4800.0 [29:07<31:00,  1.55it/s]  "
     ]
    },
    {
     "name": "stdout",
     "output_type": "stream",
     "text": [
      "{'mse_loss': tensor(17.2786, device='cuda:0'), 'base_loss': tensor(17.2786, device='cuda:0'), 'exp_schedule': 0.0, 'reg_schedule': 0.6548387096774193}\n",
      "{'mse_loss': tensor(34.3721, device='cuda:0'), 'base_loss': tensor(34.3721, device='cuda:0'), 'exp_schedule': 0.0, 'reg_schedule': 0.6548387096774193}\n",
      "Epoch 59:\t Time: 1747.35 \t(per epoch: 29.12)\n"
     ]
    },
    {
     "name": "stderr",
     "output_type": "stream",
     "text": [
      "Epoch 61:  41%|████      | 1952/4800.0 [29:35<30:50,  1.54it/s]  "
     ]
    },
    {
     "name": "stdout",
     "output_type": "stream",
     "text": [
      "{'mse_loss': tensor(39.3778, device='cuda:0'), 'base_loss': tensor(39.3778, device='cuda:0'), 'exp_schedule': 0.0, 'reg_schedule': 0.6774193548387097}\n",
      "{'mse_loss': tensor(18.9270, device='cuda:0'), 'base_loss': tensor(18.9270, device='cuda:0'), 'exp_schedule': 0.0, 'reg_schedule': 0.6774193548387097}\n",
      "Epoch 60:\t Time: 1775.28 \t(per epoch: 29.10)\n"
     ]
    },
    {
     "name": "stderr",
     "output_type": "stream",
     "text": [
      "Epoch 62:  41%|████▏     | 1984/4800.0 [30:03<30:26,  1.54it/s]  "
     ]
    },
    {
     "name": "stdout",
     "output_type": "stream",
     "text": [
      "{'mse_loss': tensor(46.2263, device='cuda:0'), 'base_loss': tensor(46.2263, device='cuda:0'), 'exp_schedule': 0.0, 'reg_schedule': 0.7}\n",
      "{'mse_loss': tensor(32.4582, device='cuda:0'), 'base_loss': tensor(32.4582, device='cuda:0'), 'exp_schedule': 0.0, 'reg_schedule': 0.7}\n",
      "Epoch 61:\t Time: 1803.47 \t(per epoch: 29.09)\n"
     ]
    },
    {
     "name": "stderr",
     "output_type": "stream",
     "text": [
      "Epoch 63:  42%|████▏     | 2016/4800.0 [30:31<30:10,  1.54it/s]  "
     ]
    },
    {
     "name": "stdout",
     "output_type": "stream",
     "text": [
      "{'mse_loss': tensor(21.3869, device='cuda:0'), 'base_loss': tensor(21.3869, device='cuda:0'), 'exp_schedule': 0.0, 'reg_schedule': 0.7225806451612904}\n",
      "{'mse_loss': tensor(32.9180, device='cuda:0'), 'base_loss': tensor(32.9180, device='cuda:0'), 'exp_schedule': 0.0, 'reg_schedule': 0.7225806451612904}\n",
      "Epoch 62:\t Time: 1831.47 \t(per epoch: 29.07)\n"
     ]
    },
    {
     "name": "stderr",
     "output_type": "stream",
     "text": [
      "Epoch 64:  43%|████▎     | 2048/4800.0 [30:59<29:37,  1.55it/s]  "
     ]
    },
    {
     "name": "stdout",
     "output_type": "stream",
     "text": [
      "{'mse_loss': tensor(39.9408, device='cuda:0'), 'base_loss': tensor(39.9408, device='cuda:0'), 'exp_schedule': 0.0, 'reg_schedule': 0.7451612903225806}\n",
      "{'mse_loss': tensor(23.9045, device='cuda:0'), 'base_loss': tensor(23.9045, device='cuda:0'), 'exp_schedule': 0.0, 'reg_schedule': 0.7451612903225806}\n",
      "Epoch 63:\t Time: 1859.53 \t(per epoch: 29.06)\n"
     ]
    },
    {
     "name": "stderr",
     "output_type": "stream",
     "text": [
      "Epoch 65:  43%|████▎     | 2080/4800.0 [31:27<29:17,  1.55it/s]  "
     ]
    },
    {
     "name": "stdout",
     "output_type": "stream",
     "text": [
      "{'mse_loss': tensor(35.8846, device='cuda:0'), 'base_loss': tensor(35.8846, device='cuda:0'), 'exp_schedule': 0.0, 'reg_schedule': 0.7677419354838708}\n",
      "{'mse_loss': tensor(23.8977, device='cuda:0'), 'base_loss': tensor(23.8977, device='cuda:0'), 'exp_schedule': 0.0, 'reg_schedule': 0.7677419354838708}\n",
      "Epoch 64:\t Time: 1887.92 \t(per epoch: 29.04)\n"
     ]
    },
    {
     "name": "stderr",
     "output_type": "stream",
     "text": [
      "Epoch 66:  44%|████▍     | 2112/4800.0 [31:55<29:03,  1.54it/s]  "
     ]
    },
    {
     "name": "stdout",
     "output_type": "stream",
     "text": [
      "{'mse_loss': tensor(30.2627, device='cuda:0'), 'base_loss': tensor(30.2627, device='cuda:0'), 'exp_schedule': 0.0, 'reg_schedule': 0.7903225806451613}\n",
      "{'mse_loss': tensor(19.2731, device='cuda:0'), 'base_loss': tensor(19.2731, device='cuda:0'), 'exp_schedule': 0.0, 'reg_schedule': 0.7903225806451613}\n",
      "Epoch 65:\t Time: 1915.94 \t(per epoch: 29.03)\n"
     ]
    },
    {
     "name": "stderr",
     "output_type": "stream",
     "text": [
      "Epoch 67:  45%|████▍     | 2144/4800.0 [32:24<29:19,  1.51it/s]  "
     ]
    },
    {
     "name": "stdout",
     "output_type": "stream",
     "text": [
      "{'mse_loss': tensor(50.1828, device='cuda:0'), 'base_loss': tensor(50.1828, device='cuda:0'), 'exp_schedule': 0.0, 'reg_schedule': 0.8129032258064516}\n",
      "{'mse_loss': tensor(15.2172, device='cuda:0'), 'base_loss': tensor(15.2172, device='cuda:0'), 'exp_schedule': 0.0, 'reg_schedule': 0.8129032258064516}\n",
      "Epoch 66:\t Time: 1944.50 \t(per epoch: 29.02)\n"
     ]
    },
    {
     "name": "stderr",
     "output_type": "stream",
     "text": [
      "Epoch 68:  45%|████▌     | 2176/4800.0 [32:52<28:21,  1.54it/s]  "
     ]
    },
    {
     "name": "stdout",
     "output_type": "stream",
     "text": [
      "{'mse_loss': tensor(15.9645, device='cuda:0'), 'base_loss': tensor(15.9645, device='cuda:0'), 'exp_schedule': 0.0, 'reg_schedule': 0.835483870967742}\n",
      "{'mse_loss': tensor(17.6767, device='cuda:0'), 'base_loss': tensor(17.6767, device='cuda:0'), 'exp_schedule': 0.0, 'reg_schedule': 0.835483870967742}\n",
      "Epoch 67:\t Time: 1972.44 \t(per epoch: 29.01)\n"
     ]
    },
    {
     "name": "stderr",
     "output_type": "stream",
     "text": [
      "Epoch 69:  46%|████▌     | 2208/4800.0 [33:20<27:54,  1.55it/s]  "
     ]
    },
    {
     "name": "stdout",
     "output_type": "stream",
     "text": [
      "{'mse_loss': tensor(44.8973, device='cuda:0'), 'base_loss': tensor(44.8973, device='cuda:0'), 'exp_schedule': 0.0, 'reg_schedule': 0.8580645161290322}\n",
      "{'mse_loss': tensor(20.4481, device='cuda:0'), 'base_loss': tensor(20.4481, device='cuda:0'), 'exp_schedule': 0.0, 'reg_schedule': 0.8580645161290322}\n",
      "Epoch 68:\t Time: 2000.40 \t(per epoch: 28.99)\n"
     ]
    },
    {
     "name": "stderr",
     "output_type": "stream",
     "text": [
      "Epoch 70:  47%|████▋     | 2240/4800.0 [33:48<27:33,  1.55it/s]  "
     ]
    },
    {
     "name": "stdout",
     "output_type": "stream",
     "text": [
      "{'mse_loss': tensor(25.2101, device='cuda:0'), 'base_loss': tensor(25.2101, device='cuda:0'), 'exp_schedule': 0.0, 'reg_schedule': 0.8806451612903223}\n",
      "{'mse_loss': tensor(19.7306, device='cuda:0'), 'base_loss': tensor(19.7306, device='cuda:0'), 'exp_schedule': 0.0, 'reg_schedule': 0.8806451612903223}\n",
      "Epoch 69:\t Time: 2028.88 \t(per epoch: 28.98)\n"
     ]
    },
    {
     "name": "stderr",
     "output_type": "stream",
     "text": [
      "Epoch 71:  47%|████▋     | 2272/4800.0 [34:16<27:21,  1.54it/s]  "
     ]
    },
    {
     "name": "stdout",
     "output_type": "stream",
     "text": [
      "{'mse_loss': tensor(44.2188, device='cuda:0'), 'base_loss': tensor(44.2188, device='cuda:0'), 'exp_schedule': 0.0, 'reg_schedule': 0.9032258064516129}\n",
      "{'mse_loss': tensor(33.3855, device='cuda:0'), 'base_loss': tensor(33.3855, device='cuda:0'), 'exp_schedule': 0.0, 'reg_schedule': 0.9032258064516129}\n",
      "Epoch 70:\t Time: 2056.87 \t(per epoch: 28.97)\n"
     ]
    },
    {
     "name": "stderr",
     "output_type": "stream",
     "text": [
      "Epoch 72:  48%|████▊     | 2304/4800.0 [34:44<26:55,  1.54it/s]  "
     ]
    },
    {
     "name": "stdout",
     "output_type": "stream",
     "text": [
      "{'mse_loss': tensor(41.4703, device='cuda:0'), 'base_loss': tensor(41.4703, device='cuda:0'), 'exp_schedule': 0.0, 'reg_schedule': 0.9258064516129034}\n",
      "{'mse_loss': tensor(17.8892, device='cuda:0'), 'base_loss': tensor(17.8892, device='cuda:0'), 'exp_schedule': 0.0, 'reg_schedule': 0.9258064516129034}\n",
      "Epoch 71:\t Time: 2084.87 \t(per epoch: 28.96)\n"
     ]
    },
    {
     "name": "stderr",
     "output_type": "stream",
     "text": [
      "Epoch 73:  49%|████▊     | 2336/4800.0 [35:12<26:36,  1.54it/s]  "
     ]
    },
    {
     "name": "stdout",
     "output_type": "stream",
     "text": [
      "{'mse_loss': tensor(38.9370, device='cuda:0'), 'base_loss': tensor(38.9370, device='cuda:0'), 'exp_schedule': 0.0, 'reg_schedule': 0.9483870967741936}\n",
      "{'mse_loss': tensor(36.5762, device='cuda:0'), 'base_loss': tensor(36.5762, device='cuda:0'), 'exp_schedule': 0.0, 'reg_schedule': 0.9483870967741936}\n",
      "Epoch 72:\t Time: 2112.87 \t(per epoch: 28.94)\n"
     ]
    },
    {
     "name": "stderr",
     "output_type": "stream",
     "text": [
      "Epoch 74:  49%|████▉     | 2368/4800.0 [35:41<26:18,  1.54it/s]  "
     ]
    },
    {
     "name": "stdout",
     "output_type": "stream",
     "text": [
      "{'mse_loss': tensor(26.7757, device='cuda:0'), 'base_loss': tensor(26.7757, device='cuda:0'), 'exp_schedule': 0.0, 'reg_schedule': 0.9709677419354837}\n",
      "{'mse_loss': tensor(20.1047, device='cuda:0'), 'base_loss': tensor(20.1047, device='cuda:0'), 'exp_schedule': 0.0, 'reg_schedule': 0.9709677419354837}\n",
      "Epoch 73:\t Time: 2141.27 \t(per epoch: 28.94)\n"
     ]
    },
    {
     "name": "stderr",
     "output_type": "stream",
     "text": [
      "Epoch 75:  50%|█████     | 2400/4800.0 [36:09<25:51,  1.55it/s]  "
     ]
    },
    {
     "name": "stdout",
     "output_type": "stream",
     "text": [
      "{'mse_loss': tensor(27.4301, device='cuda:0'), 'base_loss': tensor(27.4301, device='cuda:0'), 'exp_schedule': 0.0, 'reg_schedule': 0.9935483870967743}\n",
      "{'mse_loss': tensor(28.8874, device='cuda:0'), 'base_loss': tensor(28.8874, device='cuda:0'), 'exp_schedule': 0.0, 'reg_schedule': 0.9935483870967743}\n",
      "Epoch 74:\t Time: 2169.62 \t(per epoch: 28.93)\n"
     ]
    },
    {
     "name": "stderr",
     "output_type": "stream",
     "text": [
      "Epoch 76:  51%|█████     | 2432/4800.0 [36:38<25:45,  1.53it/s]  "
     ]
    },
    {
     "name": "stdout",
     "output_type": "stream",
     "text": [
      "{'mse_loss': tensor(60.8980, device='cuda:0'), 'base_loss': tensor(60.8980, device='cuda:0'), 'exp_schedule': 0.0, 'reg_schedule': 1.0161290322580645}\n",
      "{'mse_loss': tensor(17.4754, device='cuda:0'), 'base_loss': tensor(17.4754, device='cuda:0'), 'exp_schedule': 0.0, 'reg_schedule': 1.0161290322580645}\n",
      "Epoch 75:\t Time: 2198.00 \t(per epoch: 28.92)\n"
     ]
    },
    {
     "name": "stderr",
     "output_type": "stream",
     "text": [
      "Epoch 77:  51%|█████▏    | 2464/4800.0 [37:06<25:12,  1.54it/s]  "
     ]
    },
    {
     "name": "stdout",
     "output_type": "stream",
     "text": [
      "{'mse_loss': tensor(29.2049, device='cuda:0'), 'base_loss': tensor(29.2049, device='cuda:0'), 'exp_schedule': 0.0, 'reg_schedule': 1.038709677419355}\n",
      "{'mse_loss': tensor(40.6596, device='cuda:0'), 'base_loss': tensor(40.6596, device='cuda:0'), 'exp_schedule': 0.0, 'reg_schedule': 1.038709677419355}\n",
      "Epoch 76:\t Time: 2225.97 \t(per epoch: 28.91)\n"
     ]
    },
    {
     "name": "stderr",
     "output_type": "stream",
     "text": [
      "Epoch 78:  52%|█████▏    | 2496/4800.0 [37:34<24:58,  1.54it/s]  "
     ]
    },
    {
     "name": "stdout",
     "output_type": "stream",
     "text": [
      "{'mse_loss': tensor(30.9298, device='cuda:0'), 'base_loss': tensor(30.9298, device='cuda:0'), 'exp_schedule': 0.0, 'reg_schedule': 1.0612903225806452}\n",
      "{'mse_loss': tensor(24.6100, device='cuda:0'), 'base_loss': tensor(24.6100, device='cuda:0'), 'exp_schedule': 0.0, 'reg_schedule': 1.0612903225806452}\n",
      "Epoch 77:\t Time: 2254.25 \t(per epoch: 28.90)\n"
     ]
    },
    {
     "name": "stderr",
     "output_type": "stream",
     "text": [
      "Epoch 79:  53%|█████▎    | 2528/4800.0 [38:02<24:36,  1.54it/s]  "
     ]
    },
    {
     "name": "stdout",
     "output_type": "stream",
     "text": [
      "{'mse_loss': tensor(37.5953, device='cuda:0'), 'base_loss': tensor(37.5953, device='cuda:0'), 'exp_schedule': 0.0, 'reg_schedule': 1.0838709677419354}\n",
      "{'mse_loss': tensor(30.2744, device='cuda:0'), 'base_loss': tensor(30.2744, device='cuda:0'), 'exp_schedule': 0.0, 'reg_schedule': 1.0838709677419354}\n",
      "Epoch 78:\t Time: 2282.33 \t(per epoch: 28.89)\n"
     ]
    },
    {
     "name": "stderr",
     "output_type": "stream",
     "text": [
      "Epoch 80:  53%|█████▎    | 2560/4800.0 [38:30<24:10,  1.54it/s]  "
     ]
    },
    {
     "name": "stdout",
     "output_type": "stream",
     "text": [
      "{'mse_loss': tensor(34.1790, device='cuda:0'), 'base_loss': tensor(34.1790, device='cuda:0'), 'exp_schedule': 0.0, 'reg_schedule': 1.1064516129032258}\n",
      "{'mse_loss': tensor(29.8350, device='cuda:0'), 'base_loss': tensor(29.8350, device='cuda:0'), 'exp_schedule': 0.0, 'reg_schedule': 1.1064516129032258}\n",
      "Epoch 79:\t Time: 2310.71 \t(per epoch: 28.88)\n"
     ]
    },
    {
     "name": "stderr",
     "output_type": "stream",
     "text": [
      "Epoch 81:  54%|█████▍    | 2592/4800.0 [38:59<23:49,  1.54it/s]  "
     ]
    },
    {
     "name": "stdout",
     "output_type": "stream",
     "text": [
      "{'mse_loss': tensor(45.2067, device='cuda:0'), 'base_loss': tensor(45.2067, device='cuda:0'), 'exp_schedule': 0.0, 'reg_schedule': 1.129032258064516}\n",
      "{'mse_loss': tensor(22.7198, device='cuda:0'), 'base_loss': tensor(22.7198, device='cuda:0'), 'exp_schedule': 0.0, 'reg_schedule': 1.129032258064516}\n",
      "Epoch 80:\t Time: 2339.13 \t(per epoch: 28.88)\n"
     ]
    },
    {
     "name": "stderr",
     "output_type": "stream",
     "text": [
      "Epoch 82:  55%|█████▍    | 2624/4800.0 [39:27<24:09,  1.50it/s]  "
     ]
    },
    {
     "name": "stdout",
     "output_type": "stream",
     "text": [
      "{'mse_loss': tensor(26.0934, device='cuda:0'), 'base_loss': tensor(26.0934, device='cuda:0'), 'exp_schedule': 0.0, 'reg_schedule': 1.1516129032258065}\n",
      "{'mse_loss': tensor(27.4391, device='cuda:0'), 'base_loss': tensor(27.4391, device='cuda:0'), 'exp_schedule': 0.0, 'reg_schedule': 1.1516129032258065}\n",
      "Epoch 81:\t Time: 2367.38 \t(per epoch: 28.87)\n"
     ]
    },
    {
     "name": "stderr",
     "output_type": "stream",
     "text": [
      "Epoch 83:  55%|█████▌    | 2656/4800.0 [39:55<23:09,  1.54it/s]  "
     ]
    },
    {
     "name": "stdout",
     "output_type": "stream",
     "text": [
      "{'mse_loss': tensor(41.7678, device='cuda:0'), 'base_loss': tensor(41.7678, device='cuda:0'), 'exp_schedule': 0.0, 'reg_schedule': 1.1741935483870969}\n",
      "{'mse_loss': tensor(31.0224, device='cuda:0'), 'base_loss': tensor(31.0224, device='cuda:0'), 'exp_schedule': 0.0, 'reg_schedule': 1.1741935483870969}\n",
      "Epoch 82:\t Time: 2395.51 \t(per epoch: 28.86)\n"
     ]
    },
    {
     "name": "stderr",
     "output_type": "stream",
     "text": [
      "Epoch 84:  56%|█████▌    | 2688/4800.0 [40:23<22:58,  1.53it/s]  "
     ]
    },
    {
     "name": "stdout",
     "output_type": "stream",
     "text": [
      "{'mse_loss': tensor(47.7094, device='cuda:0'), 'base_loss': tensor(47.7094, device='cuda:0'), 'exp_schedule': 0.0, 'reg_schedule': 1.1967741935483869}\n",
      "{'mse_loss': tensor(37.4949, device='cuda:0'), 'base_loss': tensor(37.4949, device='cuda:0'), 'exp_schedule': 0.0, 'reg_schedule': 1.1967741935483869}\n",
      "Epoch 83:\t Time: 2423.95 \t(per epoch: 28.86)\n"
     ]
    },
    {
     "name": "stderr",
     "output_type": "stream",
     "text": [
      "Epoch 85:  57%|█████▋    | 2720/4800.0 [40:52<22:37,  1.53it/s]  "
     ]
    },
    {
     "name": "stdout",
     "output_type": "stream",
     "text": [
      "{'mse_loss': tensor(17.7713, device='cuda:0'), 'base_loss': tensor(17.7713, device='cuda:0'), 'exp_schedule': 0.0, 'reg_schedule': 1.2193548387096773}\n",
      "{'mse_loss': tensor(22.5169, device='cuda:0'), 'base_loss': tensor(22.5169, device='cuda:0'), 'exp_schedule': 0.0, 'reg_schedule': 1.2193548387096773}\n",
      "Epoch 84:\t Time: 2452.33 \t(per epoch: 28.85)\n"
     ]
    },
    {
     "name": "stderr",
     "output_type": "stream",
     "text": [
      "Epoch 86:  57%|█████▋    | 2752/4800.0 [41:20<22:08,  1.54it/s]  "
     ]
    },
    {
     "name": "stdout",
     "output_type": "stream",
     "text": [
      "{'mse_loss': tensor(35.9070, device='cuda:0'), 'base_loss': tensor(35.9070, device='cuda:0'), 'exp_schedule': 0.0, 'reg_schedule': 1.241935483870968}\n",
      "{'mse_loss': tensor(16.9003, device='cuda:0'), 'base_loss': tensor(16.9003, device='cuda:0'), 'exp_schedule': 0.0, 'reg_schedule': 1.241935483870968}\n",
      "Epoch 85:\t Time: 2480.81 \t(per epoch: 28.85)\n"
     ]
    },
    {
     "name": "stderr",
     "output_type": "stream",
     "text": [
      "Epoch 87:  58%|█████▊    | 2784/4800.0 [41:48<21:47,  1.54it/s]  "
     ]
    },
    {
     "name": "stdout",
     "output_type": "stream",
     "text": [
      "{'mse_loss': tensor(38.7336, device='cuda:0'), 'base_loss': tensor(38.7336, device='cuda:0'), 'exp_schedule': 0.0, 'reg_schedule': 1.264516129032258}\n",
      "{'mse_loss': tensor(30.0342, device='cuda:0'), 'base_loss': tensor(30.0342, device='cuda:0'), 'exp_schedule': 0.0, 'reg_schedule': 1.264516129032258}\n",
      "Epoch 86:\t Time: 2508.91 \t(per epoch: 28.84)\n"
     ]
    },
    {
     "name": "stderr",
     "output_type": "stream",
     "text": [
      "Epoch 88:  59%|█████▊    | 2816/4800.0 [42:17<21:19,  1.55it/s]  "
     ]
    },
    {
     "name": "stdout",
     "output_type": "stream",
     "text": [
      "{'mse_loss': tensor(44.8876, device='cuda:0'), 'base_loss': tensor(44.8876, device='cuda:0'), 'exp_schedule': 0.0, 'reg_schedule': 1.2870967741935484}\n",
      "{'mse_loss': tensor(39.5364, device='cuda:0'), 'base_loss': tensor(39.5364, device='cuda:0'), 'exp_schedule': 0.0, 'reg_schedule': 1.2870967741935484}\n",
      "Epoch 87:\t Time: 2537.48 \t(per epoch: 28.84)\n"
     ]
    },
    {
     "name": "stderr",
     "output_type": "stream",
     "text": [
      "Epoch 89:  59%|█████▉    | 2848/4800.0 [42:45<21:02,  1.55it/s]  "
     ]
    },
    {
     "name": "stdout",
     "output_type": "stream",
     "text": [
      "{'mse_loss': tensor(34.3999, device='cuda:0'), 'base_loss': tensor(34.3999, device='cuda:0'), 'exp_schedule': 0.0, 'reg_schedule': 1.3096774193548386}\n",
      "{'mse_loss': tensor(28.7550, device='cuda:0'), 'base_loss': tensor(28.7550, device='cuda:0'), 'exp_schedule': 0.0, 'reg_schedule': 1.3096774193548386}\n",
      "Epoch 88:\t Time: 2565.61 \t(per epoch: 28.83)\n"
     ]
    },
    {
     "name": "stderr",
     "output_type": "stream",
     "text": [
      "Epoch 90:  60%|██████    | 2880/4800.0 [43:13<20:42,  1.55it/s]  "
     ]
    },
    {
     "name": "stdout",
     "output_type": "stream",
     "text": [
      "{'mse_loss': tensor(21.2686, device='cuda:0'), 'base_loss': tensor(21.2686, device='cuda:0'), 'exp_schedule': 0.0, 'reg_schedule': 1.3322580645161288}\n",
      "{'mse_loss': tensor(33.0265, device='cuda:0'), 'base_loss': tensor(33.0265, device='cuda:0'), 'exp_schedule': 0.0, 'reg_schedule': 1.3322580645161288}\n",
      "Epoch 89:\t Time: 2593.61 \t(per epoch: 28.82)\n"
     ]
    },
    {
     "name": "stderr",
     "output_type": "stream",
     "text": [
      "Epoch 91:  61%|██████    | 2912/4800.0 [43:41<20:22,  1.54it/s]  "
     ]
    },
    {
     "name": "stdout",
     "output_type": "stream",
     "text": [
      "{'mse_loss': tensor(16.7152, device='cuda:0'), 'base_loss': tensor(16.7152, device='cuda:0'), 'exp_schedule': 0.0, 'reg_schedule': 1.3548387096774195}\n",
      "{'mse_loss': tensor(24.5792, device='cuda:0'), 'base_loss': tensor(24.5792, device='cuda:0'), 'exp_schedule': 0.0, 'reg_schedule': 1.3548387096774195}\n",
      "Epoch 90:\t Time: 2621.67 \t(per epoch: 28.81)\n"
     ]
    },
    {
     "name": "stderr",
     "output_type": "stream",
     "text": [
      "Epoch 92:  61%|██████▏   | 2944/4800.0 [44:09<19:57,  1.55it/s]  "
     ]
    },
    {
     "name": "stdout",
     "output_type": "stream",
     "text": [
      "{'mse_loss': tensor(43.2795, device='cuda:0'), 'base_loss': tensor(43.2795, device='cuda:0'), 'exp_schedule': 0.0, 'reg_schedule': 1.3774193548387097}\n",
      "{'mse_loss': tensor(18.7447, device='cuda:0'), 'base_loss': tensor(18.7447, device='cuda:0'), 'exp_schedule': 0.0, 'reg_schedule': 1.3774193548387097}\n",
      "Epoch 91:\t Time: 2649.92 \t(per epoch: 28.80)\n"
     ]
    },
    {
     "name": "stderr",
     "output_type": "stream",
     "text": [
      "Epoch 93:  62%|██████▏   | 2976/4800.0 [44:38<19:38,  1.55it/s]  "
     ]
    },
    {
     "name": "stdout",
     "output_type": "stream",
     "text": [
      "{'mse_loss': tensor(50.0825, device='cuda:0'), 'base_loss': tensor(50.0825, device='cuda:0'), 'exp_schedule': 0.0, 'reg_schedule': 1.4}\n",
      "{'mse_loss': tensor(22.1680, device='cuda:0'), 'base_loss': tensor(22.1680, device='cuda:0'), 'exp_schedule': 0.0, 'reg_schedule': 1.4}\n",
      "Epoch 92:\t Time: 2678.13 \t(per epoch: 28.80)\n"
     ]
    },
    {
     "name": "stderr",
     "output_type": "stream",
     "text": [
      "Epoch 94:  63%|██████▎   | 3008/4800.0 [45:06<19:27,  1.53it/s]  "
     ]
    },
    {
     "name": "stdout",
     "output_type": "stream",
     "text": [
      "{'mse_loss': tensor(33.9840, device='cuda:0'), 'base_loss': tensor(33.9840, device='cuda:0'), 'exp_schedule': 0.0, 'reg_schedule': 1.4225806451612901}\n",
      "{'mse_loss': tensor(16.6163, device='cuda:0'), 'base_loss': tensor(16.6163, device='cuda:0'), 'exp_schedule': 0.0, 'reg_schedule': 1.4225806451612901}\n",
      "Epoch 93:\t Time: 2706.44 \t(per epoch: 28.79)\n"
     ]
    },
    {
     "name": "stderr",
     "output_type": "stream",
     "text": [
      "Epoch 95:  63%|██████▎   | 3040/4800.0 [45:34<18:58,  1.55it/s]  "
     ]
    },
    {
     "name": "stdout",
     "output_type": "stream",
     "text": [
      "{'mse_loss': tensor(49.7589, device='cuda:0'), 'base_loss': tensor(49.7589, device='cuda:0'), 'exp_schedule': 0.0, 'reg_schedule': 1.4451612903225808}\n",
      "{'mse_loss': tensor(15.8355, device='cuda:0'), 'base_loss': tensor(15.8355, device='cuda:0'), 'exp_schedule': 0.0, 'reg_schedule': 1.4451612903225808}\n",
      "Epoch 94:\t Time: 2734.40 \t(per epoch: 28.78)\n"
     ]
    },
    {
     "name": "stderr",
     "output_type": "stream",
     "text": [
      "Epoch 96:  64%|██████▍   | 3072/4800.0 [46:02<18:40,  1.54it/s]  "
     ]
    },
    {
     "name": "stdout",
     "output_type": "stream",
     "text": [
      "{'mse_loss': tensor(35.8282, device='cuda:0'), 'base_loss': tensor(35.8282, device='cuda:0'), 'exp_schedule': 0.0, 'reg_schedule': 1.467741935483871}\n",
      "{'mse_loss': tensor(36.4473, device='cuda:0'), 'base_loss': tensor(36.4473, device='cuda:0'), 'exp_schedule': 0.0, 'reg_schedule': 1.467741935483871}\n",
      "Epoch 95:\t Time: 2762.44 \t(per epoch: 28.78)\n"
     ]
    },
    {
     "name": "stderr",
     "output_type": "stream",
     "text": [
      "Epoch 97:  65%|██████▍   | 3104/4800.0 [46:30<18:18,  1.54it/s]  "
     ]
    },
    {
     "name": "stdout",
     "output_type": "stream",
     "text": [
      "{'mse_loss': tensor(36.0494, device='cuda:0'), 'base_loss': tensor(36.0494, device='cuda:0'), 'exp_schedule': 0.0, 'reg_schedule': 1.4903225806451612}\n",
      "{'mse_loss': tensor(20.6188, device='cuda:0'), 'base_loss': tensor(20.6188, device='cuda:0'), 'exp_schedule': 0.0, 'reg_schedule': 1.4903225806451612}\n",
      "Epoch 96:\t Time: 2790.50 \t(per epoch: 28.77)\n"
     ]
    },
    {
     "name": "stderr",
     "output_type": "stream",
     "text": [
      "Epoch 98:  65%|██████▌   | 3136/4800.0 [46:59<18:10,  1.53it/s]  "
     ]
    },
    {
     "name": "stdout",
     "output_type": "stream",
     "text": [
      "{'mse_loss': tensor(39.8993, device='cuda:0'), 'base_loss': tensor(39.8993, device='cuda:0'), 'exp_schedule': 0.0, 'reg_schedule': 1.5129032258064514}\n",
      "{'mse_loss': tensor(20.1546, device='cuda:0'), 'base_loss': tensor(20.1546, device='cuda:0'), 'exp_schedule': 0.0, 'reg_schedule': 1.5129032258064514}\n",
      "Epoch 97:\t Time: 2819.06 \t(per epoch: 28.77)\n"
     ]
    },
    {
     "name": "stderr",
     "output_type": "stream",
     "text": [
      "Epoch 99:  66%|██████▌   | 3168/4800.0 [47:27<17:35,  1.55it/s]  "
     ]
    },
    {
     "name": "stdout",
     "output_type": "stream",
     "text": [
      "{'mse_loss': tensor(25.6321, device='cuda:0'), 'base_loss': tensor(25.6321, device='cuda:0'), 'exp_schedule': 0.0, 'reg_schedule': 1.5354838709677416}\n",
      "{'mse_loss': tensor(15.8410, device='cuda:0'), 'base_loss': tensor(15.8410, device='cuda:0'), 'exp_schedule': 0.0, 'reg_schedule': 1.5354838709677416}\n",
      "Epoch 98:\t Time: 2847.15 \t(per epoch: 28.76)\n"
     ]
    },
    {
     "name": "stderr",
     "output_type": "stream",
     "text": [
      "Epoch 100:  67%|██████▋   | 3200/4800.0 [47:55<17:12,  1.55it/s] "
     ]
    },
    {
     "name": "stdout",
     "output_type": "stream",
     "text": [
      "{'mse_loss': tensor(44.8569, device='cuda:0'), 'base_loss': tensor(44.8569, device='cuda:0'), 'exp_schedule': 0.0, 'reg_schedule': 1.5580645161290325}\n",
      "{'mse_loss': tensor(30.4673, device='cuda:0'), 'base_loss': tensor(30.4673, device='cuda:0'), 'exp_schedule': 0.0, 'reg_schedule': 1.5580645161290325}\n",
      "Epoch 99:\t Time: 2875.18 \t(per epoch: 28.75)\n"
     ]
    },
    {
     "name": "stderr",
     "output_type": "stream",
     "text": [
      "Epoch 101:  67%|██████▋   | 3232/4800.0 [48:23<17:03,  1.53it/s]  "
     ]
    },
    {
     "name": "stdout",
     "output_type": "stream",
     "text": [
      "{'mse_loss': tensor(50.3063, device='cuda:0'), 'base_loss': tensor(50.3063, device='cuda:0'), 'exp_schedule': 0.0, 'reg_schedule': 1.5806451612903225}\n",
      "{'mse_loss': tensor(17.1767, device='cuda:0'), 'base_loss': tensor(17.1767, device='cuda:0'), 'exp_schedule': 0.0, 'reg_schedule': 1.5806451612903225}\n",
      "Epoch 100:\t Time: 2903.46 \t(per epoch: 28.75)\n"
     ]
    },
    {
     "name": "stderr",
     "output_type": "stream",
     "text": [
      "Epoch 102:  68%|██████▊   | 3264/4800.0 [48:51<16:36,  1.54it/s]  "
     ]
    },
    {
     "name": "stdout",
     "output_type": "stream",
     "text": [
      "{'mse_loss': tensor(25.8372, device='cuda:0'), 'base_loss': tensor(25.8372, device='cuda:0'), 'exp_schedule': 0.0, 'reg_schedule': 1.603225806451613}\n",
      "{'mse_loss': tensor(23.8127, device='cuda:0'), 'base_loss': tensor(23.8127, device='cuda:0'), 'exp_schedule': 0.0, 'reg_schedule': 1.603225806451613}\n",
      "Epoch 101:\t Time: 2931.55 \t(per epoch: 28.74)\n"
     ]
    },
    {
     "name": "stderr",
     "output_type": "stream",
     "text": [
      "Epoch 103:  69%|██████▊   | 3296/4800.0 [49:19<16:17,  1.54it/s]  "
     ]
    },
    {
     "name": "stdout",
     "output_type": "stream",
     "text": [
      "{'mse_loss': tensor(28.8854, device='cuda:0'), 'base_loss': tensor(28.8854, device='cuda:0'), 'exp_schedule': 0.0, 'reg_schedule': 1.6258064516129032}\n",
      "{'mse_loss': tensor(24.8918, device='cuda:0'), 'base_loss': tensor(24.8918, device='cuda:0'), 'exp_schedule': 0.0, 'reg_schedule': 1.6258064516129032}\n",
      "Epoch 102:\t Time: 2959.58 \t(per epoch: 28.73)\n"
     ]
    },
    {
     "name": "stderr",
     "output_type": "stream",
     "text": [
      "Epoch 104:  69%|██████▉   | 3328/4800.0 [49:47<15:57,  1.54it/s]  "
     ]
    },
    {
     "name": "stdout",
     "output_type": "stream",
     "text": [
      "{'mse_loss': tensor(38.7339, device='cuda:0'), 'base_loss': tensor(38.7339, device='cuda:0'), 'exp_schedule': 0.0, 'reg_schedule': 1.6483870967741932}\n",
      "{'mse_loss': tensor(29.4115, device='cuda:0'), 'base_loss': tensor(29.4115, device='cuda:0'), 'exp_schedule': 0.0, 'reg_schedule': 1.6483870967741932}\n",
      "Epoch 103:\t Time: 2987.83 \t(per epoch: 28.73)\n"
     ]
    },
    {
     "name": "stderr",
     "output_type": "stream",
     "text": [
      "Epoch 105:  70%|███████   | 3360/4800.0 [50:15<15:34,  1.54it/s]"
     ]
    },
    {
     "name": "stdout",
     "output_type": "stream",
     "text": [
      "{'mse_loss': tensor(42.4949, device='cuda:0'), 'base_loss': tensor(42.4949, device='cuda:0'), 'exp_schedule': 0.0, 'reg_schedule': 1.670967741935484}\n",
      "{'mse_loss': tensor(20.4542, device='cuda:0'), 'base_loss': tensor(20.4542, device='cuda:0'), 'exp_schedule': 0.0, 'reg_schedule': 1.670967741935484}\n",
      "Epoch 104:\t Time: 3015.88 \t(per epoch: 28.72)\n"
     ]
    },
    {
     "name": "stderr",
     "output_type": "stream",
     "text": [
      "Epoch 106:  71%|███████   | 3392/4800.0 [50:43<15:10,  1.55it/s]"
     ]
    },
    {
     "name": "stdout",
     "output_type": "stream",
     "text": [
      "{'mse_loss': tensor(26.4522, device='cuda:0'), 'base_loss': tensor(26.4522, device='cuda:0'), 'exp_schedule': 0.0, 'reg_schedule': 1.6935483870967742}\n",
      "{'mse_loss': tensor(19.5460, device='cuda:0'), 'base_loss': tensor(19.5460, device='cuda:0'), 'exp_schedule': 0.0, 'reg_schedule': 1.6935483870967742}\n",
      "Epoch 105:\t Time: 3043.97 \t(per epoch: 28.72)\n"
     ]
    },
    {
     "name": "stderr",
     "output_type": "stream",
     "text": [
      "Epoch 107:  71%|███████▏  | 3424/4800.0 [51:12<14:48,  1.55it/s]"
     ]
    },
    {
     "name": "stdout",
     "output_type": "stream",
     "text": [
      "{'mse_loss': tensor(28.5121, device='cuda:0'), 'base_loss': tensor(28.5121, device='cuda:0'), 'exp_schedule': 0.0, 'reg_schedule': 1.7161290322580645}\n",
      "{'mse_loss': tensor(17.9459, device='cuda:0'), 'base_loss': tensor(17.9459, device='cuda:0'), 'exp_schedule': 0.0, 'reg_schedule': 1.7161290322580645}\n",
      "Epoch 106:\t Time: 3072.08 \t(per epoch: 28.71)\n"
     ]
    },
    {
     "name": "stderr",
     "output_type": "stream",
     "text": [
      "Epoch 108:  72%|███████▏  | 3456/4800.0 [51:40<14:30,  1.54it/s]"
     ]
    },
    {
     "name": "stdout",
     "output_type": "stream",
     "text": [
      "{'mse_loss': tensor(23.4060, device='cuda:0'), 'base_loss': tensor(23.4060, device='cuda:0'), 'exp_schedule': 0.0, 'reg_schedule': 1.7387096774193547}\n",
      "{'mse_loss': tensor(17.2918, device='cuda:0'), 'base_loss': tensor(17.2918, device='cuda:0'), 'exp_schedule': 0.0, 'reg_schedule': 1.7387096774193547}\n",
      "Epoch 107:\t Time: 3100.21 \t(per epoch: 28.71)\n"
     ]
    },
    {
     "name": "stderr",
     "output_type": "stream",
     "text": [
      "Epoch 109:  73%|███████▎  | 3488/4800.0 [52:08<14:06,  1.55it/s]"
     ]
    },
    {
     "name": "stdout",
     "output_type": "stream",
     "text": [
      "{'mse_loss': tensor(25.2579, device='cuda:0'), 'base_loss': tensor(25.2579, device='cuda:0'), 'exp_schedule': 0.0, 'reg_schedule': 1.7612903225806447}\n",
      "{'mse_loss': tensor(23.9495, device='cuda:0'), 'base_loss': tensor(23.9495, device='cuda:0'), 'exp_schedule': 0.0, 'reg_schedule': 1.7612903225806447}\n",
      "Epoch 108:\t Time: 3128.80 \t(per epoch: 28.70)\n"
     ]
    },
    {
     "name": "stderr",
     "output_type": "stream",
     "text": [
      "Epoch 110:  73%|███████▎  | 3520/4800.0 [52:37<13:54,  1.53it/s]"
     ]
    },
    {
     "name": "stdout",
     "output_type": "stream",
     "text": [
      "{'mse_loss': tensor(26.2312, device='cuda:0'), 'base_loss': tensor(26.2312, device='cuda:0'), 'exp_schedule': 0.0, 'reg_schedule': 1.7838709677419355}\n",
      "{'mse_loss': tensor(24.0461, device='cuda:0'), 'base_loss': tensor(24.0461, device='cuda:0'), 'exp_schedule': 0.0, 'reg_schedule': 1.7838709677419355}\n",
      "Epoch 109:\t Time: 3157.11 \t(per epoch: 28.70)\n"
     ]
    },
    {
     "name": "stderr",
     "output_type": "stream",
     "text": [
      "Epoch 111:  74%|███████▍  | 3552/4800.0 [53:04<13:26,  1.55it/s]"
     ]
    },
    {
     "name": "stdout",
     "output_type": "stream",
     "text": [
      "{'mse_loss': tensor(38.1559, device='cuda:0'), 'base_loss': tensor(38.1559, device='cuda:0'), 'exp_schedule': 0.0, 'reg_schedule': 1.8064516129032258}\n",
      "{'mse_loss': tensor(33.6436, device='cuda:0'), 'base_loss': tensor(33.6436, device='cuda:0'), 'exp_schedule': 0.0, 'reg_schedule': 1.8064516129032258}\n",
      "Epoch 110:\t Time: 3184.91 \t(per epoch: 28.69)\n"
     ]
    },
    {
     "name": "stderr",
     "output_type": "stream",
     "text": [
      "Epoch 112:  75%|███████▍  | 3584/4800.0 [53:33<13:07,  1.54it/s]"
     ]
    },
    {
     "name": "stdout",
     "output_type": "stream",
     "text": [
      "{'mse_loss': tensor(39.3566, device='cuda:0'), 'base_loss': tensor(39.3566, device='cuda:0'), 'exp_schedule': 0.0, 'reg_schedule': 1.829032258064516}\n",
      "{'mse_loss': tensor(27.2104, device='cuda:0'), 'base_loss': tensor(27.2104, device='cuda:0'), 'exp_schedule': 0.0, 'reg_schedule': 1.829032258064516}\n",
      "Epoch 111:\t Time: 3213.16 \t(per epoch: 28.69)\n"
     ]
    },
    {
     "name": "stderr",
     "output_type": "stream",
     "text": [
      "Epoch 113:  75%|███████▌  | 3616/4800.0 [54:01<12:47,  1.54it/s]"
     ]
    },
    {
     "name": "stdout",
     "output_type": "stream",
     "text": [
      "{'mse_loss': tensor(33.5647, device='cuda:0'), 'base_loss': tensor(33.5647, device='cuda:0'), 'exp_schedule': 0.0, 'reg_schedule': 1.8516129032258068}\n",
      "{'mse_loss': tensor(17.2705, device='cuda:0'), 'base_loss': tensor(17.2705, device='cuda:0'), 'exp_schedule': 0.0, 'reg_schedule': 1.8516129032258068}\n",
      "Epoch 112:\t Time: 3241.25 \t(per epoch: 28.68)\n"
     ]
    },
    {
     "name": "stderr",
     "output_type": "stream",
     "text": [
      "Epoch 114:  76%|███████▌  | 3648/4800.0 [54:29<12:25,  1.55it/s]"
     ]
    },
    {
     "name": "stdout",
     "output_type": "stream",
     "text": [
      "{'mse_loss': tensor(32.7899, device='cuda:0'), 'base_loss': tensor(32.7899, device='cuda:0'), 'exp_schedule': 0.0, 'reg_schedule': 1.874193548387097}\n",
      "{'mse_loss': tensor(33.1916, device='cuda:0'), 'base_loss': tensor(33.1916, device='cuda:0'), 'exp_schedule': 0.0, 'reg_schedule': 1.874193548387097}\n",
      "Epoch 113:\t Time: 3269.46 \t(per epoch: 28.68)\n"
     ]
    },
    {
     "name": "stderr",
     "output_type": "stream",
     "text": [
      "Epoch 115:  77%|███████▋  | 3680/4800.0 [54:57<12:08,  1.54it/s]"
     ]
    },
    {
     "name": "stdout",
     "output_type": "stream",
     "text": [
      "{'mse_loss': tensor(43.8191, device='cuda:0'), 'base_loss': tensor(43.8191, device='cuda:0'), 'exp_schedule': 0.0, 'reg_schedule': 1.8967741935483873}\n",
      "{'mse_loss': tensor(30.8661, device='cuda:0'), 'base_loss': tensor(30.8661, device='cuda:0'), 'exp_schedule': 0.0, 'reg_schedule': 1.8967741935483873}\n",
      "Epoch 114:\t Time: 3297.68 \t(per epoch: 28.68)\n"
     ]
    },
    {
     "name": "stderr",
     "output_type": "stream",
     "text": [
      "Epoch 116:  77%|███████▋  | 3712/4800.0 [55:25<11:46,  1.54it/s]"
     ]
    },
    {
     "name": "stdout",
     "output_type": "stream",
     "text": [
      "{'mse_loss': tensor(32.4758, device='cuda:0'), 'base_loss': tensor(32.4758, device='cuda:0'), 'exp_schedule': 0.0, 'reg_schedule': 1.9193548387096773}\n",
      "{'mse_loss': tensor(23.4284, device='cuda:0'), 'base_loss': tensor(23.4284, device='cuda:0'), 'exp_schedule': 0.0, 'reg_schedule': 1.9193548387096773}\n",
      "Epoch 115:\t Time: 3325.62 \t(per epoch: 28.67)\n"
     ]
    },
    {
     "name": "stderr",
     "output_type": "stream",
     "text": [
      "Epoch 117:  78%|███████▊  | 3744/4800.0 [55:53<11:23,  1.54it/s]"
     ]
    },
    {
     "name": "stdout",
     "output_type": "stream",
     "text": [
      "{'mse_loss': tensor(44.3804, device='cuda:0'), 'base_loss': tensor(44.3804, device='cuda:0'), 'exp_schedule': 0.0, 'reg_schedule': 1.9419354838709675}\n",
      "{'mse_loss': tensor(27.6520, device='cuda:0'), 'base_loss': tensor(27.6520, device='cuda:0'), 'exp_schedule': 0.0, 'reg_schedule': 1.9419354838709675}\n",
      "Epoch 116:\t Time: 3353.49 \t(per epoch: 28.66)\n"
     ]
    },
    {
     "name": "stderr",
     "output_type": "stream",
     "text": [
      "Epoch 118:  79%|███████▊  | 3776/4800.0 [56:21<11:02,  1.55it/s]"
     ]
    },
    {
     "name": "stdout",
     "output_type": "stream",
     "text": [
      "{'mse_loss': tensor(35.0032, device='cuda:0'), 'base_loss': tensor(35.0032, device='cuda:0'), 'exp_schedule': 0.0, 'reg_schedule': 1.9645161290322584}\n",
      "{'mse_loss': tensor(28.3679, device='cuda:0'), 'base_loss': tensor(28.3679, device='cuda:0'), 'exp_schedule': 0.0, 'reg_schedule': 1.9645161290322584}\n",
      "Epoch 117:\t Time: 3381.80 \t(per epoch: 28.66)\n"
     ]
    },
    {
     "name": "stderr",
     "output_type": "stream",
     "text": [
      "Epoch 119:  79%|███████▉  | 3808/4800.0 [56:49<10:41,  1.55it/s]"
     ]
    },
    {
     "name": "stdout",
     "output_type": "stream",
     "text": [
      "{'mse_loss': tensor(33.4487, device='cuda:0'), 'base_loss': tensor(33.4487, device='cuda:0'), 'exp_schedule': 0.0, 'reg_schedule': 1.9870967741935486}\n",
      "{'mse_loss': tensor(22.4851, device='cuda:0'), 'base_loss': tensor(22.4851, device='cuda:0'), 'exp_schedule': 0.0, 'reg_schedule': 1.9870967741935486}\n",
      "Epoch 118:\t Time: 3409.87 \t(per epoch: 28.65)\n"
     ]
    },
    {
     "name": "stderr",
     "output_type": "stream",
     "text": [
      "Epoch 120:  80%|████████  | 3840/4800.0 [57:18<10:20,  1.55it/s]"
     ]
    },
    {
     "name": "stdout",
     "output_type": "stream",
     "text": [
      "{'mse_loss': tensor(34.4461, device='cuda:0'), 'base_loss': tensor(34.4461, device='cuda:0'), 'exp_schedule': 0.0, 'reg_schedule': 2.009677419354839}\n",
      "{'mse_loss': tensor(33.2584, device='cuda:0'), 'base_loss': tensor(33.2584, device='cuda:0'), 'exp_schedule': 0.0, 'reg_schedule': 2.009677419354839}\n",
      "Epoch 119:\t Time: 3438.52 \t(per epoch: 28.65)\n"
     ]
    },
    {
     "name": "stderr",
     "output_type": "stream",
     "text": [
      "Epoch 121:  81%|████████  | 3872/4800.0 [57:47<10:02,  1.54it/s]"
     ]
    },
    {
     "name": "stdout",
     "output_type": "stream",
     "text": [
      "{'mse_loss': tensor(30.0006, device='cuda:0'), 'base_loss': tensor(30.0006, device='cuda:0'), 'exp_schedule': 0.0, 'reg_schedule': 2.032258064516129}\n",
      "{'mse_loss': tensor(20.0721, device='cuda:0'), 'base_loss': tensor(20.0721, device='cuda:0'), 'exp_schedule': 0.0, 'reg_schedule': 2.032258064516129}\n",
      "Epoch 120:\t Time: 3467.01 \t(per epoch: 28.65)\n"
     ]
    },
    {
     "name": "stderr",
     "output_type": "stream",
     "text": [
      "Epoch 122:  81%|████████▏ | 3904/4800.0 [58:15<09:38,  1.55it/s]"
     ]
    },
    {
     "name": "stdout",
     "output_type": "stream",
     "text": [
      "{'mse_loss': tensor(37.5235, device='cuda:0'), 'base_loss': tensor(37.5235, device='cuda:0'), 'exp_schedule': 0.0, 'reg_schedule': 2.054838709677419}\n",
      "{'mse_loss': tensor(25.6202, device='cuda:0'), 'base_loss': tensor(25.6202, device='cuda:0'), 'exp_schedule': 0.0, 'reg_schedule': 2.054838709677419}\n",
      "Epoch 121:\t Time: 3495.44 \t(per epoch: 28.65)\n"
     ]
    },
    {
     "name": "stderr",
     "output_type": "stream",
     "text": [
      "Epoch 123:  82%|████████▏ | 3936/4800.0 [58:43<09:19,  1.54it/s]"
     ]
    },
    {
     "name": "stdout",
     "output_type": "stream",
     "text": [
      "{'mse_loss': tensor(40.7004, device='cuda:0'), 'base_loss': tensor(40.7004, device='cuda:0'), 'exp_schedule': 0.0, 'reg_schedule': 2.07741935483871}\n",
      "{'mse_loss': tensor(15.5916, device='cuda:0'), 'base_loss': tensor(15.5916, device='cuda:0'), 'exp_schedule': 0.0, 'reg_schedule': 2.07741935483871}\n",
      "Epoch 122:\t Time: 3523.51 \t(per epoch: 28.65)\n"
     ]
    },
    {
     "name": "stderr",
     "output_type": "stream",
     "text": [
      "Epoch 124:  83%|████████▎ | 3968/4800.0 [59:11<08:56,  1.55it/s]"
     ]
    },
    {
     "name": "stdout",
     "output_type": "stream",
     "text": [
      "{'mse_loss': tensor(24.0309, device='cuda:0'), 'base_loss': tensor(24.0309, device='cuda:0'), 'exp_schedule': 0.0, 'reg_schedule': 2.1}\n",
      "{'mse_loss': tensor(15.8398, device='cuda:0'), 'base_loss': tensor(15.8398, device='cuda:0'), 'exp_schedule': 0.0, 'reg_schedule': 2.1}\n",
      "Epoch 123:\t Time: 3551.39 \t(per epoch: 28.64)\n"
     ]
    },
    {
     "name": "stderr",
     "output_type": "stream",
     "text": [
      "Epoch 125:  83%|████████▎ | 4000/4800.0 [59:39<08:36,  1.55it/s]"
     ]
    },
    {
     "name": "stdout",
     "output_type": "stream",
     "text": [
      "{'mse_loss': tensor(27.9756, device='cuda:0'), 'base_loss': tensor(27.9756, device='cuda:0'), 'exp_schedule': 0.0, 'reg_schedule': 2.1225806451612903}\n",
      "{'mse_loss': tensor(21.6783, device='cuda:0'), 'base_loss': tensor(21.6783, device='cuda:0'), 'exp_schedule': 0.0, 'reg_schedule': 2.1225806451612903}\n",
      "Epoch 124:\t Time: 3579.25 \t(per epoch: 28.63)\n"
     ]
    },
    {
     "name": "stderr",
     "output_type": "stream",
     "text": [
      "Epoch 126:  84%|████████▍ | 4032/4800.0 [1:00:07<08:17,  1.54it/s]"
     ]
    },
    {
     "name": "stdout",
     "output_type": "stream",
     "text": [
      "{'mse_loss': tensor(37.3002, device='cuda:0'), 'base_loss': tensor(37.3002, device='cuda:0'), 'exp_schedule': 0.0, 'reg_schedule': 2.1451612903225805}\n",
      "{'mse_loss': tensor(19.7021, device='cuda:0'), 'base_loss': tensor(19.7021, device='cuda:0'), 'exp_schedule': 0.0, 'reg_schedule': 2.1451612903225805}\n",
      "Epoch 125:\t Time: 3607.50 \t(per epoch: 28.63)\n"
     ]
    },
    {
     "name": "stderr",
     "output_type": "stream",
     "text": [
      "Epoch 127:  85%|████████▍ | 4064/4800.0 [1:00:35<07:57,  1.54it/s]"
     ]
    },
    {
     "name": "stdout",
     "output_type": "stream",
     "text": [
      "{'mse_loss': tensor(32.0482, device='cuda:0'), 'base_loss': tensor(32.0482, device='cuda:0'), 'exp_schedule': 0.0, 'reg_schedule': 2.1677419354838707}\n",
      "{'mse_loss': tensor(19.9609, device='cuda:0'), 'base_loss': tensor(19.9609, device='cuda:0'), 'exp_schedule': 0.0, 'reg_schedule': 2.1677419354838707}\n",
      "Epoch 126:\t Time: 3635.49 \t(per epoch: 28.63)\n"
     ]
    },
    {
     "name": "stderr",
     "output_type": "stream",
     "text": [
      "Epoch 128:  85%|████████▌ | 4096/4800.0 [1:01:03<07:35,  1.54it/s]"
     ]
    },
    {
     "name": "stdout",
     "output_type": "stream",
     "text": [
      "{'mse_loss': tensor(37.2248, device='cuda:0'), 'base_loss': tensor(37.2248, device='cuda:0'), 'exp_schedule': 0.0, 'reg_schedule': 2.1903225806451614}\n",
      "{'mse_loss': tensor(22.5526, device='cuda:0'), 'base_loss': tensor(22.5526, device='cuda:0'), 'exp_schedule': 0.0, 'reg_schedule': 2.1903225806451614}\n",
      "Epoch 127:\t Time: 3663.55 \t(per epoch: 28.62)\n"
     ]
    },
    {
     "name": "stderr",
     "output_type": "stream",
     "text": [
      "Epoch 129:  86%|████████▌ | 4128/4800.0 [1:01:31<07:14,  1.55it/s]"
     ]
    },
    {
     "name": "stdout",
     "output_type": "stream",
     "text": [
      "{'mse_loss': tensor(31.1974, device='cuda:0'), 'base_loss': tensor(31.1974, device='cuda:0'), 'exp_schedule': 0.0, 'reg_schedule': 2.2129032258064516}\n",
      "{'mse_loss': tensor(29.7457, device='cuda:0'), 'base_loss': tensor(29.7457, device='cuda:0'), 'exp_schedule': 0.0, 'reg_schedule': 2.2129032258064516}\n",
      "Epoch 128:\t Time: 3691.52 \t(per epoch: 28.62)\n"
     ]
    },
    {
     "name": "stderr",
     "output_type": "stream",
     "text": [
      "Epoch 130:  87%|████████▋ | 4160/4800.0 [1:01:59<06:59,  1.53it/s]"
     ]
    },
    {
     "name": "stdout",
     "output_type": "stream",
     "text": [
      "{'mse_loss': tensor(17.3972, device='cuda:0'), 'base_loss': tensor(17.3972, device='cuda:0'), 'exp_schedule': 0.0, 'reg_schedule': 2.235483870967742}\n",
      "{'mse_loss': tensor(28.5098, device='cuda:0'), 'base_loss': tensor(28.5098, device='cuda:0'), 'exp_schedule': 0.0, 'reg_schedule': 2.235483870967742}\n",
      "Epoch 129:\t Time: 3719.94 \t(per epoch: 28.61)\n"
     ]
    },
    {
     "name": "stderr",
     "output_type": "stream",
     "text": [
      "Epoch 131:  87%|████████▋ | 4192/4800.0 [1:02:27<06:32,  1.55it/s]"
     ]
    },
    {
     "name": "stdout",
     "output_type": "stream",
     "text": [
      "{'mse_loss': tensor(26.6233, device='cuda:0'), 'base_loss': tensor(26.6233, device='cuda:0'), 'exp_schedule': 0.0, 'reg_schedule': 2.258064516129032}\n",
      "{'mse_loss': tensor(18.9355, device='cuda:0'), 'base_loss': tensor(18.9355, device='cuda:0'), 'exp_schedule': 0.0, 'reg_schedule': 2.258064516129032}\n",
      "Epoch 130:\t Time: 3747.97 \t(per epoch: 28.61)\n"
     ]
    },
    {
     "name": "stderr",
     "output_type": "stream",
     "text": [
      "Epoch 132:  88%|████████▊ | 4224/4800.0 [1:02:56<06:13,  1.54it/s]"
     ]
    },
    {
     "name": "stdout",
     "output_type": "stream",
     "text": [
      "{'mse_loss': tensor(29.5691, device='cuda:0'), 'base_loss': tensor(29.5691, device='cuda:0'), 'exp_schedule': 0.0, 'reg_schedule': 2.2806451612903222}\n",
      "{'mse_loss': tensor(24.4677, device='cuda:0'), 'base_loss': tensor(24.4677, device='cuda:0'), 'exp_schedule': 0.0, 'reg_schedule': 2.2806451612903222}\n",
      "Epoch 131:\t Time: 3776.22 \t(per epoch: 28.61)\n"
     ]
    },
    {
     "name": "stderr",
     "output_type": "stream",
     "text": [
      "Epoch 133:  89%|████████▊ | 4256/4800.0 [1:03:24<05:52,  1.55it/s]"
     ]
    },
    {
     "name": "stdout",
     "output_type": "stream",
     "text": [
      "{'mse_loss': tensor(19.4947, device='cuda:0'), 'base_loss': tensor(19.4947, device='cuda:0'), 'exp_schedule': 0.0, 'reg_schedule': 2.303225806451613}\n",
      "{'mse_loss': tensor(26.4097, device='cuda:0'), 'base_loss': tensor(26.4097, device='cuda:0'), 'exp_schedule': 0.0, 'reg_schedule': 2.303225806451613}\n",
      "Epoch 132:\t Time: 3804.34 \t(per epoch: 28.60)\n"
     ]
    },
    {
     "name": "stderr",
     "output_type": "stream",
     "text": [
      "Epoch 134:  89%|████████▉ | 4288/4800.0 [1:03:52<05:31,  1.55it/s]"
     ]
    },
    {
     "name": "stdout",
     "output_type": "stream",
     "text": [
      "{'mse_loss': tensor(38.5484, device='cuda:0'), 'base_loss': tensor(38.5484, device='cuda:0'), 'exp_schedule': 0.0, 'reg_schedule': 2.3258064516129036}\n",
      "{'mse_loss': tensor(15.5854, device='cuda:0'), 'base_loss': tensor(15.5854, device='cuda:0'), 'exp_schedule': 0.0, 'reg_schedule': 2.3258064516129036}\n",
      "Epoch 133:\t Time: 3832.45 \t(per epoch: 28.60)\n"
     ]
    },
    {
     "name": "stderr",
     "output_type": "stream",
     "text": [
      "Epoch 135:  90%|█████████ | 4320/4800.0 [1:04:20<05:10,  1.55it/s]"
     ]
    },
    {
     "name": "stdout",
     "output_type": "stream",
     "text": [
      "{'mse_loss': tensor(21.3559, device='cuda:0'), 'base_loss': tensor(21.3559, device='cuda:0'), 'exp_schedule': 0.0, 'reg_schedule': 2.3483870967741938}\n",
      "{'mse_loss': tensor(29.6303, device='cuda:0'), 'base_loss': tensor(29.6303, device='cuda:0'), 'exp_schedule': 0.0, 'reg_schedule': 2.3483870967741938}\n",
      "Epoch 134:\t Time: 3860.41 \t(per epoch: 28.60)\n"
     ]
    },
    {
     "name": "stderr",
     "output_type": "stream",
     "text": [
      "Epoch 136:  91%|█████████ | 4352/4800.0 [1:04:48<04:51,  1.54it/s]"
     ]
    },
    {
     "name": "stdout",
     "output_type": "stream",
     "text": [
      "{'mse_loss': tensor(34.5631, device='cuda:0'), 'base_loss': tensor(34.5631, device='cuda:0'), 'exp_schedule': 0.0, 'reg_schedule': 2.370967741935484}\n",
      "{'mse_loss': tensor(25.1954, device='cuda:0'), 'base_loss': tensor(25.1954, device='cuda:0'), 'exp_schedule': 0.0, 'reg_schedule': 2.370967741935484}\n",
      "Epoch 135:\t Time: 3888.47 \t(per epoch: 28.59)\n"
     ]
    },
    {
     "name": "stderr",
     "output_type": "stream",
     "text": [
      "Epoch 137:  91%|█████████▏| 4384/4800.0 [1:05:16<04:29,  1.54it/s]"
     ]
    },
    {
     "name": "stdout",
     "output_type": "stream",
     "text": [
      "{'mse_loss': tensor(42.7776, device='cuda:0'), 'base_loss': tensor(42.7776, device='cuda:0'), 'exp_schedule': 0.0, 'reg_schedule': 2.3935483870967738}\n",
      "{'mse_loss': tensor(33.2708, device='cuda:0'), 'base_loss': tensor(33.2708, device='cuda:0'), 'exp_schedule': 0.0, 'reg_schedule': 2.3935483870967738}\n",
      "Epoch 136:\t Time: 3916.62 \t(per epoch: 28.59)\n"
     ]
    },
    {
     "name": "stderr",
     "output_type": "stream",
     "text": [
      "Epoch 138:  92%|█████████▏| 4416/4800.0 [1:05:44<04:09,  1.54it/s]"
     ]
    },
    {
     "name": "stdout",
     "output_type": "stream",
     "text": [
      "{'mse_loss': tensor(23.1552, device='cuda:0'), 'base_loss': tensor(23.1552, device='cuda:0'), 'exp_schedule': 0.0, 'reg_schedule': 2.4161290322580644}\n",
      "{'mse_loss': tensor(18.2972, device='cuda:0'), 'base_loss': tensor(18.2972, device='cuda:0'), 'exp_schedule': 0.0, 'reg_schedule': 2.4161290322580644}\n",
      "Epoch 137:\t Time: 3944.88 \t(per epoch: 28.59)\n"
     ]
    },
    {
     "name": "stderr",
     "output_type": "stream",
     "text": [
      "Epoch 139:  93%|█████████▎| 4448/4800.0 [1:06:12<03:46,  1.55it/s]"
     ]
    },
    {
     "name": "stdout",
     "output_type": "stream",
     "text": [
      "{'mse_loss': tensor(39.1793, device='cuda:0'), 'base_loss': tensor(39.1793, device='cuda:0'), 'exp_schedule': 0.0, 'reg_schedule': 2.4387096774193546}\n",
      "{'mse_loss': tensor(19.9375, device='cuda:0'), 'base_loss': tensor(19.9375, device='cuda:0'), 'exp_schedule': 0.0, 'reg_schedule': 2.4387096774193546}\n",
      "Epoch 138:\t Time: 3972.94 \t(per epoch: 28.58)\n"
     ]
    },
    {
     "name": "stderr",
     "output_type": "stream",
     "text": [
      "Epoch 140:  93%|█████████▎| 4480/4800.0 [1:06:41<03:28,  1.53it/s]"
     ]
    },
    {
     "name": "stdout",
     "output_type": "stream",
     "text": [
      "{'mse_loss': tensor(34.4710, device='cuda:0'), 'base_loss': tensor(34.4710, device='cuda:0'), 'exp_schedule': 0.0, 'reg_schedule': 2.4612903225806453}\n",
      "{'mse_loss': tensor(17.6395, device='cuda:0'), 'base_loss': tensor(17.6395, device='cuda:0'), 'exp_schedule': 0.0, 'reg_schedule': 2.4612903225806453}\n",
      "Epoch 139:\t Time: 4001.11 \t(per epoch: 28.58)\n"
     ]
    },
    {
     "name": "stderr",
     "output_type": "stream",
     "text": [
      "Epoch 141:  94%|█████████▍| 4512/4800.0 [1:07:09<03:05,  1.55it/s]"
     ]
    },
    {
     "name": "stdout",
     "output_type": "stream",
     "text": [
      "{'mse_loss': tensor(34.3911, device='cuda:0'), 'base_loss': tensor(34.3911, device='cuda:0'), 'exp_schedule': 0.0, 'reg_schedule': 2.483870967741936}\n",
      "{'mse_loss': tensor(21.9380, device='cuda:0'), 'base_loss': tensor(21.9380, device='cuda:0'), 'exp_schedule': 0.0, 'reg_schedule': 2.483870967741936}\n",
      "Epoch 140:\t Time: 4029.67 \t(per epoch: 28.58)\n"
     ]
    },
    {
     "name": "stderr",
     "output_type": "stream",
     "text": [
      "Epoch 142:  95%|█████████▍| 4544/4800.0 [1:07:37<02:45,  1.54it/s]"
     ]
    },
    {
     "name": "stdout",
     "output_type": "stream",
     "text": [
      "{'mse_loss': tensor(29.7681, device='cuda:0'), 'base_loss': tensor(29.7681, device='cuda:0'), 'exp_schedule': 0.0, 'reg_schedule': 2.5064516129032257}\n",
      "{'mse_loss': tensor(19.4220, device='cuda:0'), 'base_loss': tensor(19.4220, device='cuda:0'), 'exp_schedule': 0.0, 'reg_schedule': 2.5064516129032257}\n",
      "Epoch 141:\t Time: 4057.99 \t(per epoch: 28.58)\n"
     ]
    },
    {
     "name": "stderr",
     "output_type": "stream",
     "text": [
      "Epoch 143:  95%|█████████▌| 4576/4800.0 [1:08:06<02:25,  1.54it/s]"
     ]
    },
    {
     "name": "stdout",
     "output_type": "stream",
     "text": [
      "{'mse_loss': tensor(46.4198, device='cuda:0'), 'base_loss': tensor(46.4198, device='cuda:0'), 'exp_schedule': 0.0, 'reg_schedule': 2.529032258064516}\n",
      "{'mse_loss': tensor(33.5737, device='cuda:0'), 'base_loss': tensor(33.5737, device='cuda:0'), 'exp_schedule': 0.0, 'reg_schedule': 2.529032258064516}\n",
      "Epoch 142:\t Time: 4086.23 \t(per epoch: 28.58)\n"
     ]
    },
    {
     "name": "stderr",
     "output_type": "stream",
     "text": [
      "Epoch 144:  96%|█████████▌| 4608/4800.0 [1:08:34<02:04,  1.54it/s]"
     ]
    },
    {
     "name": "stdout",
     "output_type": "stream",
     "text": [
      "{'mse_loss': tensor(31.4346, device='cuda:0'), 'base_loss': tensor(31.4346, device='cuda:0'), 'exp_schedule': 0.0, 'reg_schedule': 2.5516129032258066}\n",
      "{'mse_loss': tensor(20.9975, device='cuda:0'), 'base_loss': tensor(20.9975, device='cuda:0'), 'exp_schedule': 0.0, 'reg_schedule': 2.5516129032258066}\n",
      "Epoch 143:\t Time: 4114.60 \t(per epoch: 28.57)\n"
     ]
    },
    {
     "name": "stderr",
     "output_type": "stream",
     "text": [
      "Epoch 145:  97%|█████████▋| 4640/4800.0 [1:09:02<01:43,  1.54it/s]"
     ]
    },
    {
     "name": "stdout",
     "output_type": "stream",
     "text": [
      "{'mse_loss': tensor(16.6732, device='cuda:0'), 'base_loss': tensor(16.6732, device='cuda:0'), 'exp_schedule': 0.0, 'reg_schedule': 2.574193548387097}\n",
      "{'mse_loss': tensor(21.8894, device='cuda:0'), 'base_loss': tensor(21.8894, device='cuda:0'), 'exp_schedule': 0.0, 'reg_schedule': 2.574193548387097}\n",
      "Epoch 144:\t Time: 4142.81 \t(per epoch: 28.57)\n"
     ]
    },
    {
     "name": "stderr",
     "output_type": "stream",
     "text": [
      "Epoch 146:  97%|█████████▋| 4672/4800.0 [1:09:31<01:22,  1.54it/s]"
     ]
    },
    {
     "name": "stdout",
     "output_type": "stream",
     "text": [
      "{'mse_loss': tensor(34.9745, device='cuda:0'), 'base_loss': tensor(34.9745, device='cuda:0'), 'exp_schedule': 0.0, 'reg_schedule': 2.5967741935483875}\n",
      "{'mse_loss': tensor(20.7118, device='cuda:0'), 'base_loss': tensor(20.7118, device='cuda:0'), 'exp_schedule': 0.0, 'reg_schedule': 2.5967741935483875}\n",
      "Epoch 145:\t Time: 4171.01 \t(per epoch: 28.57)\n"
     ]
    },
    {
     "name": "stderr",
     "output_type": "stream",
     "text": [
      "Epoch 147:  98%|█████████▊| 4704/4800.0 [1:09:59<01:01,  1.55it/s]"
     ]
    },
    {
     "name": "stdout",
     "output_type": "stream",
     "text": [
      "{'mse_loss': tensor(36.3723, device='cuda:0'), 'base_loss': tensor(36.3723, device='cuda:0'), 'exp_schedule': 0.0, 'reg_schedule': 2.6193548387096772}\n",
      "{'mse_loss': tensor(20.1468, device='cuda:0'), 'base_loss': tensor(20.1468, device='cuda:0'), 'exp_schedule': 0.0, 'reg_schedule': 2.6193548387096772}\n",
      "Epoch 146:\t Time: 4199.14 \t(per epoch: 28.57)\n"
     ]
    },
    {
     "name": "stderr",
     "output_type": "stream",
     "text": [
      "Epoch 148:  99%|█████████▊| 4736/4800.0 [1:10:27<00:41,  1.53it/s]"
     ]
    },
    {
     "name": "stdout",
     "output_type": "stream",
     "text": [
      "{'mse_loss': tensor(28.9110, device='cuda:0'), 'base_loss': tensor(28.9110, device='cuda:0'), 'exp_schedule': 0.0, 'reg_schedule': 2.641935483870968}\n",
      "{'mse_loss': tensor(18.8447, device='cuda:0'), 'base_loss': tensor(18.8447, device='cuda:0'), 'exp_schedule': 0.0, 'reg_schedule': 2.641935483870968}\n",
      "Epoch 147:\t Time: 4227.31 \t(per epoch: 28.56)\n"
     ]
    },
    {
     "name": "stderr",
     "output_type": "stream",
     "text": [
      "Epoch 149:  99%|█████████▉| 4768/4800.0 [1:10:55<00:20,  1.55it/s]"
     ]
    },
    {
     "name": "stdout",
     "output_type": "stream",
     "text": [
      "{'mse_loss': tensor(36.2710, device='cuda:0'), 'base_loss': tensor(36.2710, device='cuda:0'), 'exp_schedule': 0.0, 'reg_schedule': 2.6645161290322577}\n",
      "{'mse_loss': tensor(19.7400, device='cuda:0'), 'base_loss': tensor(19.7400, device='cuda:0'), 'exp_schedule': 0.0, 'reg_schedule': 2.6645161290322577}\n",
      "Epoch 148:\t Time: 4255.44 \t(per epoch: 28.56)\n"
     ]
    },
    {
     "name": "stderr",
     "output_type": "stream",
     "text": [
      "Epoch 149: 100%|██████████| 4800/4800.0 [1:11:19<00:00,  1.55it/s]"
     ]
    },
    {
     "name": "stdout",
     "output_type": "stream",
     "text": [
      "{'mse_loss': tensor(32.4092, device='cuda:0'), 'base_loss': tensor(32.4092, device='cuda:0'), 'exp_schedule': 0.0, 'reg_schedule': 2.6870967741935483}\n",
      "{'mse_loss': tensor(25.8056, device='cuda:0'), 'base_loss': tensor(25.8056, device='cuda:0'), 'exp_schedule': 0.0, 'reg_schedule': 2.6870967741935483}\n",
      "Epoch 149:\t Time: 4283.57 \t(per epoch: 28.56)\n"
     ]
    }
   ],
   "source": [
    "save_models = True\n",
    "n_epochs = 150\n",
    "\n",
    "pbar = tqdm(total=n_epochs*(np.minimum(dataset.frames_to_keep, len(dataset.train_indices))/batch_size))\n",
    "\n",
    "t0 = time.time()\n",
    "for e in range(n_epochs):\n",
    "    pbar.set_description(f'Epoch {e}')\n",
    "    loss_values_train = {}\n",
    "    loss_values_val = {}\n",
    "\n",
    "    for mkey in models.keys():\n",
    "        models[mkey].reset_running_train_loss()\n",
    "        models[mkey].reset_running_val_loss()\n",
    "\n",
    "    for sample in train_loader: \n",
    "        for key in sample:\n",
    "            sample[key] = sample[key].to(device)\n",
    "        \n",
    "        for mkey in models.keys():\n",
    "            models[mkey].training_step(sample, epoch=e) # loss.backward() and optimizer step occur in here\n",
    "        \n",
    "        pbar.update(1)\n",
    "\n",
    "    for sample in validation_loader:\n",
    "        for key in sample:\n",
    "            sample[key] = sample[key].to(device)\n",
    "    \n",
    "        for mkey in models.keys():\n",
    "            models[mkey].validation_step(sample, epoch=e)\n",
    "\n",
    "    for mkey in models.keys():\n",
    "        models[mkey].scheduler.step()\n",
    "        \n",
    "\n",
    "    print(\"Epoch %u:\\t Time: %0.2f \\t(per epoch: %0.2f)\"%(e, time.time()-t0, (time.time()-t0)/(e+1)))\n",
    "    print('Loss: m0 '+str(models[0].get_running_val_loss()['mse_loss']) +'m1 '+str(models[1].get_running_val_loss()['mse_loss']))\n",
    "    \n",
    "    # SAVE\n",
    "    if save_models:\n",
    "        # Log in tensorboard\n",
    "        # for mkey in models.keys():\n",
    "        #     model[mkey].log_images(epoch=e)\n",
    "        #     model[mkey].log_scalars(epoch=e) \n",
    "            \n",
    "        # Save models\n",
    "        if e%(logger_params['save_model_freq'])==0 or e==n_epochs-1: \n",
    "            torch.save({'model': model.state_dict(),\n",
    "                        'model_kwargs': model_kwargs,\n",
    "                        'model_name': model.name,\n",
    "                        'model_idx': model.index,\n",
    "                        'dataset_kwargs': dataset_kwargs,\n",
    "                        'test_cells': dataset.test_cells,\n",
    "                        }, \n",
    "                       os.path.join( model.logdir, 'model.pt') )\n"
   ]
  },
  {
   "cell_type": "markdown",
   "id": "43d0a343-64ea-4f12-b07d-0dd9da32884c",
   "metadata": {},
   "source": [
    "# Plot prediction on train cell"
   ]
  },
  {
   "cell_type": "code",
   "execution_count": 18,
   "id": "21d3857c-e082-4687-b306-6468aa1b4233",
   "metadata": {},
   "outputs": [
    {
     "name": "stdout",
     "output_type": "stream",
     "text": [
      "{'crop_size': 960, 'output_channels': 6, 'norm_output': {'rescale': 0.25, 'threshold': 0.4}, 'rotate': False}\n"
     ]
    }
   ],
   "source": [
    "import tifffile\n",
    "from utils.data67_processing import CellDataset, SubsetSampler\n",
    "\n",
    "modelinfo = torch.load('/net/projects/CLS/force_reference/gitcodes/cell_force_prediction/tensorboard_logs/model_p2z_150ep_loss_0/model.pt',  map_location=torch.device('cpu'))\n",
    "\n",
    "dataset_kwargs = modelinfo['dataset_kwargs']\n",
    "test_cells = dataset_kwargs['test_cells']\n",
    "\n",
    "modelinfo['dataset_kwargs']['root'] = '/net/projects/CLS/force_reference/data/TractionData_27_04_21_ZyxinPaxillin/'\n",
    "modelinfo['dataset_kwargs']['transform_kwargs']['crop_size'] = 960\n",
    "modelinfo['dataset_kwargs']['transform_kwargs']['rotate'] = False\n",
    "\n",
    "model = UNet(**modelinfo['model_kwargs'], model_idx = 0)\n",
    "\n",
    "model.load_state_dict(modelinfo['model'])\n",
    "\n",
    "dataset = CellDataset(**modelinfo['dataset_kwargs'])\n",
    "\n",
    "sampler = SubsetSampler(np.arange(len(dataset)))\n",
    "loader = torch.utils.data.DataLoader(dataset, \n",
    "    batch_size=1,\n",
    "    shuffle=False,\n",
    "    sampler=sampler,\n",
    "    pin_memory=True)\n",
    "\n",
    "for cell in ['cell_1','cell_2','cell_4','cell_5']:\n",
    "    for frame in range(30):  \n",
    "\n",
    "        idx = np.sort(dataset.info[dataset.info.folder==cell].index.values)\n",
    "        idx = idx[frame]\n",
    "\n",
    "        model.eval()\n",
    "        model.to(torch.device('cuda:0'))\n",
    "\n",
    "        sample = dataset[idx]\n",
    "        for k in sample:\n",
    "            sample[k] = sample[k].unsqueeze(0).to(torch.device('cuda:0'))\n",
    "\n",
    "        preds = []\n",
    "        for _ in range(5):\n",
    "            pred = model(model.select_inputs(model.input_type, sample)).detach().cpu().numpy().squeeze()\n",
    "            preds.append(pred)\n",
    "            \n",
    "        pred = np.mean(preds, axis=0) \n",
    "        target = sample['output'].detach().cpu().numpy().squeeze() \n",
    "        zyx = sample['zyxin'].detach().cpu().numpy().squeeze()\n",
    "        pax = sample['actin'].detach().cpu().numpy().squeeze()\n",
    "\n",
    "\n",
    "        fig,ax=plt.subplots(1,3,figsize=(8, 3*1), dpi=200)\n",
    "\n",
    "        ax[0].set_title('Paxillin')\n",
    "        ax[0].imshow(pax,  cmap='gray', vmax=pax.max()/4, vmin=0)\n",
    "        if cell == 'cell_1':\n",
    "            ax[0].set_xlabel('Testing set: ' + cell)\n",
    "        else:\n",
    "            ax[0].set_xlabel('Training set: ' + cell)\n",
    "            \n",
    "            \n",
    "        ax[1].set_title('Zyxin-Exp')\n",
    "        ax[1].imshow(zyx, cmap='gray', vmax=zyx.max()/4, vmin=0)\n",
    "        ax[1].set_xlabel('Frame '+ str(frame))\n",
    "        \n",
    "        ax[2].set_title('Zyxin-NN')\n",
    "        ax[2].imshow(pred.squeeze()[0],  cmap='gray', vmax=pred.squeeze()[0].max()/4, vmin=0)\n",
    "\n",
    "\n",
    "        tifffile.imsave(os.path.join('/net/projects/CLS/force_reference/pax2zyxin_prediction/tiff',cell + '_frame'+str(frame)+'.tif'),pred.squeeze()[0]/5)\n",
    "        \n",
    "        for a in ax.flat:\n",
    "            a.set_xticks([])\n",
    "            a.set_yticks([])\n",
    "                    \n",
    "        fig.savefig(os.path.join('/net/projects/CLS/force_reference/pax2zyxin_prediction/plot', cell + '_frame'+str(frame)+'.png'))\n",
    "        plt.close(fig) \n",
    "\n",
    "# transform_kwargs = {'crop_size': 960,\n",
    "#                     'output_channels': out_channels,\n",
    "#                     'norm_output': {'rescale': 1, 'threshold': 0.4},\n",
    "#                     'rotate': False\n",
    "#                     }\n",
    "\n",
    "# dataset_kwargs = { \n",
    "#                     'root': directory,\n",
    "#                     'force_load': False,\n",
    "#                     'test_split': 'bycell',\n",
    "#                     'test_cells': test_cells,\n",
    "#                     'in_channels': in_channels, \n",
    "#                     'out_channels': out_channels, \n",
    "#                     'transform_kwargs': transform_kwargs,\n",
    "#                     'frames_to_keep': 256,\n",
    "#                     'input_baseline_normalization': 'outside_inside', # Comment on what these do\n",
    "#                     'output_baseline_normalization': 'mean_dataset',\n",
    "#                     'remake_dataset_csv': True\n",
    "#                      }\n",
    "\n",
    "# model = models['zyxin1']\n",
    "\n",
    "# eval_dataset_kwargs = dataset_kwargs\n",
    "# eval_dataset_kwargs['exclude_frames'] = None\n",
    "# dataset_eval = dp.CellDataset( **eval_dataset_kwargs )\n",
    "\n",
    "# for cell in ['cell_1','cell_2','cell_4','cell_5']:\n",
    "#     for frame in range(30):   \n",
    "       \n",
    "\n",
    "\n",
    "#         # cell = 'cell_2'\n",
    "#         # frame = 1\n",
    "\n",
    "#         idx = dataset_eval.info.index[(dataset_eval.info.folder==cell)&(dataset_eval.info.frame==frame)].tolist()[0] # Get index in dataframe that contains the right cell and frame.\n",
    "\n",
    "\n",
    "#         sample = dataset_eval[idx] # get item\n",
    "\n",
    "#         input_image = model.select_inputs(model.input_type, sample).unsqueeze(0).to(device)\n",
    "#         # print(input_image.shape)\n",
    "\n",
    "#         pred = model(input_image).detach().cpu().numpy()\n",
    "\n",
    "#         # print(pred.shape)\n",
    "\n",
    "#         # fig,ax=plt.subplots(1,3,figsize=(8, 3*1), dpi=200)\n",
    "\n",
    "#         # ax[0].set_title('Zyxin')\n",
    "#         # ax[0].imshow(sample['zyxin'].squeeze(), origin='lower', cmap='gray', vmax=4, vmin=0)\n",
    "\n",
    "#         # ax[1].set_title('Paxillin-Exp')\n",
    "#         # ax[1].imshow(sample['actin'].squeeze(), origin='lower', cmap='gray', vmax=4, vmin=0)\n",
    "\n",
    "#         # ax[2].set_title('Paxillin-NN')\n",
    "#         # ax[2].imshow(pred.squeeze()[0], origin='lower', cmap='gray', vmax=4, vmin=0)\n",
    "\n",
    "        \n",
    "#         # tifffile.imsave(os.path.join('/net/projects/CLS/force_reference/zyxin2pax_prediction/tiff',cell + '_frame'+str(frame)+'.tif'),pred.squeeze()[0]/5)\n",
    "        \n",
    "#         # for a in ax.flat:\n",
    "#         #     a.set_xticks([])\n",
    "#         #     a.set_yticks([])\n",
    "                    \n",
    "#         # fig.savefig(os.path.join('/net/projects/CLS/force_reference/zyxin2pax_prediction/plot', cell + '_frame'+str(frame)+'.png'))\n",
    "#         # plt.close(fig) \n",
    "        "
   ]
  },
  {
   "cell_type": "code",
   "execution_count": null,
   "id": "59a98f6b",
   "metadata": {},
   "outputs": [],
   "source": [
    "# fig,ax=plt.subplots(1,3,figsize=(8, 3*1), dpi=200)\n",
    "\n",
    "# model = models['zyxin2']\n",
    "\n",
    "# eval_dataset_kwargs = dataset_kwargs\n",
    "# eval_dataset_kwargs['transform_kwargs']['crop_size'] = 960\n",
    "# eval_dataset_kwargs['exclude_frames'] = None\n",
    "# dataset_eval = dp.CellDataset( **eval_dataset_kwargs )\n",
    "\n",
    "# cell = 'cell_1'\n",
    "# frame = 0\n",
    "\n",
    "\n",
    "# idx = dataset_eval.info.index[(dataset_eval.info.folder==cell)&(dataset_eval.info.frame==frame)].tolist()[0] # Get index in dataframe that contains the right cell and frame.\n",
    "\n",
    "\n",
    "# sample = dataset_eval[idx] # get item\n",
    "\n",
    "# input_image = model.select_inputs(model.input_type, sample).unsqueeze(0).to(device)\n",
    "# print(input_image.shape)\n",
    "\n",
    "# pred = model(input_image).detach().cpu().numpy()\n",
    "\n",
    "# print(pred.shape)\n",
    "\n",
    "\n",
    "# ax[0].set_title('Zyxin')\n",
    "# ax[0].imshow(sample['zyxin'].squeeze(), origin='lower', cmap='gray', vmax=10, vmin=0)\n",
    "\n",
    "# ax[1].set_title('Paxillin-Exp')\n",
    "# ax[1].imshow(sample['actin'].squeeze(), origin='lower', cmap='gray', vmax=10, vmin=0)\n",
    "\n",
    "# ax[2].set_title('Paxillin-NN')\n",
    "# ax[2].imshow(pred.squeeze()[0], origin='lower', cmap='gray', vmax=5, vmin=0)\n",
    "\n",
    "# for a in ax.flat:\n",
    "#     a.set_xticks([])\n",
    "#     a.set_yticks([])"
   ]
  }
 ],
 "metadata": {
  "kernelspec": {
   "display_name": "Python 3 (ipykernel)",
   "language": "python",
   "name": "python3"
  },
  "language_info": {
   "codemirror_mode": {
    "name": "ipython",
    "version": 3
   },
   "file_extension": ".py",
   "mimetype": "text/x-python",
   "name": "python",
   "nbconvert_exporter": "python",
   "pygments_lexer": "ipython3",
   "version": "3.12.2"
  }
 },
 "nbformat": 4,
 "nbformat_minor": 5
}
